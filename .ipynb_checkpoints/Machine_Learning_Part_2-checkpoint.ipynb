{
 "cells": [
  {
   "cell_type": "code",
   "execution_count": 1,
   "id": "1d59672d",
   "metadata": {},
   "outputs": [],
   "source": [
    "import pandas as pd \n",
    "import numpy as np\n",
    "import matplotlib.pyplot as plt\n",
    "import seaborn as sns\n",
    "\n",
    "import warnings\n",
    "\n",
    "warnings.filterwarnings(\"ignore\")"
   ]
  },
  {
   "cell_type": "markdown",
   "id": "f7d3724b",
   "metadata": {},
   "source": [
    "## Combining Results "
   ]
  },
  {
   "cell_type": "code",
   "execution_count": 2,
   "id": "25e367e5",
   "metadata": {},
   "outputs": [],
   "source": [
    "fingerprints = pd.read_csv('resources/descriptors_output.csv')"
   ]
  },
  {
   "cell_type": "code",
   "execution_count": 3,
   "id": "9c454dba",
   "metadata": {},
   "outputs": [],
   "source": [
    "fingerprints.rename({'Name': 'molecule_chembl_id'}, axis = 1, inplace = True)"
   ]
  },
  {
   "cell_type": "code",
   "execution_count": 4,
   "id": "306a1036",
   "metadata": {},
   "outputs": [],
   "source": [
    "bioactivity = pd.read_csv('Resources/bioactivity.csv')\n",
    "bioactivity = bioactivity[['molecule_chembl_id', 'pIC50']]"
   ]
  },
  {
   "cell_type": "code",
   "execution_count": 5,
   "id": "0aadf2ab",
   "metadata": {},
   "outputs": [],
   "source": [
    "cleaned_df = pd.merge(fingerprints, bioactivity, on = 'molecule_chembl_id')"
   ]
  },
  {
   "cell_type": "code",
   "execution_count": 6,
   "id": "9c7de741",
   "metadata": {},
   "outputs": [
    {
     "data": {
      "text/html": [
       "<div>\n",
       "<style scoped>\n",
       "    .dataframe tbody tr th:only-of-type {\n",
       "        vertical-align: middle;\n",
       "    }\n",
       "\n",
       "    .dataframe tbody tr th {\n",
       "        vertical-align: top;\n",
       "    }\n",
       "\n",
       "    .dataframe thead th {\n",
       "        text-align: right;\n",
       "    }\n",
       "</style>\n",
       "<table border=\"1\" class=\"dataframe\">\n",
       "  <thead>\n",
       "    <tr style=\"text-align: right;\">\n",
       "      <th></th>\n",
       "      <th>molecule_chembl_id</th>\n",
       "      <th>PubchemFP0</th>\n",
       "      <th>PubchemFP1</th>\n",
       "      <th>PubchemFP2</th>\n",
       "      <th>PubchemFP3</th>\n",
       "      <th>PubchemFP4</th>\n",
       "      <th>PubchemFP5</th>\n",
       "      <th>PubchemFP6</th>\n",
       "      <th>PubchemFP7</th>\n",
       "      <th>PubchemFP8</th>\n",
       "      <th>...</th>\n",
       "      <th>PubchemFP872</th>\n",
       "      <th>PubchemFP873</th>\n",
       "      <th>PubchemFP874</th>\n",
       "      <th>PubchemFP875</th>\n",
       "      <th>PubchemFP876</th>\n",
       "      <th>PubchemFP877</th>\n",
       "      <th>PubchemFP878</th>\n",
       "      <th>PubchemFP879</th>\n",
       "      <th>PubchemFP880</th>\n",
       "      <th>pIC50</th>\n",
       "    </tr>\n",
       "  </thead>\n",
       "  <tbody>\n",
       "    <tr>\n",
       "      <th>0</th>\n",
       "      <td>CHEMBL1077291</td>\n",
       "      <td>1</td>\n",
       "      <td>1</td>\n",
       "      <td>0</td>\n",
       "      <td>0</td>\n",
       "      <td>0</td>\n",
       "      <td>0</td>\n",
       "      <td>0</td>\n",
       "      <td>0</td>\n",
       "      <td>0</td>\n",
       "      <td>...</td>\n",
       "      <td>0</td>\n",
       "      <td>0</td>\n",
       "      <td>0</td>\n",
       "      <td>0</td>\n",
       "      <td>0</td>\n",
       "      <td>0</td>\n",
       "      <td>0</td>\n",
       "      <td>0</td>\n",
       "      <td>0</td>\n",
       "      <td>7.823909</td>\n",
       "    </tr>\n",
       "    <tr>\n",
       "      <th>1</th>\n",
       "      <td>CHEMBL1083839</td>\n",
       "      <td>1</td>\n",
       "      <td>1</td>\n",
       "      <td>0</td>\n",
       "      <td>0</td>\n",
       "      <td>0</td>\n",
       "      <td>0</td>\n",
       "      <td>0</td>\n",
       "      <td>0</td>\n",
       "      <td>0</td>\n",
       "      <td>...</td>\n",
       "      <td>0</td>\n",
       "      <td>0</td>\n",
       "      <td>0</td>\n",
       "      <td>0</td>\n",
       "      <td>0</td>\n",
       "      <td>0</td>\n",
       "      <td>0</td>\n",
       "      <td>0</td>\n",
       "      <td>0</td>\n",
       "      <td>5.000000</td>\n",
       "    </tr>\n",
       "  </tbody>\n",
       "</table>\n",
       "<p>2 rows × 883 columns</p>\n",
       "</div>"
      ],
      "text/plain": [
       "  molecule_chembl_id  PubchemFP0  PubchemFP1  PubchemFP2  PubchemFP3  \\\n",
       "0      CHEMBL1077291           1           1           0           0   \n",
       "1      CHEMBL1083839           1           1           0           0   \n",
       "\n",
       "   PubchemFP4  PubchemFP5  PubchemFP6  PubchemFP7  PubchemFP8  ...  \\\n",
       "0           0           0           0           0           0  ...   \n",
       "1           0           0           0           0           0  ...   \n",
       "\n",
       "   PubchemFP872  PubchemFP873  PubchemFP874  PubchemFP875  PubchemFP876  \\\n",
       "0             0             0             0             0             0   \n",
       "1             0             0             0             0             0   \n",
       "\n",
       "   PubchemFP877  PubchemFP878  PubchemFP879  PubchemFP880     pIC50  \n",
       "0             0             0             0             0  7.823909  \n",
       "1             0             0             0             0  5.000000  \n",
       "\n",
       "[2 rows x 883 columns]"
      ]
     },
     "execution_count": 6,
     "metadata": {},
     "output_type": "execute_result"
    }
   ],
   "source": [
    "cleaned_df.head(2)"
   ]
  },
  {
   "cell_type": "code",
   "execution_count": 7,
   "id": "21656cc2",
   "metadata": {},
   "outputs": [],
   "source": [
    "cleaned_df.drop('molecule_chembl_id', axis = 1, inplace = True)"
   ]
  },
  {
   "cell_type": "markdown",
   "id": "1106e312",
   "metadata": {},
   "source": [
    "## Input Features "
   ]
  },
  {
   "cell_type": "markdown",
   "id": "63b4ead6",
   "metadata": {},
   "source": [
    "* There data set condatins 880 inputs and one variable (pIC50). However, not are inputs are created equal - for instance, if a input does not have much variation accross IDs - we need to remove it, as it would be unnessary noise for "
   ]
  },
  {
   "cell_type": "markdown",
   "id": "2a1b4732",
   "metadata": {},
   "source": [
    "### Principle Component Analysis "
   ]
  },
  {
   "cell_type": "code",
   "execution_count": 8,
   "id": "8d810dcf",
   "metadata": {},
   "outputs": [],
   "source": [
    "x = cleaned_df.iloc[:, :-1]"
   ]
  },
  {
   "cell_type": "code",
   "execution_count": 9,
   "id": "57316407",
   "metadata": {},
   "outputs": [],
   "source": [
    "from sklearn.decomposition import PCA\n",
    "\n",
    "pca = PCA(n_components = 0.95)\n",
    "pca.fit(x)\n",
    "reduced = pca.transform(x)"
   ]
  },
  {
   "cell_type": "code",
   "execution_count": 10,
   "id": "5d92ceb7",
   "metadata": {
    "scrolled": true
   },
   "outputs": [
    {
     "data": {
      "image/png": "[encoded data removed]",
      "text/plain": [
       "<Figure size 720x360 with 1 Axes>"
      ]
     },
     "metadata": {
      "needs_background": "light"
     },
     "output_type": "display_data"
    }
   ],
   "source": [
    "plt.figure(figsize=(10, 5))\n",
    "\n",
    "y = np.cumsum(pca.explained_variance_ratio_)\n",
    "\n",
    "plt.ylim(0.0,1.1)\n",
    "plt.plot( y, marker='o', linestyle='--', color='b')\n",
    "\n",
    "plt.xlabel('Number of Components')\n",
    "plt.ylabel('Cumulative variance (%)')\n",
    "plt.title('The number of components needed to explain variance')\n",
    "\n",
    "plt.axhline(y=0.90, color='r', linestyle='-')\n",
    "plt.text(0.5, 0.85, '95% cut-off threshold', color = 'red', fontsize=16)\n",
    "plt.savefig('Output/figures/PCA_Analysis.pdf')\n",
    "plt.show()"
   ]
  },
  {
   "cell_type": "code",
   "execution_count": 11,
   "id": "af12a229",
   "metadata": {},
   "outputs": [],
   "source": [
    "reduced_df = pd.DataFrame(reduced)"
   ]
  },
  {
   "cell_type": "code",
   "execution_count": 12,
   "id": "26d30a02",
   "metadata": {},
   "outputs": [],
   "source": [
    "reduced_df['pIC50'] = cleaned_df['pIC50']"
   ]
  },
  {
   "cell_type": "markdown",
   "id": "61e70b18",
   "metadata": {},
   "source": [
    "## Machine Learning Models "
   ]
  },
  {
   "cell_type": "code",
   "execution_count": 13,
   "id": "fb3f7efd",
   "metadata": {},
   "outputs": [],
   "source": [
    "X = reduced_df.iloc[:, :-1]\n",
    "Y = reduced_df.iloc[:, -1]"
   ]
  },
  {
   "cell_type": "code",
   "execution_count": 14,
   "id": "135656cb",
   "metadata": {},
   "outputs": [],
   "source": [
    "from sklearn.model_selection import train_test_split\n",
    "from sklearn.ensemble import RandomForestRegressor\n",
    "from sklearn.metrics import mean_squared_error\n",
    "from sklearn.metrics import r2_score"
   ]
  },
  {
   "cell_type": "code",
   "execution_count": 15,
   "id": "9d8494bd",
   "metadata": {},
   "outputs": [],
   "source": [
    "X_train, X_test, Y_train, Y_test = train_test_split(X, Y, test_size=0.2, random_state = 1)"
   ]
  },
  {
   "cell_type": "markdown",
   "id": "ff1498d3",
   "metadata": {},
   "source": [
    "### 1.1 Linear Regression"
   ]
  },
  {
   "cell_type": "code",
   "execution_count": 16,
   "id": "9640bd81",
   "metadata": {},
   "outputs": [],
   "source": [
    "from sklearn.linear_model import LinearRegression"
   ]
  },
  {
   "cell_type": "code",
   "execution_count": 17,
   "id": "12c9f3e2",
   "metadata": {},
   "outputs": [],
   "source": [
    "def lr(X_train, Y_train, X_test, Y_test):\n",
    "    model = LinearRegression()\n",
    "    model.fit(X_train, Y_train)\n",
    "    Y_pred = model.predict(X_test)\n",
    "    mse = mean_squared_error(Y_test, Y_pred)\n",
    "    return mse, Y_test, Y_pred"
   ]
  },
  {
   "cell_type": "code",
   "execution_count": 18,
   "id": "895d4bae",
   "metadata": {},
   "outputs": [],
   "source": [
    "mse, Y_test_lin, Y_pred_lin = lr(X_train, Y_train, X_test, Y_test)"
   ]
  },
  {
   "cell_type": "code",
   "execution_count": 19,
   "id": "e538ce30",
   "metadata": {},
   "outputs": [
    {
     "data": {
      "image/png": "[encoded data removed]",
      "text/plain": [
       "<Figure size 360x360 with 1 Axes>"
      ]
     },
     "metadata": {},
     "output_type": "display_data"
    }
   ],
   "source": [
    "sns.set(color_codes=True)\n",
    "sns.set_style(\"white\")\n",
    "\n",
    "ax = sns.regplot(Y_test_lin, Y_pred_lin, scatter_kws={'alpha':0.4})\n",
    "ax.set_xlabel('Experimental pIC50', fontsize='large', fontweight='bold')\n",
    "ax.set_ylabel('Predicted pIC50', fontsize='large', fontweight='bold')\n",
    "ax.set_xlim(4, 10)\n",
    "ax.set_ylim(0, 12)\n",
    "ax.figure.set_size_inches(5, 5)\n",
    "plt.savefig('Output/figures/LinearRegression.pdf')\n",
    "plt.show()"
   ]
  },
  {
   "cell_type": "code",
   "execution_count": 20,
   "id": "594f3411",
   "metadata": {},
   "outputs": [
    {
     "data": {
      "text/plain": [
       "0.2657303542335476"
      ]
     },
     "execution_count": 20,
     "metadata": {},
     "output_type": "execute_result"
    }
   ],
   "source": [
    "r2_score(Y_test_lin, Y_pred_lin)"
   ]
  },
  {
   "cell_type": "markdown",
   "id": "360d62f3",
   "metadata": {},
   "source": [
    "### 1.2 Random Forest"
   ]
  },
  {
   "cell_type": "code",
   "execution_count": 21,
   "id": "05474662",
   "metadata": {},
   "outputs": [],
   "source": [
    "def RandomForest(X_train, Y_train, X_test, Y_test, min_sample, max_depth, bootstrap):\n",
    "    model = RandomForestRegressor(min_samples_leaf = min_sample, max_depth= max_depth, bootstrap = bootstrap)\n",
    "    model.fit(X_train, Y_train)\n",
    "    Y_pred = model.predict(X_test)\n",
    "    pred = model.predict(X_train)\n",
    "    mse = mean_squared_error(Y_test, Y_pred)\n",
    "    \n",
    "    # Overfitting \n",
    "    mse_overfit_check = mean_squared_error(pred, Y_train)\n",
    "    \n",
    "    return mse, mse_overfit_check"
   ]
  },
  {
   "cell_type": "code",
   "execution_count": 22,
   "id": "6aa87f56",
   "metadata": {},
   "outputs": [],
   "source": [
    "mse, mse_overfit_check = RandomForest(X_train, Y_train, X_test, Y_test, min_sample = 2, max_depth = 10, bootstrap = True)"
   ]
  },
  {
   "cell_type": "markdown",
   "id": "c42db072",
   "metadata": {},
   "source": [
    "### Hyper Optimization of Random Forest"
   ]
  },
  {
   "cell_type": "code",
   "execution_count": 23,
   "id": "eaf9377e",
   "metadata": {},
   "outputs": [],
   "source": [
    "hyper_optimize = []\n",
    "\n",
    "for i in [2, 4, 6, 8, 10]:\n",
    "    for x in [2, 10, 20, 30, 40, 50, 60, 70, 80, 90, 100]:\n",
    "            mse, mse_overfit_check = RandomForest(X_train, Y_train, X_test, Y_test, min_sample = i, max_depth = x, bootstrap = True)\n",
    "            hyper_optimize.append([i, x, mse, mse_overfit_check])\n",
    "\n",
    "df_hyper = pd.DataFrame(hyper_optimize, columns = ['min_sample', 'depth', 'mse', 'mse_overfit_check'])"
   ]
  },
  {
   "cell_type": "code",
   "execution_count": 24,
   "id": "21ee4d2e",
   "metadata": {},
   "outputs": [
    {
     "data": {
      "text/html": [
       "<div>\n",
       "<style scoped>\n",
       "    .dataframe tbody tr th:only-of-type {\n",
       "        vertical-align: middle;\n",
       "    }\n",
       "\n",
       "    .dataframe tbody tr th {\n",
       "        vertical-align: top;\n",
       "    }\n",
       "\n",
       "    .dataframe thead th {\n",
       "        text-align: right;\n",
       "    }\n",
       "</style>\n",
       "<table border=\"1\" class=\"dataframe\">\n",
       "  <thead>\n",
       "    <tr style=\"text-align: right;\">\n",
       "      <th></th>\n",
       "      <th>min_sample</th>\n",
       "      <th>depth</th>\n",
       "      <th>mse</th>\n",
       "      <th>mse_overfit_check</th>\n",
       "    </tr>\n",
       "  </thead>\n",
       "  <tbody>\n",
       "    <tr>\n",
       "      <th>8</th>\n",
       "      <td>2</td>\n",
       "      <td>80</td>\n",
       "      <td>0.846067</td>\n",
       "      <td>0.149060</td>\n",
       "    </tr>\n",
       "    <tr>\n",
       "      <th>4</th>\n",
       "      <td>2</td>\n",
       "      <td>40</td>\n",
       "      <td>0.848876</td>\n",
       "      <td>0.152862</td>\n",
       "    </tr>\n",
       "    <tr>\n",
       "      <th>28</th>\n",
       "      <td>6</td>\n",
       "      <td>60</td>\n",
       "      <td>0.848917</td>\n",
       "      <td>0.290137</td>\n",
       "    </tr>\n",
       "    <tr>\n",
       "      <th>16</th>\n",
       "      <td>4</td>\n",
       "      <td>50</td>\n",
       "      <td>0.850984</td>\n",
       "      <td>0.219298</td>\n",
       "    </tr>\n",
       "    <tr>\n",
       "      <th>9</th>\n",
       "      <td>2</td>\n",
       "      <td>90</td>\n",
       "      <td>0.852019</td>\n",
       "      <td>0.149337</td>\n",
       "    </tr>\n",
       "  </tbody>\n",
       "</table>\n",
       "</div>"
      ],
      "text/plain": [
       "    min_sample  depth       mse  mse_overfit_check\n",
       "8            2     80  0.846067           0.149060\n",
       "4            2     40  0.848876           0.152862\n",
       "28           6     60  0.848917           0.290137\n",
       "16           4     50  0.850984           0.219298\n",
       "9            2     90  0.852019           0.149337"
      ]
     },
     "execution_count": 24,
     "metadata": {},
     "output_type": "execute_result"
    }
   ],
   "source": [
    "df_hyper.sort_values(by = 'mse').head()"
   ]
  },
  {
   "cell_type": "markdown",
   "id": "e3434942",
   "metadata": {},
   "source": [
    " Based on our hyperoptimization tests, a min_sample of 2 and max_depth of 4 has the lowest mse. Further, the mse and the mse of the overfit check are signifcantly different from each other. This suggests that the model does not suffer from overfitting."
   ]
  },
  {
   "cell_type": "code",
   "execution_count": 25,
   "id": "5cb74a55",
   "metadata": {},
   "outputs": [],
   "source": [
    "def RandomForest_optimized(X_train, Y_train, X_test, Y_test, min_sample, max_depth, bootstrap):\n",
    "    model = RandomForestRegressor(min_samples_leaf = min_sample, max_depth= max_depth, bootstrap = bootstrap)\n",
    "    model.fit(X_train, Y_train)\n",
    "    Y_pred = model.predict(X_test)\n",
    "    pred = model.predict(X_train)\n",
    "    mse = mean_squared_error(Y_test, Y_pred)\n",
    "\n",
    "    return Y_pred, Y_test"
   ]
  },
  {
   "cell_type": "code",
   "execution_count": 26,
   "id": "e03d3cd3",
   "metadata": {},
   "outputs": [],
   "source": [
    "Y_test_final, Y_Pred_final = RandomForest_optimized(X_train, Y_train, X_test, Y_test, min_sample = 2, max_depth = 90, bootstrap = True)"
   ]
  },
  {
   "cell_type": "code",
   "execution_count": 27,
   "id": "23b19adf",
   "metadata": {},
   "outputs": [
    {
     "data": {
      "image/png": "[encoded data removed]",
      "text/plain": [
       "<Figure size 360x360 with 1 Axes>"
      ]
     },
     "metadata": {},
     "output_type": "display_data"
    }
   ],
   "source": [
    "import seaborn as sns\n",
    "import matplotlib.pyplot as plt\n",
    "\n",
    "sns.set(color_codes=True)\n",
    "sns.set_style(\"white\")\n",
    "\n",
    "ax = sns.regplot(Y_test_final, Y_Pred_final, scatter_kws={'alpha':0.4})\n",
    "ax.set_xlabel('Experimental pIC50', fontsize='large', fontweight='bold')\n",
    "ax.set_ylabel('Predicted pIC50', fontsize='large', fontweight='bold')\n",
    "ax.set_xlim(4, 10)\n",
    "ax.set_ylim(0, 12)\n",
    "ax.figure.set_size_inches(5, 5)\n",
    "plt.savefig('Output/figures/RandomForest.pdf')\n",
    "plt.show()"
   ]
  },
  {
   "cell_type": "code",
   "execution_count": 28,
   "id": "39539138",
   "metadata": {},
   "outputs": [
    {
     "data": {
      "text/plain": [
       "0.3854790660675689"
      ]
     },
     "execution_count": 28,
     "metadata": {},
     "output_type": "execute_result"
    }
   ],
   "source": [
    "r2_score(Y_Pred_final, Y_test_final)"
   ]
  },
  {
   "cell_type": "markdown",
   "id": "0201b952",
   "metadata": {},
   "source": [
    "### 1.3 Neural Network "
   ]
  },
  {
   "cell_type": "code",
   "execution_count": 29,
   "id": "2268abd6",
   "metadata": {},
   "outputs": [],
   "source": [
    "from sklearn.neural_network import MLPRegressor\n",
    "from sklearn.model_selection import GridSearchCV\n",
    "from sklearn.model_selection import cross_val_score, KFold"
   ]
  },
  {
   "cell_type": "code",
   "execution_count": 30,
   "id": "e2c73408",
   "metadata": {},
   "outputs": [],
   "source": [
    "param_grid = [\n",
    "        {\n",
    "            'activation' : ['identity', 'logistic', 'tanh', 'relu'],\n",
    "            'solver' : ['lbfgs', 'sgd', 'adam'],\n",
    "            'hidden_layer_sizes': [\n",
    "             (8,), (16,), (32,), (64,), (128,), (256,)\n",
    "             ]\n",
    "        }\n",
    "       ]"
   ]
  },
  {
   "cell_type": "code",
   "execution_count": 31,
   "id": "d9e2336d",
   "metadata": {},
   "outputs": [
    {
     "name": "stdout",
     "output_type": "stream",
     "text": [
      "Best parameters set found on development set:\n",
      "{'activation': 'logistic', 'hidden_layer_sizes': (128,), 'solver': 'sgd'}\n"
     ]
    }
   ],
   "source": [
    "clf = GridSearchCV(MLPRegressor(), param_grid, cv=4,\n",
    "                           scoring = 'r2')\n",
    "clf.fit(X[X.columns], Y)\n",
    "\n",
    "\n",
    "print(\"Best parameters set found on development set:\")\n",
    "print(clf.best_params_)"
   ]
  },
  {
   "cell_type": "code",
   "execution_count": 32,
   "id": "66c87586",
   "metadata": {},
   "outputs": [
    {
     "name": "stdout",
     "output_type": "stream",
     "text": [
      "0.3541662043437491 0.7167898250597545\n"
     ]
    }
   ],
   "source": [
    "mpl = MLPRegressor(hidden_layer_sizes=(64,), activation = 'relu', solver = 'sgd', random_state = 1)\n",
    "mpl.fit(X_train[X_train.columns], Y_train)\n",
    "prediction = mpl.predict(X_test[X_test.columns])\n",
    "prediction_train = mpl.predict(X_train[X_train.columns])\n",
    "\n",
    "accuracy1 = r2_score(Y_test, prediction)\n",
    "accuracy2 = r2_score(Y_train, prediction_train)\n",
    "\n",
    "print(accuracy1, accuracy2)"
   ]
  },
  {
   "cell_type": "markdown",
   "id": "11f8e608",
   "metadata": {},
   "source": [
    "Looks like neural network does only slightly better than linear regression but worse than random forest tree. Better to expirement with mutiple layers. "
   ]
  },
  {
   "cell_type": "markdown",
   "id": "8506a536",
   "metadata": {},
   "source": [
    "## Two Layer Neural Network"
   ]
  },
  {
   "cell_type": "code",
   "execution_count": 33,
   "id": "550d9c99",
   "metadata": {},
   "outputs": [],
   "source": [
    "param_grid = [\n",
    "        {\n",
    "            'activation' : ['relu'],\n",
    "            'solver' : ['lbfgs', 'sgd', 'adam'],\n",
    "            'hidden_layer_sizes': [\n",
    "             (16,16), (64,64), (128,128), (256,256)\n",
    "             ]\n",
    "        }\n",
    "       ]"
   ]
  },
  {
   "cell_type": "code",
   "execution_count": 34,
   "id": "f9e604ce",
   "metadata": {},
   "outputs": [
    {
     "name": "stdout",
     "output_type": "stream",
     "text": [
      "Best parameters set found on development set:\n",
      "{'activation': 'relu', 'hidden_layer_sizes': (256, 256), 'solver': 'sgd'}\n"
     ]
    }
   ],
   "source": [
    "clf = GridSearchCV(MLPRegressor(), param_grid, cv=4,\n",
    "                           scoring = 'r2')\n",
    "clf.fit(X[X.columns], Y)\n",
    "\n",
    "\n",
    "print(\"Best parameters set found on development set:\")\n",
    "print(clf.best_params_)"
   ]
  },
  {
   "cell_type": "code",
   "execution_count": 35,
   "id": "58c21943",
   "metadata": {},
   "outputs": [
    {
     "name": "stdout",
     "output_type": "stream",
     "text": [
      "0.41252826320891867 0.8123408088045567\n"
     ]
    }
   ],
   "source": [
    "mpl = MLPRegressor(hidden_layer_sizes = (128,128), activation = 'relu', solver = 'sgd', random_state = 1)\n",
    "mpl.fit(X_train[X_train.columns], Y_train)\n",
    "prediction = mpl.predict(X_test[X_test.columns])\n",
    "prediction_train = mpl.predict(X_train[X_train.columns])\n",
    "\n",
    "accuracy1 = r2_score(Y_test, prediction)\n",
    "accuracy2 = r2_score(Y_train, prediction_train)\n",
    "\n",
    "print(accuracy1, accuracy2)"
   ]
  },
  {
   "cell_type": "markdown",
   "id": "75173348",
   "metadata": {},
   "source": [
    "A neural network with two layers is only slightly better than RandomForest."
   ]
  },
  {
   "cell_type": "markdown",
   "id": "f956c694",
   "metadata": {},
   "source": [
    "## Three Layer Neural Network "
   ]
  },
  {
   "cell_type": "code",
   "execution_count": 36,
   "id": "2d59a826",
   "metadata": {},
   "outputs": [],
   "source": [
    "neural_arch = [(16,16,16), (64,64, 64), (128,128, 128), (256,256, 256)]\n",
    "table = []\n",
    "\n",
    "for neuron in neural_arch:\n",
    "    mpl = MLPRegressor(hidden_layer_sizes = neuron, activation = 'relu', solver = 'sgd', random_state= 1)\n",
    "    mpl.fit(X_train[X_train.columns], Y_train)\n",
    "    prediction = mpl.predict(X_test[X_test.columns])\n",
    "    prediction_train = mpl.predict(X_train[X_train.columns])\n",
    "\n",
    "    accuracy1 = r2_score(Y_test, prediction)\n",
    "    accuracy2 = r2_score(Y_train, prediction_train)\n",
    "\n",
    "    table.append([neuron, accuracy1, accuracy2])"
   ]
  },
  {
   "cell_type": "code",
   "execution_count": 37,
   "id": "2f5a728e",
   "metadata": {},
   "outputs": [
    {
     "data": {
      "text/html": [
       "<div>\n",
       "<style scoped>\n",
       "    .dataframe tbody tr th:only-of-type {\n",
       "        vertical-align: middle;\n",
       "    }\n",
       "\n",
       "    .dataframe tbody tr th {\n",
       "        vertical-align: top;\n",
       "    }\n",
       "\n",
       "    .dataframe thead th {\n",
       "        text-align: right;\n",
       "    }\n",
       "</style>\n",
       "<table border=\"1\" class=\"dataframe\">\n",
       "  <thead>\n",
       "    <tr style=\"text-align: right;\">\n",
       "      <th></th>\n",
       "      <th>Neuron_Arch</th>\n",
       "      <th>Prediction_Test</th>\n",
       "      <th>Prediction_Train</th>\n",
       "    </tr>\n",
       "  </thead>\n",
       "  <tbody>\n",
       "    <tr>\n",
       "      <th>0</th>\n",
       "      <td>(16, 16, 16)</td>\n",
       "      <td>0.287272</td>\n",
       "      <td>0.705554</td>\n",
       "    </tr>\n",
       "    <tr>\n",
       "      <th>1</th>\n",
       "      <td>(64, 64, 64)</td>\n",
       "      <td>0.375309</td>\n",
       "      <td>0.811626</td>\n",
       "    </tr>\n",
       "    <tr>\n",
       "      <th>2</th>\n",
       "      <td>(128, 128, 128)</td>\n",
       "      <td>0.351691</td>\n",
       "      <td>0.837371</td>\n",
       "    </tr>\n",
       "    <tr>\n",
       "      <th>3</th>\n",
       "      <td>(256, 256, 256)</td>\n",
       "      <td>0.549322</td>\n",
       "      <td>0.867786</td>\n",
       "    </tr>\n",
       "  </tbody>\n",
       "</table>\n",
       "</div>"
      ],
      "text/plain": [
       "       Neuron_Arch  Prediction_Test  Prediction_Train\n",
       "0     (16, 16, 16)         0.287272          0.705554\n",
       "1     (64, 64, 64)         0.375309          0.811626\n",
       "2  (128, 128, 128)         0.351691          0.837371\n",
       "3  (256, 256, 256)         0.549322          0.867786"
      ]
     },
     "execution_count": 37,
     "metadata": {},
     "output_type": "execute_result"
    }
   ],
   "source": [
    "table_df = pd.DataFrame(table, columns = ['Neuron_Arch', 'Prediction_Test', 'Prediction_Train'])\n",
    "table_df.head()"
   ]
  },
  {
   "cell_type": "markdown",
   "id": "a0ce39f6",
   "metadata": {},
   "source": [
    "* Three Layer Neural Network may predict better than RandomForest, and LinearRegression but the difference between predictions of trained vs test suggest an overfitted model. L2 Regularization is needed to reduce overfitting. "
   ]
  },
  {
   "cell_type": "markdown",
   "id": "850cac7a",
   "metadata": {},
   "source": [
    "### L2 Regularization "
   ]
  },
  {
   "cell_type": "code",
   "execution_count": 38,
   "id": "b2da8617",
   "metadata": {},
   "outputs": [],
   "source": [
    "alpha = [0.1, 0.25, 0.5, 0.75, 1, 2]\n",
    "\n",
    "alpha_values = []\n",
    "test_prediction = []\n",
    "train_prediction = []\n",
    "\n",
    "for a in alpha:\n",
    "    mpl = MLPRegressor(hidden_layer_sizes = (256, 256, 256), activation = 'relu', solver = 'sgd', alpha = a, random_state= 1)\n",
    "    mpl.fit(X_train[X_train.columns], Y_train)\n",
    "    prediction = mpl.predict(X_test[X_test.columns])\n",
    "    prediction_train = mpl.predict(X_train[X_train.columns])\n",
    "\n",
    "    accuracy1 = r2_score(Y_test, prediction)\n",
    "    accuracy2 = r2_score(Y_train, prediction_train)\n",
    "\n",
    "    alpha_values.append(a)\n",
    "    test_prediction.append(accuracy1)\n",
    "    train_prediction.append(accuracy2)"
   ]
  },
  {
   "cell_type": "code",
   "execution_count": 39,
   "id": "e65d8184",
   "metadata": {
    "scrolled": true
   },
   "outputs": [
    {
     "data": {
      "image/png": "[encoded data removed]",
      "text/plain": [
       "<Figure size 432x288 with 1 Axes>"
      ]
     },
     "metadata": {},
     "output_type": "display_data"
    }
   ],
   "source": [
    "sns.scatterplot(alpha_values, test_prediction, hue = train_prediction, markers = True)\n",
    "plt.xlabel('alpha')\n",
    "plt.ylabel('r2 score')\n",
    "plt.xticks(alpha)\n",
    "plt.xticks(rotation= 90, ha='right')\n",
    "plt.show()"
   ]
  },
  {
   "cell_type": "markdown",
   "id": "86e46d94",
   "metadata": {},
   "source": [
    "An alpha value of 0.1 to 0.75 should be selected for further testing, before performance drops."
   ]
  },
  {
   "cell_type": "markdown",
   "id": "74c614a2",
   "metadata": {},
   "source": [
    "### Cross-Validation "
   ]
  },
  {
   "cell_type": "code",
   "execution_count": 40,
   "id": "fa01dbde",
   "metadata": {},
   "outputs": [],
   "source": [
    "def cross_validate(features, label):\n",
    "    \n",
    "    # k_value testing \n",
    "    alpha = [0.1, 0.25, 0.50, 0.75, 2]\n",
    "    neural_archway = [(128,128, 128), (256,256, 256)]\n",
    "    scores = []\n",
    "    \n",
    "    for a in alpha:\n",
    "        for n in neural_archway:\n",
    "            \n",
    "            kf = KFold(n_splits = 4, shuffle = True, random_state = 1)\n",
    "\n",
    "            mpl = MLPRegressor(hidden_layer_sizes = n, activation = 'relu', solver = 'sgd', alpha = a)\n",
    "\n",
    "            scoring = cross_val_score(mpl, features[features.columns], label,\n",
    "                scoring = 'r2', cv = kf)\n",
    "        \n",
    "            scoring = np.mean(scoring)\n",
    "        \n",
    "            scores.append([n, a, scoring])\n",
    "        \n",
    "    return scores"
   ]
  },
  {
   "cell_type": "code",
   "execution_count": 41,
   "id": "ffce687c",
   "metadata": {},
   "outputs": [],
   "source": [
    "cross_val = cross_validate(X, Y)"
   ]
  },
  {
   "cell_type": "code",
   "execution_count": 42,
   "id": "483f72e4",
   "metadata": {},
   "outputs": [
    {
     "data": {
      "text/html": [
       "<div>\n",
       "<style scoped>\n",
       "    .dataframe tbody tr th:only-of-type {\n",
       "        vertical-align: middle;\n",
       "    }\n",
       "\n",
       "    .dataframe tbody tr th {\n",
       "        vertical-align: top;\n",
       "    }\n",
       "\n",
       "    .dataframe thead th {\n",
       "        text-align: right;\n",
       "    }\n",
       "</style>\n",
       "<table border=\"1\" class=\"dataframe\">\n",
       "  <thead>\n",
       "    <tr style=\"text-align: right;\">\n",
       "      <th></th>\n",
       "      <th>neuron_arch</th>\n",
       "      <th>alpha</th>\n",
       "      <th>avg_r2</th>\n",
       "    </tr>\n",
       "  </thead>\n",
       "  <tbody>\n",
       "    <tr>\n",
       "      <th>0</th>\n",
       "      <td>(128, 128, 128)</td>\n",
       "      <td>0.10</td>\n",
       "      <td>0.388596</td>\n",
       "    </tr>\n",
       "    <tr>\n",
       "      <th>1</th>\n",
       "      <td>(256, 256, 256)</td>\n",
       "      <td>0.10</td>\n",
       "      <td>0.431483</td>\n",
       "    </tr>\n",
       "    <tr>\n",
       "      <th>2</th>\n",
       "      <td>(128, 128, 128)</td>\n",
       "      <td>0.25</td>\n",
       "      <td>0.410815</td>\n",
       "    </tr>\n",
       "    <tr>\n",
       "      <th>3</th>\n",
       "      <td>(256, 256, 256)</td>\n",
       "      <td>0.25</td>\n",
       "      <td>0.438232</td>\n",
       "    </tr>\n",
       "    <tr>\n",
       "      <th>4</th>\n",
       "      <td>(128, 128, 128)</td>\n",
       "      <td>0.50</td>\n",
       "      <td>0.392734</td>\n",
       "    </tr>\n",
       "    <tr>\n",
       "      <th>5</th>\n",
       "      <td>(256, 256, 256)</td>\n",
       "      <td>0.50</td>\n",
       "      <td>0.461105</td>\n",
       "    </tr>\n",
       "    <tr>\n",
       "      <th>6</th>\n",
       "      <td>(128, 128, 128)</td>\n",
       "      <td>0.75</td>\n",
       "      <td>0.438360</td>\n",
       "    </tr>\n",
       "    <tr>\n",
       "      <th>7</th>\n",
       "      <td>(256, 256, 256)</td>\n",
       "      <td>0.75</td>\n",
       "      <td>0.462616</td>\n",
       "    </tr>\n",
       "  </tbody>\n",
       "</table>\n",
       "</div>"
      ],
      "text/plain": [
       "       neuron_arch  alpha    avg_r2\n",
       "0  (128, 128, 128)   0.10  0.388596\n",
       "1  (256, 256, 256)   0.10  0.431483\n",
       "2  (128, 128, 128)   0.25  0.410815\n",
       "3  (256, 256, 256)   0.25  0.438232\n",
       "4  (128, 128, 128)   0.50  0.392734\n",
       "5  (256, 256, 256)   0.50  0.461105\n",
       "6  (128, 128, 128)   0.75  0.438360\n",
       "7  (256, 256, 256)   0.75  0.462616"
      ]
     },
     "execution_count": 42,
     "metadata": {},
     "output_type": "execute_result"
    }
   ],
   "source": [
    "df_cross = pd.DataFrame(cross_val, columns = ['neuron_arch', 'alpha', 'avg_r2'])\n",
    "df_cross"
   ]
  },
  {
   "cell_type": "code",
   "execution_count": 50,
   "id": "02f1a2f0",
   "metadata": {},
   "outputs": [],
   "source": [
    "mpl = MLPRegressor(hidden_layer_sizes = (256, 256, 256), activation = 'relu', solver = 'sgd', alpha = 2, random_state = 1)\n",
    "mpl.fit(X_train[X_train.columns], Y_train)\n",
    "prediction = mpl.predict(X_test[X_test.columns])"
   ]
  },
  {
   "cell_type": "code",
   "execution_count": 51,
   "id": "9d3949c0",
   "metadata": {},
   "outputs": [
    {
     "data": {
      "image/png": "[encoded data removed]",
      "text/plain": [
       "<Figure size 360x360 with 1 Axes>"
      ]
     },
     "metadata": {},
     "output_type": "display_data"
    }
   ],
   "source": [
    "sns.set(color_codes=True)\n",
    "sns.set_style(\"white\")\n",
    "\n",
    "ax = sns.regplot(Y_test, prediction, scatter_kws={'alpha':0.4})\n",
    "ax.set_xlabel('Experimental pIC50', fontsize='large', fontweight='bold')\n",
    "ax.set_ylabel('Predicted pIC50', fontsize='large', fontweight='bold')\n",
    "ax.set_xlim(4, 10)\n",
    "ax.set_ylim(0, 12)\n",
    "ax.figure.set_size_inches(5, 5)\n",
    "plt.savefig('Output/figures/RandomForest.pdf')\n",
    "plt.show()"
   ]
  },
  {
   "cell_type": "code",
   "execution_count": 52,
   "id": "94dda368",
   "metadata": {},
   "outputs": [
    {
     "name": "stdout",
     "output_type": "stream",
     "text": [
      "0.5380335230092423\n"
     ]
    }
   ],
   "source": [
    "print(r2_score(Y_test, prediction))"
   ]
  },
  {
   "cell_type": "code",
   "execution_count": null,
   "id": "410bee19",
   "metadata": {},
   "outputs": [],
   "source": []
  }
 ],
 "metadata": {
  "kernelspec": {
   "display_name": "Python 3 (ipykernel)",
   "language": "python",
   "name": "python3"
  },
  "language_info": {
   "codemirror_mode": {
    "name": "ipython",
    "version": 3
   },
   "file_extension": ".py",
   "mimetype": "text/x-python",
   "name": "python",
   "nbconvert_exporter": "python",
   "pygments_lexer": "ipython3",
   "version": "3.9.12"
  }
 },
 "nbformat": 4,
 "nbformat_minor": 5
}
