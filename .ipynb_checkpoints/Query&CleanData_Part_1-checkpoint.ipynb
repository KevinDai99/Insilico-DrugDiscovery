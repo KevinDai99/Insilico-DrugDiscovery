{
 "cells": [
  {
   "cell_type": "code",
   "execution_count": 1,
   "id": "f7c5dbe6",
   "metadata": {},
   "outputs": [],
   "source": [
    "import pandas as pd\n",
    "import numpy as np "
   ]
  },
  {
   "cell_type": "markdown",
   "id": "ba27b178",
   "metadata": {},
   "source": [
    "# ChEMBL Database\n",
    "----\n",
    "\n",
    "**ChEMBL: a large-scale bioactivity database for drug discovery**\n",
    "Anna Gaulton,1 Louisa J. Bellis,1 A. Patricia Bento,1 Jon Chambers,1 Mark Davies,1 Anne Hersey,1 Yvonne Light,1 Shaun McGlinchey,1 David Michalovich,2 Bissan Al-Lazikani,3 and John P. Overington1,*\n",
    "\n",
    "ChEMBL is an Open Data database containing binding, functional and ADMET information for a large number of drug-like bioactive compounds. These data are manually abstracted from the primary published literature on a regular basis, then further curated and standardized to maximize their quality and utility across a wide range of chemical biology and drug-discovery research problems. Currently, the database contains **5.4 million bioactivity measurements for more than 1 million compounds and 5200 protein targets. Access is available through a web-based interface, data downloads and web services at: https://www.ebi.ac.uk/chembldb.**"
   ]
  },
  {
   "cell_type": "code",
   "execution_count": 2,
   "id": "652cb9bd",
   "metadata": {},
   "outputs": [],
   "source": [
    "from chembl_webresource_client.new_client import new_client"
   ]
  },
  {
   "cell_type": "markdown",
   "id": "75af4feb",
   "metadata": {},
   "source": [
    "## Acute Myeloid Leukemia "
   ]
  },
  {
   "cell_type": "code",
   "execution_count": 3,
   "id": "08c39113",
   "metadata": {},
   "outputs": [
    {
     "data": {
      "text/html": [
       "<div>\n",
       "<style scoped>\n",
       "    .dataframe tbody tr th:only-of-type {\n",
       "        vertical-align: middle;\n",
       "    }\n",
       "\n",
       "    .dataframe tbody tr th {\n",
       "        vertical-align: top;\n",
       "    }\n",
       "\n",
       "    .dataframe thead th {\n",
       "        text-align: right;\n",
       "    }\n",
       "</style>\n",
       "<table border=\"1\" class=\"dataframe\">\n",
       "  <thead>\n",
       "    <tr style=\"text-align: right;\">\n",
       "      <th></th>\n",
       "      <th>cross_references</th>\n",
       "      <th>organism</th>\n",
       "      <th>pref_name</th>\n",
       "      <th>score</th>\n",
       "      <th>species_group_flag</th>\n",
       "      <th>target_chembl_id</th>\n",
       "      <th>target_components</th>\n",
       "      <th>target_type</th>\n",
       "      <th>tax_id</th>\n",
       "    </tr>\n",
       "  </thead>\n",
       "  <tbody>\n",
       "    <tr>\n",
       "      <th>0</th>\n",
       "      <td>[]</td>\n",
       "      <td>Mus musculus</td>\n",
       "      <td>Receptor-type tyrosine-protein kinase FLT3</td>\n",
       "      <td>18.0</td>\n",
       "      <td>False</td>\n",
       "      <td>CHEMBL2034796</td>\n",
       "      <td>[{'accession': 'Q00342', 'component_descriptio...</td>\n",
       "      <td>SINGLE PROTEIN</td>\n",
       "      <td>10090</td>\n",
       "    </tr>\n",
       "    <tr>\n",
       "      <th>1</th>\n",
       "      <td>[{'xref_id': 'P36888', 'xref_name': None, 'xre...</td>\n",
       "      <td>Homo sapiens</td>\n",
       "      <td>Tyrosine-protein kinase receptor FLT3</td>\n",
       "      <td>16.0</td>\n",
       "      <td>False</td>\n",
       "      <td>CHEMBL1974</td>\n",
       "      <td>[{'accession': 'P36888', 'component_descriptio...</td>\n",
       "      <td>SINGLE PROTEIN</td>\n",
       "      <td>9606</td>\n",
       "    </tr>\n",
       "    <tr>\n",
       "      <th>2</th>\n",
       "      <td>[]</td>\n",
       "      <td>Homo sapiens</td>\n",
       "      <td>VHL/FLT3</td>\n",
       "      <td>15.0</td>\n",
       "      <td>False</td>\n",
       "      <td>CHEMBL4523735</td>\n",
       "      <td>[{'accession': 'P36888', 'component_descriptio...</td>\n",
       "      <td>PROTEIN-PROTEIN INTERACTION</td>\n",
       "      <td>9606</td>\n",
       "    </tr>\n",
       "    <tr>\n",
       "      <th>3</th>\n",
       "      <td>[]</td>\n",
       "      <td>Homo sapiens</td>\n",
       "      <td>Protein cereblon/Tyrosine-protein kinase recep...</td>\n",
       "      <td>15.0</td>\n",
       "      <td>False</td>\n",
       "      <td>CHEMBL4630730</td>\n",
       "      <td>[{'accession': 'P36888', 'component_descriptio...</td>\n",
       "      <td>PROTEIN-PROTEIN INTERACTION</td>\n",
       "      <td>9606</td>\n",
       "    </tr>\n",
       "  </tbody>\n",
       "</table>\n",
       "</div>"
      ],
      "text/plain": [
       "                                    cross_references      organism  \\\n",
       "0                                                 []  Mus musculus   \n",
       "1  [{'xref_id': 'P36888', 'xref_name': None, 'xre...  Homo sapiens   \n",
       "2                                                 []  Homo sapiens   \n",
       "3                                                 []  Homo sapiens   \n",
       "\n",
       "                                           pref_name  score  \\\n",
       "0         Receptor-type tyrosine-protein kinase FLT3   18.0   \n",
       "1              Tyrosine-protein kinase receptor FLT3   16.0   \n",
       "2                                           VHL/FLT3   15.0   \n",
       "3  Protein cereblon/Tyrosine-protein kinase recep...   15.0   \n",
       "\n",
       "   species_group_flag target_chembl_id  \\\n",
       "0               False    CHEMBL2034796   \n",
       "1               False       CHEMBL1974   \n",
       "2               False    CHEMBL4523735   \n",
       "3               False    CHEMBL4630730   \n",
       "\n",
       "                                   target_components  \\\n",
       "0  [{'accession': 'Q00342', 'component_descriptio...   \n",
       "1  [{'accession': 'P36888', 'component_descriptio...   \n",
       "2  [{'accession': 'P36888', 'component_descriptio...   \n",
       "3  [{'accession': 'P36888', 'component_descriptio...   \n",
       "\n",
       "                   target_type  tax_id  \n",
       "0               SINGLE PROTEIN   10090  \n",
       "1               SINGLE PROTEIN    9606  \n",
       "2  PROTEIN-PROTEIN INTERACTION    9606  \n",
       "3  PROTEIN-PROTEIN INTERACTION    9606  "
      ]
     },
     "execution_count": 3,
     "metadata": {},
     "output_type": "execute_result"
    }
   ],
   "source": [
    "target = new_client.target\n",
    "target_query = target.search('FLT3')\n",
    "targets = pd.DataFrame(target_query)\n",
    "\n",
    "targets.head()"
   ]
  },
  {
   "cell_type": "markdown",
   "id": "022899b6",
   "metadata": {},
   "source": [
    "### Retrieve Bioactivity Data from Tyrosine-Protein-Kinase Receptor \n",
    "---\n",
    "\n",
    "IC50: The half maximal inhibitory concentration (IC50) is a measure of the potency of a substance in inhibiting a specific biological or biochemical function.\n",
    "\n",
    "* The smalller the value the better - less concentration needed for inhibition."
   ]
  },
  {
   "cell_type": "code",
   "execution_count": 4,
   "id": "427ed1dd",
   "metadata": {},
   "outputs": [],
   "source": [
    "activity = new_client.activity\n",
    "res = activity.filter(target_chembl_id = 'CHEMBL1974').filter(standard_type = 'IC50')"
   ]
  },
  {
   "cell_type": "code",
   "execution_count": 5,
   "id": "04bea2ad",
   "metadata": {},
   "outputs": [],
   "source": [
    "# Select first 1000 rows \n",
    "res = res[0:1000]"
   ]
  },
  {
   "cell_type": "code",
   "execution_count": 6,
   "id": "220cc590",
   "metadata": {},
   "outputs": [],
   "source": [
    "df = pd.DataFrame(res)"
   ]
  },
  {
   "cell_type": "code",
   "execution_count": 7,
   "id": "1779998b",
   "metadata": {},
   "outputs": [
    {
     "data": {
      "text/html": [
       "<div>\n",
       "<style scoped>\n",
       "    .dataframe tbody tr th:only-of-type {\n",
       "        vertical-align: middle;\n",
       "    }\n",
       "\n",
       "    .dataframe tbody tr th {\n",
       "        vertical-align: top;\n",
       "    }\n",
       "\n",
       "    .dataframe thead th {\n",
       "        text-align: right;\n",
       "    }\n",
       "</style>\n",
       "<table border=\"1\" class=\"dataframe\">\n",
       "  <thead>\n",
       "    <tr style=\"text-align: right;\">\n",
       "      <th></th>\n",
       "      <th>activity_comment</th>\n",
       "      <th>activity_id</th>\n",
       "      <th>activity_properties</th>\n",
       "      <th>assay_chembl_id</th>\n",
       "      <th>assay_description</th>\n",
       "      <th>assay_type</th>\n",
       "      <th>assay_variant_accession</th>\n",
       "      <th>assay_variant_mutation</th>\n",
       "      <th>bao_endpoint</th>\n",
       "      <th>bao_format</th>\n",
       "      <th>...</th>\n",
       "      <th>target_organism</th>\n",
       "      <th>target_pref_name</th>\n",
       "      <th>target_tax_id</th>\n",
       "      <th>text_value</th>\n",
       "      <th>toid</th>\n",
       "      <th>type</th>\n",
       "      <th>units</th>\n",
       "      <th>uo_units</th>\n",
       "      <th>upper_value</th>\n",
       "      <th>value</th>\n",
       "    </tr>\n",
       "  </thead>\n",
       "  <tbody>\n",
       "    <tr>\n",
       "      <th>0</th>\n",
       "      <td>None</td>\n",
       "      <td>866063</td>\n",
       "      <td>[]</td>\n",
       "      <td>CHEMBL766072</td>\n",
       "      <td>Inhibition of chimeric PDGF receptor with FLT-...</td>\n",
       "      <td>B</td>\n",
       "      <td>None</td>\n",
       "      <td>None</td>\n",
       "      <td>BAO_0000190</td>\n",
       "      <td>BAO_0000219</td>\n",
       "      <td>...</td>\n",
       "      <td>Homo sapiens</td>\n",
       "      <td>Tyrosine-protein kinase receptor FLT3</td>\n",
       "      <td>9606</td>\n",
       "      <td>None</td>\n",
       "      <td>None</td>\n",
       "      <td>IC50</td>\n",
       "      <td>uM</td>\n",
       "      <td>UO_0000065</td>\n",
       "      <td>None</td>\n",
       "      <td>0.128</td>\n",
       "    </tr>\n",
       "    <tr>\n",
       "      <th>1</th>\n",
       "      <td>None</td>\n",
       "      <td>872532</td>\n",
       "      <td>[]</td>\n",
       "      <td>CHEMBL766072</td>\n",
       "      <td>Inhibition of chimeric PDGF receptor with FLT-...</td>\n",
       "      <td>B</td>\n",
       "      <td>None</td>\n",
       "      <td>None</td>\n",
       "      <td>BAO_0000190</td>\n",
       "      <td>BAO_0000219</td>\n",
       "      <td>...</td>\n",
       "      <td>Homo sapiens</td>\n",
       "      <td>Tyrosine-protein kinase receptor FLT3</td>\n",
       "      <td>9606</td>\n",
       "      <td>None</td>\n",
       "      <td>None</td>\n",
       "      <td>IC50</td>\n",
       "      <td>uM</td>\n",
       "      <td>UO_0000065</td>\n",
       "      <td>None</td>\n",
       "      <td>0.22</td>\n",
       "    </tr>\n",
       "    <tr>\n",
       "      <th>2</th>\n",
       "      <td>None</td>\n",
       "      <td>872564</td>\n",
       "      <td>[]</td>\n",
       "      <td>CHEMBL766072</td>\n",
       "      <td>Inhibition of chimeric PDGF receptor with FLT-...</td>\n",
       "      <td>B</td>\n",
       "      <td>None</td>\n",
       "      <td>None</td>\n",
       "      <td>BAO_0000190</td>\n",
       "      <td>BAO_0000219</td>\n",
       "      <td>...</td>\n",
       "      <td>Homo sapiens</td>\n",
       "      <td>Tyrosine-protein kinase receptor FLT3</td>\n",
       "      <td>9606</td>\n",
       "      <td>None</td>\n",
       "      <td>None</td>\n",
       "      <td>IC50</td>\n",
       "      <td>uM</td>\n",
       "      <td>UO_0000065</td>\n",
       "      <td>None</td>\n",
       "      <td>8.79</td>\n",
       "    </tr>\n",
       "  </tbody>\n",
       "</table>\n",
       "<p>3 rows × 45 columns</p>\n",
       "</div>"
      ],
      "text/plain": [
       "  activity_comment  activity_id activity_properties assay_chembl_id  \\\n",
       "0             None       866063                  []    CHEMBL766072   \n",
       "1             None       872532                  []    CHEMBL766072   \n",
       "2             None       872564                  []    CHEMBL766072   \n",
       "\n",
       "                                   assay_description assay_type  \\\n",
       "0  Inhibition of chimeric PDGF receptor with FLT-...          B   \n",
       "1  Inhibition of chimeric PDGF receptor with FLT-...          B   \n",
       "2  Inhibition of chimeric PDGF receptor with FLT-...          B   \n",
       "\n",
       "  assay_variant_accession assay_variant_mutation bao_endpoint   bao_format  \\\n",
       "0                    None                   None  BAO_0000190  BAO_0000219   \n",
       "1                    None                   None  BAO_0000190  BAO_0000219   \n",
       "2                    None                   None  BAO_0000190  BAO_0000219   \n",
       "\n",
       "   ... target_organism                       target_pref_name target_tax_id  \\\n",
       "0  ...    Homo sapiens  Tyrosine-protein kinase receptor FLT3          9606   \n",
       "1  ...    Homo sapiens  Tyrosine-protein kinase receptor FLT3          9606   \n",
       "2  ...    Homo sapiens  Tyrosine-protein kinase receptor FLT3          9606   \n",
       "\n",
       "  text_value  toid  type  units    uo_units upper_value  value  \n",
       "0       None  None  IC50     uM  UO_0000065        None  0.128  \n",
       "1       None  None  IC50     uM  UO_0000065        None   0.22  \n",
       "2       None  None  IC50     uM  UO_0000065        None   8.79  \n",
       "\n",
       "[3 rows x 45 columns]"
      ]
     },
     "execution_count": 7,
     "metadata": {},
     "output_type": "execute_result"
    }
   ],
   "source": [
    "df.head(3)"
   ]
  },
  {
   "cell_type": "code",
   "execution_count": 8,
   "id": "62bbc1b5",
   "metadata": {},
   "outputs": [],
   "source": [
    "df = df[df['standard_value'].notnull()]"
   ]
  },
  {
   "cell_type": "code",
   "execution_count": 9,
   "id": "083d34be",
   "metadata": {},
   "outputs": [],
   "source": [
    "df.to_csv('resources/bioactivity_data.csv', index = False)"
   ]
  },
  {
   "cell_type": "markdown",
   "id": "b73d211a",
   "metadata": {},
   "source": [
    "## Classification"
   ]
  },
  {
   "cell_type": "code",
   "execution_count": 10,
   "id": "0a769b5e",
   "metadata": {},
   "outputs": [],
   "source": [
    "selection = ['molecule_chembl_id', 'canonical_smiles', 'standard_value']\n",
    "\n",
    "df = df[selection]\n",
    "\n",
    "df['standard_value'] = df['standard_value'].astype(float)"
   ]
  },
  {
   "cell_type": "code",
   "execution_count": 11,
   "id": "6799c32d",
   "metadata": {},
   "outputs": [
    {
     "data": {
      "text/plain": [
       "81"
      ]
     },
     "execution_count": 11,
     "metadata": {},
     "output_type": "execute_result"
    }
   ],
   "source": [
    "# Duplicate Assays - Take Average\n",
    "df.duplicated(subset = 'molecule_chembl_id').sum()"
   ]
  },
  {
   "cell_type": "code",
   "execution_count": 12,
   "id": "de520386",
   "metadata": {},
   "outputs": [],
   "source": [
    "df = df.pivot_table(index = selection[:2],\n",
    "                                values = selection[-1],\n",
    "                                aggfunc = np.mean).reset_index()"
   ]
  },
  {
   "cell_type": "code",
   "execution_count": 13,
   "id": "99218299",
   "metadata": {},
   "outputs": [],
   "source": [
    "def classification(df):\n",
    "    if df['standard_value'] >= 10000:\n",
    "        return 'inactive'\n",
    "    elif df['standard_value'] <= 1000:\n",
    "        return 'active'\n",
    "    else:\n",
    "        return 'intermediate'"
   ]
  },
  {
   "cell_type": "code",
   "execution_count": 14,
   "id": "fa58c904",
   "metadata": {},
   "outputs": [],
   "source": [
    "df['bioactivity_class'] = df.apply(classification, axis = 1)"
   ]
  },
  {
   "cell_type": "code",
   "execution_count": 15,
   "id": "49493542",
   "metadata": {},
   "outputs": [
    {
     "data": {
      "text/html": [
       "<div>\n",
       "<style scoped>\n",
       "    .dataframe tbody tr th:only-of-type {\n",
       "        vertical-align: middle;\n",
       "    }\n",
       "\n",
       "    .dataframe tbody tr th {\n",
       "        vertical-align: top;\n",
       "    }\n",
       "\n",
       "    .dataframe thead th {\n",
       "        text-align: right;\n",
       "    }\n",
       "</style>\n",
       "<table border=\"1\" class=\"dataframe\">\n",
       "  <thead>\n",
       "    <tr style=\"text-align: right;\">\n",
       "      <th></th>\n",
       "      <th>molecule_chembl_id</th>\n",
       "      <th>canonical_smiles</th>\n",
       "      <th>standard_value</th>\n",
       "      <th>bioactivity_class</th>\n",
       "    </tr>\n",
       "  </thead>\n",
       "  <tbody>\n",
       "    <tr>\n",
       "      <th>0</th>\n",
       "      <td>CHEMBL102301</td>\n",
       "      <td>COc1cc2ncnc(N3CCN(/C(S)=N\\Cc4ccc5c(c4)OCO5)CC3...</td>\n",
       "      <td>14900.0</td>\n",
       "      <td>inactive</td>\n",
       "    </tr>\n",
       "    <tr>\n",
       "      <th>1</th>\n",
       "      <td>CHEMBL102346</td>\n",
       "      <td>COc1cc2ncnc(N3CCN(C(=O)Nc4ccc(Oc5ccccc5)cc4)CC...</td>\n",
       "      <td>230.0</td>\n",
       "      <td>active</td>\n",
       "    </tr>\n",
       "    <tr>\n",
       "      <th>2</th>\n",
       "      <td>CHEMBL103307</td>\n",
       "      <td>O=C1Nc2ccccc2/C1=C\\c1ccc(O)cc1</td>\n",
       "      <td>1800.0</td>\n",
       "      <td>intermediate</td>\n",
       "    </tr>\n",
       "    <tr>\n",
       "      <th>3</th>\n",
       "      <td>CHEMBL103667</td>\n",
       "      <td>Cc1ccc(-n2nc(C(C)(C)C)cc2NC(=O)Nc2ccc(OCCN3CCO...</td>\n",
       "      <td>30000.0</td>\n",
       "      <td>inactive</td>\n",
       "    </tr>\n",
       "    <tr>\n",
       "      <th>4</th>\n",
       "      <td>CHEMBL104067</td>\n",
       "      <td>COc1cc2ncnc(N3CCN(C(=O)Nc4ccc(C(C)C)cc4)CC3)c2...</td>\n",
       "      <td>50.0</td>\n",
       "      <td>active</td>\n",
       "    </tr>\n",
       "  </tbody>\n",
       "</table>\n",
       "</div>"
      ],
      "text/plain": [
       "  molecule_chembl_id                                   canonical_smiles  \\\n",
       "0       CHEMBL102301  COc1cc2ncnc(N3CCN(/C(S)=N\\Cc4ccc5c(c4)OCO5)CC3...   \n",
       "1       CHEMBL102346  COc1cc2ncnc(N3CCN(C(=O)Nc4ccc(Oc5ccccc5)cc4)CC...   \n",
       "2       CHEMBL103307                     O=C1Nc2ccccc2/C1=C\\c1ccc(O)cc1   \n",
       "3       CHEMBL103667  Cc1ccc(-n2nc(C(C)(C)C)cc2NC(=O)Nc2ccc(OCCN3CCO...   \n",
       "4       CHEMBL104067  COc1cc2ncnc(N3CCN(C(=O)Nc4ccc(C(C)C)cc4)CC3)c2...   \n",
       "\n",
       "   standard_value bioactivity_class  \n",
       "0         14900.0          inactive  \n",
       "1           230.0            active  \n",
       "2          1800.0      intermediate  \n",
       "3         30000.0          inactive  \n",
       "4            50.0            active  "
      ]
     },
     "execution_count": 15,
     "metadata": {},
     "output_type": "execute_result"
    }
   ],
   "source": [
    "df.head()"
   ]
  },
  {
   "cell_type": "code",
   "execution_count": 16,
   "id": "d227c4b7",
   "metadata": {
    "scrolled": true
   },
   "outputs": [
    {
     "data": {
      "text/plain": [
       "active          654\n",
       "intermediate    129\n",
       "inactive        126\n",
       "Name: bioactivity_class, dtype: int64"
      ]
     },
     "execution_count": 16,
     "metadata": {},
     "output_type": "execute_result"
    }
   ],
   "source": [
    "df['bioactivity_class'].value_counts()"
   ]
  },
  {
   "cell_type": "markdown",
   "id": "31164e46",
   "metadata": {},
   "source": [
    "## Calculate Lipinski descriptors \n",
    "\n",
    "Lipinski's rule of five or Pfizer's rule of five is used to evaluate the druglikeness of acompound. Lipinski's rule is as stated in the following:\n",
    "\n",
    "* No more than 5 hydrogen bond donors (the total number of nitrogen-hydrogen and oxygen-hydrogen bonds)   \n",
    "* No more than 10 hydrogen bond acceptors (all nitrogen or oxygen atoms)\n",
    "* A molecular mass < 500 daltons         \n",
    "* A calculated octanol-water partition coefficient (Clog P) < 5\n",
    "\n",
    "The name 5 referes to all the values are mutiples of 5s"
   ]
  },
  {
   "cell_type": "markdown",
   "id": "0ea36e55",
   "metadata": {},
   "source": [
    "### Calculating Descriptors"
   ]
  },
  {
   "cell_type": "code",
   "execution_count": 17,
   "id": "b84455a8",
   "metadata": {},
   "outputs": [],
   "source": [
    "from rdkit import Chem\n",
    "from rdkit.Chem import Descriptors, Lipinski"
   ]
  },
  {
   "cell_type": "code",
   "execution_count": 18,
   "id": "9b70802d",
   "metadata": {},
   "outputs": [],
   "source": [
    "# Inspired by: https://codeocean.com/explore/capsules?query=tag:data-curation\n",
    "\n",
    "def lipinski(smiles, verbose=False):\n",
    "\n",
    "    moldata= []\n",
    "    for elem in smiles:\n",
    "        mol=Chem.MolFromSmiles(elem) \n",
    "        moldata.append(mol)\n",
    "       \n",
    "    baseData= np.arange(1,1)\n",
    "    i=0  \n",
    "    for mol in moldata:        \n",
    "       \n",
    "        desc_MolWt = Descriptors.MolWt(mol)\n",
    "        desc_MolLogP = Descriptors.MolLogP(mol)\n",
    "        desc_NumHDonors = Lipinski.NumHDonors(mol)\n",
    "        desc_NumHAcceptors = Lipinski.NumHAcceptors(mol)\n",
    "           \n",
    "        row = np.array([desc_MolWt,\n",
    "                        desc_MolLogP,\n",
    "                        desc_NumHDonors,\n",
    "                        desc_NumHAcceptors])   \n",
    "    \n",
    "        if(i==0):\n",
    "            baseData=row\n",
    "        else:\n",
    "            baseData=np.vstack([baseData, row])\n",
    "        i=i+1      \n",
    "    \n",
    "    columnNames=[\"MW\",\"LogP\",\"NumHDonors\",\"NumHAcceptors\"]   \n",
    "    descriptors = pd.DataFrame(data=baseData,columns=columnNames)\n",
    "    \n",
    "    return descriptors"
   ]
  },
  {
   "cell_type": "code",
   "execution_count": 19,
   "id": "5a85454d",
   "metadata": {},
   "outputs": [],
   "source": [
    "df_lipinski = lipinski(df['canonical_smiles'])"
   ]
  },
  {
   "cell_type": "code",
   "execution_count": 20,
   "id": "e872177c",
   "metadata": {},
   "outputs": [
    {
     "data": {
      "text/html": [
       "<div>\n",
       "<style scoped>\n",
       "    .dataframe tbody tr th:only-of-type {\n",
       "        vertical-align: middle;\n",
       "    }\n",
       "\n",
       "    .dataframe tbody tr th {\n",
       "        vertical-align: top;\n",
       "    }\n",
       "\n",
       "    .dataframe thead th {\n",
       "        text-align: right;\n",
       "    }\n",
       "</style>\n",
       "<table border=\"1\" class=\"dataframe\">\n",
       "  <thead>\n",
       "    <tr style=\"text-align: right;\">\n",
       "      <th></th>\n",
       "      <th>MW</th>\n",
       "      <th>LogP</th>\n",
       "      <th>NumHDonors</th>\n",
       "      <th>NumHAcceptors</th>\n",
       "    </tr>\n",
       "  </thead>\n",
       "  <tbody>\n",
       "    <tr>\n",
       "      <th>0</th>\n",
       "      <td>467.551</td>\n",
       "      <td>2.98370</td>\n",
       "      <td>1.0</td>\n",
       "      <td>8.0</td>\n",
       "    </tr>\n",
       "    <tr>\n",
       "      <th>1</th>\n",
       "      <td>485.544</td>\n",
       "      <td>4.79340</td>\n",
       "      <td>1.0</td>\n",
       "      <td>7.0</td>\n",
       "    </tr>\n",
       "    <tr>\n",
       "      <th>2</th>\n",
       "      <td>237.258</td>\n",
       "      <td>2.88490</td>\n",
       "      <td>2.0</td>\n",
       "      <td>2.0</td>\n",
       "    </tr>\n",
       "    <tr>\n",
       "      <th>3</th>\n",
       "      <td>527.669</td>\n",
       "      <td>5.98642</td>\n",
       "      <td>2.0</td>\n",
       "      <td>6.0</td>\n",
       "    </tr>\n",
       "    <tr>\n",
       "      <th>4</th>\n",
       "      <td>435.528</td>\n",
       "      <td>4.12450</td>\n",
       "      <td>1.0</td>\n",
       "      <td>6.0</td>\n",
       "    </tr>\n",
       "    <tr>\n",
       "      <th>...</th>\n",
       "      <td>...</td>\n",
       "      <td>...</td>\n",
       "      <td>...</td>\n",
       "      <td>...</td>\n",
       "    </tr>\n",
       "    <tr>\n",
       "      <th>904</th>\n",
       "      <td>288.255</td>\n",
       "      <td>2.21550</td>\n",
       "      <td>4.0</td>\n",
       "      <td>6.0</td>\n",
       "    </tr>\n",
       "    <tr>\n",
       "      <th>905</th>\n",
       "      <td>288.255</td>\n",
       "      <td>1.48070</td>\n",
       "      <td>4.0</td>\n",
       "      <td>6.0</td>\n",
       "    </tr>\n",
       "    <tr>\n",
       "      <th>906</th>\n",
       "      <td>272.256</td>\n",
       "      <td>2.50990</td>\n",
       "      <td>3.0</td>\n",
       "      <td>5.0</td>\n",
       "    </tr>\n",
       "    <tr>\n",
       "      <th>907</th>\n",
       "      <td>493.615</td>\n",
       "      <td>4.59032</td>\n",
       "      <td>2.0</td>\n",
       "      <td>7.0</td>\n",
       "    </tr>\n",
       "    <tr>\n",
       "      <th>908</th>\n",
       "      <td>438.444</td>\n",
       "      <td>2.90930</td>\n",
       "      <td>1.0</td>\n",
       "      <td>8.0</td>\n",
       "    </tr>\n",
       "  </tbody>\n",
       "</table>\n",
       "<p>909 rows × 4 columns</p>\n",
       "</div>"
      ],
      "text/plain": [
       "          MW     LogP  NumHDonors  NumHAcceptors\n",
       "0    467.551  2.98370         1.0            8.0\n",
       "1    485.544  4.79340         1.0            7.0\n",
       "2    237.258  2.88490         2.0            2.0\n",
       "3    527.669  5.98642         2.0            6.0\n",
       "4    435.528  4.12450         1.0            6.0\n",
       "..       ...      ...         ...            ...\n",
       "904  288.255  2.21550         4.0            6.0\n",
       "905  288.255  1.48070         4.0            6.0\n",
       "906  272.256  2.50990         3.0            5.0\n",
       "907  493.615  4.59032         2.0            7.0\n",
       "908  438.444  2.90930         1.0            8.0\n",
       "\n",
       "[909 rows x 4 columns]"
      ]
     },
     "execution_count": 20,
     "metadata": {},
     "output_type": "execute_result"
    }
   ],
   "source": [
    "df_lipinski"
   ]
  },
  {
   "cell_type": "code",
   "execution_count": 21,
   "id": "7194e1d6",
   "metadata": {},
   "outputs": [],
   "source": [
    "# Joining lip\n",
    "combined = pd.merge(df, df_lipinski, left_index = True, right_index = True)"
   ]
  },
  {
   "cell_type": "code",
   "execution_count": 22,
   "id": "ebced56a",
   "metadata": {},
   "outputs": [
    {
     "data": {
      "text/html": [
       "<div>\n",
       "<style scoped>\n",
       "    .dataframe tbody tr th:only-of-type {\n",
       "        vertical-align: middle;\n",
       "    }\n",
       "\n",
       "    .dataframe tbody tr th {\n",
       "        vertical-align: top;\n",
       "    }\n",
       "\n",
       "    .dataframe thead th {\n",
       "        text-align: right;\n",
       "    }\n",
       "</style>\n",
       "<table border=\"1\" class=\"dataframe\">\n",
       "  <thead>\n",
       "    <tr style=\"text-align: right;\">\n",
       "      <th></th>\n",
       "      <th>molecule_chembl_id</th>\n",
       "      <th>canonical_smiles</th>\n",
       "      <th>standard_value</th>\n",
       "      <th>bioactivity_class</th>\n",
       "      <th>MW</th>\n",
       "      <th>LogP</th>\n",
       "      <th>NumHDonors</th>\n",
       "      <th>NumHAcceptors</th>\n",
       "    </tr>\n",
       "  </thead>\n",
       "  <tbody>\n",
       "  </tbody>\n",
       "</table>\n",
       "</div>"
      ],
      "text/plain": [
       "Empty DataFrame\n",
       "Columns: [molecule_chembl_id, canonical_smiles, standard_value, bioactivity_class, MW, LogP, NumHDonors, NumHAcceptors]\n",
       "Index: []"
      ]
     },
     "execution_count": 22,
     "metadata": {},
     "output_type": "execute_result"
    }
   ],
   "source": [
    "combined[combined.duplicated(subset = 'molecule_chembl_id', keep = False)]"
   ]
  },
  {
   "cell_type": "markdown",
   "id": "d82a5f2c",
   "metadata": {},
   "source": [
    "## Convert IC50 to pIC50 "
   ]
  },
  {
   "cell_type": "markdown",
   "id": "1060de35",
   "metadata": {},
   "source": [
    "To allow IC50 data to be more uniformly distributed, we will convert IC50 to the negative logarithmic scale which is essentially -log10(IC50).\n",
    "\n",
    "This custom function pIC50() will accept a DataFrame as input and will:\n",
    "\n",
    "Take the IC50 values from the standard_value column and converts it from nM to M by multiplying the value by 10\n",
    "Take the molar value and apply -log10\n",
    "Delete the standard_value column and create a new pIC50 column"
   ]
  },
  {
   "cell_type": "code",
   "execution_count": 23,
   "id": "cb03c965",
   "metadata": {},
   "outputs": [
    {
     "data": {
      "text/plain": [
       "count       909.000000\n",
       "mean       3234.063178\n",
       "std        8590.701154\n",
       "min           0.200000\n",
       "25%          21.000000\n",
       "50%         140.000000\n",
       "75%        1500.000000\n",
       "max      100000.000000\n",
       "Name: standard_value, dtype: float64"
      ]
     },
     "execution_count": 23,
     "metadata": {},
     "output_type": "execute_result"
    }
   ],
   "source": [
    "combined['standard_value'].describe()"
   ]
  },
  {
   "cell_type": "markdown",
   "id": "6c3b9467",
   "metadata": {},
   "source": [
    "The standard value has uneven distribution. Convert to -log10 for distribution."
   ]
  },
  {
   "cell_type": "code",
   "execution_count": 24,
   "id": "26e7ae9a",
   "metadata": {},
   "outputs": [],
   "source": [
    "def log10(df):\n",
    "    molar = df['standard_value']/10**9 # Convert to nM to M \n",
    "    log10 = -np.log10(molar)\n",
    "    return log10 \n",
    "\n",
    "combined['pIC50'] = df.apply(log10, axis = 1) "
   ]
  },
  {
   "cell_type": "code",
   "execution_count": 25,
   "id": "ac0e8577",
   "metadata": {},
   "outputs": [
    {
     "data": {
      "image/png": "[encoded data removed]",
      "text/plain": [
       "<Figure size 432x288 with 1 Axes>"
      ]
     },
     "metadata": {
      "needs_background": "light"
     },
     "output_type": "display_data"
    },
    {
     "ename": "FileNotFoundError",
     "evalue": "[Errno 2] No such file or directory: 'Output/figures/Histogram_Norm.pdf'",
     "output_type": "error",
     "traceback": [
      "\u001b[0;31m---------------------------------------------------------------------------\u001b[0m",
      "\u001b[0;31mFileNotFoundError\u001b[0m                         Traceback (most recent call last)",
      "Input \u001b[0;32mIn [25]\u001b[0m, in \u001b[0;36m<cell line: 6>\u001b[0;34m()\u001b[0m\n\u001b[1;32m      3\u001b[0m plt\u001b[38;5;241m.\u001b[39mhist(combined[\u001b[38;5;124m'\u001b[39m\u001b[38;5;124mpIC50\u001b[39m\u001b[38;5;124m'\u001b[39m])\n\u001b[1;32m      4\u001b[0m plt\u001b[38;5;241m.\u001b[39mshow()\n\u001b[0;32m----> 6\u001b[0m \u001b[43mplt\u001b[49m\u001b[38;5;241;43m.\u001b[39;49m\u001b[43msavefig\u001b[49m\u001b[43m(\u001b[49m\u001b[38;5;124;43m'\u001b[39;49m\u001b[38;5;124;43mOutput/figures/Histogram_Norm.pdf\u001b[39;49m\u001b[38;5;124;43m'\u001b[39;49m\u001b[43m)\u001b[49m\n",
      "File \u001b[0;32m/opt/anaconda3/lib/python3.9/site-packages/matplotlib/pyplot.py:1023\u001b[0m, in \u001b[0;36msavefig\u001b[0;34m(*args, **kwargs)\u001b[0m\n\u001b[1;32m   1020\u001b[0m \u001b[38;5;129m@_copy_docstring_and_deprecators\u001b[39m(Figure\u001b[38;5;241m.\u001b[39msavefig)\n\u001b[1;32m   1021\u001b[0m \u001b[38;5;28;01mdef\u001b[39;00m \u001b[38;5;21msavefig\u001b[39m(\u001b[38;5;241m*\u001b[39margs, \u001b[38;5;241m*\u001b[39m\u001b[38;5;241m*\u001b[39mkwargs):\n\u001b[1;32m   1022\u001b[0m     fig \u001b[38;5;241m=\u001b[39m gcf()\n\u001b[0;32m-> 1023\u001b[0m     res \u001b[38;5;241m=\u001b[39m \u001b[43mfig\u001b[49m\u001b[38;5;241;43m.\u001b[39;49m\u001b[43msavefig\u001b[49m\u001b[43m(\u001b[49m\u001b[38;5;241;43m*\u001b[39;49m\u001b[43margs\u001b[49m\u001b[43m,\u001b[49m\u001b[43m \u001b[49m\u001b[38;5;241;43m*\u001b[39;49m\u001b[38;5;241;43m*\u001b[39;49m\u001b[43mkwargs\u001b[49m\u001b[43m)\u001b[49m\n\u001b[1;32m   1024\u001b[0m     fig\u001b[38;5;241m.\u001b[39mcanvas\u001b[38;5;241m.\u001b[39mdraw_idle()  \u001b[38;5;66;03m# Need this if 'transparent=True', to reset colors.\u001b[39;00m\n\u001b[1;32m   1025\u001b[0m     \u001b[38;5;28;01mreturn\u001b[39;00m res\n",
      "File \u001b[0;32m/opt/anaconda3/lib/python3.9/site-packages/matplotlib/figure.py:3343\u001b[0m, in \u001b[0;36mFigure.savefig\u001b[0;34m(self, fname, transparent, **kwargs)\u001b[0m\n\u001b[1;32m   3339\u001b[0m     \u001b[38;5;28;01mfor\u001b[39;00m ax \u001b[38;5;129;01min\u001b[39;00m \u001b[38;5;28mself\u001b[39m\u001b[38;5;241m.\u001b[39maxes:\n\u001b[1;32m   3340\u001b[0m         stack\u001b[38;5;241m.\u001b[39menter_context(\n\u001b[1;32m   3341\u001b[0m             ax\u001b[38;5;241m.\u001b[39mpatch\u001b[38;5;241m.\u001b[39m_cm_set(facecolor\u001b[38;5;241m=\u001b[39m\u001b[38;5;124m'\u001b[39m\u001b[38;5;124mnone\u001b[39m\u001b[38;5;124m'\u001b[39m, edgecolor\u001b[38;5;241m=\u001b[39m\u001b[38;5;124m'\u001b[39m\u001b[38;5;124mnone\u001b[39m\u001b[38;5;124m'\u001b[39m))\n\u001b[0;32m-> 3343\u001b[0m \u001b[38;5;28;43mself\u001b[39;49m\u001b[38;5;241;43m.\u001b[39;49m\u001b[43mcanvas\u001b[49m\u001b[38;5;241;43m.\u001b[39;49m\u001b[43mprint_figure\u001b[49m\u001b[43m(\u001b[49m\u001b[43mfname\u001b[49m\u001b[43m,\u001b[49m\u001b[43m \u001b[49m\u001b[38;5;241;43m*\u001b[39;49m\u001b[38;5;241;43m*\u001b[39;49m\u001b[43mkwargs\u001b[49m\u001b[43m)\u001b[49m\n",
      "File \u001b[0;32m/opt/anaconda3/lib/python3.9/site-packages/matplotlib/backend_bases.py:2366\u001b[0m, in \u001b[0;36mFigureCanvasBase.print_figure\u001b[0;34m(self, filename, dpi, facecolor, edgecolor, orientation, format, bbox_inches, pad_inches, bbox_extra_artists, backend, **kwargs)\u001b[0m\n\u001b[1;32m   2362\u001b[0m \u001b[38;5;28;01mtry\u001b[39;00m:\n\u001b[1;32m   2363\u001b[0m     \u001b[38;5;66;03m# _get_renderer may change the figure dpi (as vector formats\u001b[39;00m\n\u001b[1;32m   2364\u001b[0m     \u001b[38;5;66;03m# force the figure dpi to 72), so we need to set it again here.\u001b[39;00m\n\u001b[1;32m   2365\u001b[0m     \u001b[38;5;28;01mwith\u001b[39;00m cbook\u001b[38;5;241m.\u001b[39m_setattr_cm(\u001b[38;5;28mself\u001b[39m\u001b[38;5;241m.\u001b[39mfigure, dpi\u001b[38;5;241m=\u001b[39mdpi):\n\u001b[0;32m-> 2366\u001b[0m         result \u001b[38;5;241m=\u001b[39m \u001b[43mprint_method\u001b[49m\u001b[43m(\u001b[49m\n\u001b[1;32m   2367\u001b[0m \u001b[43m            \u001b[49m\u001b[43mfilename\u001b[49m\u001b[43m,\u001b[49m\n\u001b[1;32m   2368\u001b[0m \u001b[43m            \u001b[49m\u001b[43mfacecolor\u001b[49m\u001b[38;5;241;43m=\u001b[39;49m\u001b[43mfacecolor\u001b[49m\u001b[43m,\u001b[49m\n\u001b[1;32m   2369\u001b[0m \u001b[43m            \u001b[49m\u001b[43medgecolor\u001b[49m\u001b[38;5;241;43m=\u001b[39;49m\u001b[43medgecolor\u001b[49m\u001b[43m,\u001b[49m\n\u001b[1;32m   2370\u001b[0m \u001b[43m            \u001b[49m\u001b[43morientation\u001b[49m\u001b[38;5;241;43m=\u001b[39;49m\u001b[43morientation\u001b[49m\u001b[43m,\u001b[49m\n\u001b[1;32m   2371\u001b[0m \u001b[43m            \u001b[49m\u001b[43mbbox_inches_restore\u001b[49m\u001b[38;5;241;43m=\u001b[39;49m\u001b[43m_bbox_inches_restore\u001b[49m\u001b[43m,\u001b[49m\n\u001b[1;32m   2372\u001b[0m \u001b[43m            \u001b[49m\u001b[38;5;241;43m*\u001b[39;49m\u001b[38;5;241;43m*\u001b[39;49m\u001b[43mkwargs\u001b[49m\u001b[43m)\u001b[49m\n\u001b[1;32m   2373\u001b[0m \u001b[38;5;28;01mfinally\u001b[39;00m:\n\u001b[1;32m   2374\u001b[0m     \u001b[38;5;28;01mif\u001b[39;00m bbox_inches \u001b[38;5;129;01mand\u001b[39;00m restore_bbox:\n",
      "File \u001b[0;32m/opt/anaconda3/lib/python3.9/site-packages/matplotlib/backend_bases.py:2232\u001b[0m, in \u001b[0;36mFigureCanvasBase._switch_canvas_and_return_print_method.<locals>.<lambda>\u001b[0;34m(*args, **kwargs)\u001b[0m\n\u001b[1;32m   2228\u001b[0m     optional_kws \u001b[38;5;241m=\u001b[39m {  \u001b[38;5;66;03m# Passed by print_figure for other renderers.\u001b[39;00m\n\u001b[1;32m   2229\u001b[0m         \u001b[38;5;124m\"\u001b[39m\u001b[38;5;124mdpi\u001b[39m\u001b[38;5;124m\"\u001b[39m, \u001b[38;5;124m\"\u001b[39m\u001b[38;5;124mfacecolor\u001b[39m\u001b[38;5;124m\"\u001b[39m, \u001b[38;5;124m\"\u001b[39m\u001b[38;5;124medgecolor\u001b[39m\u001b[38;5;124m\"\u001b[39m, \u001b[38;5;124m\"\u001b[39m\u001b[38;5;124morientation\u001b[39m\u001b[38;5;124m\"\u001b[39m,\n\u001b[1;32m   2230\u001b[0m         \u001b[38;5;124m\"\u001b[39m\u001b[38;5;124mbbox_inches_restore\u001b[39m\u001b[38;5;124m\"\u001b[39m}\n\u001b[1;32m   2231\u001b[0m     skip \u001b[38;5;241m=\u001b[39m optional_kws \u001b[38;5;241m-\u001b[39m {\u001b[38;5;241m*\u001b[39minspect\u001b[38;5;241m.\u001b[39msignature(meth)\u001b[38;5;241m.\u001b[39mparameters}\n\u001b[0;32m-> 2232\u001b[0m     print_method \u001b[38;5;241m=\u001b[39m functools\u001b[38;5;241m.\u001b[39mwraps(meth)(\u001b[38;5;28;01mlambda\u001b[39;00m \u001b[38;5;241m*\u001b[39margs, \u001b[38;5;241m*\u001b[39m\u001b[38;5;241m*\u001b[39mkwargs: \u001b[43mmeth\u001b[49m\u001b[43m(\u001b[49m\n\u001b[1;32m   2233\u001b[0m \u001b[43m        \u001b[49m\u001b[38;5;241;43m*\u001b[39;49m\u001b[43margs\u001b[49m\u001b[43m,\u001b[49m\u001b[43m \u001b[49m\u001b[38;5;241;43m*\u001b[39;49m\u001b[38;5;241;43m*\u001b[39;49m\u001b[43m{\u001b[49m\u001b[43mk\u001b[49m\u001b[43m:\u001b[49m\u001b[43m \u001b[49m\u001b[43mv\u001b[49m\u001b[43m \u001b[49m\u001b[38;5;28;43;01mfor\u001b[39;49;00m\u001b[43m \u001b[49m\u001b[43mk\u001b[49m\u001b[43m,\u001b[49m\u001b[43m \u001b[49m\u001b[43mv\u001b[49m\u001b[43m \u001b[49m\u001b[38;5;129;43;01min\u001b[39;49;00m\u001b[43m \u001b[49m\u001b[43mkwargs\u001b[49m\u001b[38;5;241;43m.\u001b[39;49m\u001b[43mitems\u001b[49m\u001b[43m(\u001b[49m\u001b[43m)\u001b[49m\u001b[43m \u001b[49m\u001b[38;5;28;43;01mif\u001b[39;49;00m\u001b[43m \u001b[49m\u001b[43mk\u001b[49m\u001b[43m \u001b[49m\u001b[38;5;129;43;01mnot\u001b[39;49;00m\u001b[43m \u001b[49m\u001b[38;5;129;43;01min\u001b[39;49;00m\u001b[43m \u001b[49m\u001b[43mskip\u001b[49m\u001b[43m}\u001b[49m\u001b[43m)\u001b[49m)\n\u001b[1;32m   2234\u001b[0m \u001b[38;5;28;01melse\u001b[39;00m:  \u001b[38;5;66;03m# Let third-parties do as they see fit.\u001b[39;00m\n\u001b[1;32m   2235\u001b[0m     print_method \u001b[38;5;241m=\u001b[39m meth\n",
      "File \u001b[0;32m/opt/anaconda3/lib/python3.9/site-packages/matplotlib/backends/backend_pdf.py:2808\u001b[0m, in \u001b[0;36mFigureCanvasPdf.print_pdf\u001b[0;34m(self, filename, bbox_inches_restore, metadata)\u001b[0m\n\u001b[1;32m   2806\u001b[0m     file \u001b[38;5;241m=\u001b[39m filename\u001b[38;5;241m.\u001b[39m_file\n\u001b[1;32m   2807\u001b[0m \u001b[38;5;28;01melse\u001b[39;00m:\n\u001b[0;32m-> 2808\u001b[0m     file \u001b[38;5;241m=\u001b[39m \u001b[43mPdfFile\u001b[49m\u001b[43m(\u001b[49m\u001b[43mfilename\u001b[49m\u001b[43m,\u001b[49m\u001b[43m \u001b[49m\u001b[43mmetadata\u001b[49m\u001b[38;5;241;43m=\u001b[39;49m\u001b[43mmetadata\u001b[49m\u001b[43m)\u001b[49m\n\u001b[1;32m   2809\u001b[0m \u001b[38;5;28;01mtry\u001b[39;00m:\n\u001b[1;32m   2810\u001b[0m     file\u001b[38;5;241m.\u001b[39mnewPage(width, height)\n",
      "File \u001b[0;32m/opt/anaconda3/lib/python3.9/site-packages/matplotlib/backends/backend_pdf.py:713\u001b[0m, in \u001b[0;36mPdfFile.__init__\u001b[0;34m(self, filename, metadata)\u001b[0m\n\u001b[1;32m    711\u001b[0m \u001b[38;5;28mself\u001b[39m\u001b[38;5;241m.\u001b[39moriginal_file_like \u001b[38;5;241m=\u001b[39m \u001b[38;5;28;01mNone\u001b[39;00m\n\u001b[1;32m    712\u001b[0m \u001b[38;5;28mself\u001b[39m\u001b[38;5;241m.\u001b[39mtell_base \u001b[38;5;241m=\u001b[39m \u001b[38;5;241m0\u001b[39m\n\u001b[0;32m--> 713\u001b[0m fh, opened \u001b[38;5;241m=\u001b[39m \u001b[43mcbook\u001b[49m\u001b[38;5;241;43m.\u001b[39;49m\u001b[43mto_filehandle\u001b[49m\u001b[43m(\u001b[49m\u001b[43mfilename\u001b[49m\u001b[43m,\u001b[49m\u001b[43m \u001b[49m\u001b[38;5;124;43m\"\u001b[39;49m\u001b[38;5;124;43mwb\u001b[39;49m\u001b[38;5;124;43m\"\u001b[39;49m\u001b[43m,\u001b[49m\u001b[43m \u001b[49m\u001b[43mreturn_opened\u001b[49m\u001b[38;5;241;43m=\u001b[39;49m\u001b[38;5;28;43;01mTrue\u001b[39;49;00m\u001b[43m)\u001b[49m\n\u001b[1;32m    714\u001b[0m \u001b[38;5;28;01mif\u001b[39;00m \u001b[38;5;129;01mnot\u001b[39;00m opened:\n\u001b[1;32m    715\u001b[0m     \u001b[38;5;28;01mtry\u001b[39;00m:\n",
      "File \u001b[0;32m/opt/anaconda3/lib/python3.9/site-packages/matplotlib/cbook/__init__.py:489\u001b[0m, in \u001b[0;36mto_filehandle\u001b[0;34m(fname, flag, return_opened, encoding)\u001b[0m\n\u001b[1;32m    487\u001b[0m         fh \u001b[38;5;241m=\u001b[39m bz2\u001b[38;5;241m.\u001b[39mBZ2File(fname, flag)\n\u001b[1;32m    488\u001b[0m     \u001b[38;5;28;01melse\u001b[39;00m:\n\u001b[0;32m--> 489\u001b[0m         fh \u001b[38;5;241m=\u001b[39m \u001b[38;5;28;43mopen\u001b[39;49m\u001b[43m(\u001b[49m\u001b[43mfname\u001b[49m\u001b[43m,\u001b[49m\u001b[43m \u001b[49m\u001b[43mflag\u001b[49m\u001b[43m,\u001b[49m\u001b[43m \u001b[49m\u001b[43mencoding\u001b[49m\u001b[38;5;241;43m=\u001b[39;49m\u001b[43mencoding\u001b[49m\u001b[43m)\u001b[49m\n\u001b[1;32m    490\u001b[0m     opened \u001b[38;5;241m=\u001b[39m \u001b[38;5;28;01mTrue\u001b[39;00m\n\u001b[1;32m    491\u001b[0m \u001b[38;5;28;01melif\u001b[39;00m \u001b[38;5;28mhasattr\u001b[39m(fname, \u001b[38;5;124m'\u001b[39m\u001b[38;5;124mseek\u001b[39m\u001b[38;5;124m'\u001b[39m):\n",
      "\u001b[0;31mFileNotFoundError\u001b[0m: [Errno 2] No such file or directory: 'Output/figures/Histogram_Norm.pdf'"
     ]
    },
    {
     "data": {
      "text/plain": [
       "<Figure size 432x288 with 0 Axes>"
      ]
     },
     "metadata": {},
     "output_type": "display_data"
    }
   ],
   "source": [
    "import matplotlib.pyplot as plt \n",
    "\n",
    "plt.hist(combined['pIC50'])\n",
    "plt.show()\n",
    "\n",
    "plt.savefig('Output/figures/Histogram_Norm.pdf')"
   ]
  },
  {
   "cell_type": "code",
   "execution_count": null,
   "id": "f8589ba5",
   "metadata": {},
   "outputs": [],
   "source": [
    "# Remove intermediate - ambigious molecules - for analysis \n",
    "combined = combined[combined['bioactivity_class'] != 'intermediate']"
   ]
  },
  {
   "cell_type": "code",
   "execution_count": null,
   "id": "9fc7a6d9",
   "metadata": {},
   "outputs": [],
   "source": [
    "# Exporting as SaveFile\n",
    "combined.to_csv('Output/bioactivity.csv', index = False)"
   ]
  },
  {
   "cell_type": "markdown",
   "id": "b16429fa",
   "metadata": {},
   "source": [
    "### Chemical Space Analysis via Lipinski descriptors "
   ]
  },
  {
   "cell_type": "code",
   "execution_count": null,
   "id": "ab942cb0",
   "metadata": {},
   "outputs": [],
   "source": [
    "import seaborn as sns "
   ]
  },
  {
   "cell_type": "code",
   "execution_count": null,
   "id": "26195587",
   "metadata": {},
   "outputs": [],
   "source": [
    "sns.countplot(x = 'bioactivity_class', data = combined,\n",
    "             edgecolor = 'black')\n",
    "\n",
    "plt.xlabel('bioactivity class')\n",
    "plt.ylabel('frequency')\n",
    "plt.show()\n",
    "\n",
    "plt.savefig('Output/figures/Count_Plot.jpg')"
   ]
  },
  {
   "cell_type": "code",
   "execution_count": null,
   "id": "f9a80ae9",
   "metadata": {},
   "outputs": [],
   "source": [
    "plt.figure(figsize=(5.5, 5.5))\n",
    "\n",
    "sns.scatterplot(x = 'MW', y = 'LogP', data = combined, \n",
    "               hue = 'bioactivity_class', size = 'pIC50', alpha = 0.5)\n",
    "\n",
    "\n",
    "plt.xlabel('MW', fontsize=14, fontweight='bold')\n",
    "plt.ylabel('LogP', fontsize=14, fontweight='bold')\n",
    "plt.legend(bbox_to_anchor=(1.05, 1), loc=2, borderaxespad=0)\n",
    "\n",
    "plt.savefig('Output/figures/Chem_Space_Analysis.pdf')\n",
    "plt.show()\n"
   ]
  },
  {
   "cell_type": "markdown",
   "id": "2760b5fc",
   "metadata": {},
   "source": [
    "From this graph, the whether a compound is active or inactive against FLT3 is difficult to tell. This suggest that deeper machine learning algorithims may aid in learning. "
   ]
  },
  {
   "cell_type": "markdown",
   "id": "8c80683e",
   "metadata": {},
   "source": [
    "## Statistical T-Test for Lipinski Values "
   ]
  },
  {
   "cell_type": "code",
   "execution_count": null,
   "id": "0fd9eb21",
   "metadata": {},
   "outputs": [],
   "source": [
    "descriptors = ['pIC50', 'MW', 'LogP', 'NumHDonors', 'NumHAcceptors']"
   ]
  },
  {
   "cell_type": "code",
   "execution_count": null,
   "id": "7dba1d27",
   "metadata": {},
   "outputs": [],
   "source": [
    "from scipy.stats import stats\n",
    "\n",
    "def t_test(descriptors):\n",
    "    list_ = []\n",
    "    for element in descriptors:\n",
    "        \n",
    "        # splitting active and inactive\n",
    "        active = combined[combined['bioactivity_class'] == 'active']\n",
    "        inactive = combined[combined['bioactivity_class'] == 'inactive']\n",
    "        active = active[[element]]\n",
    "        inactive = inactive[[element]]\n",
    "        \n",
    "        # t-test for statistical signficance\n",
    "        results, pvalue = stats.ttest_ind(active, inactive)\n",
    "        \n",
    "        if pvalue > 0.05:\n",
    "            interpretation = 'Same distribution (fail to reject H0)'\n",
    "        else:\n",
    "            interpretation = 'Different distribution (reject H0)'\n",
    "            \n",
    "        # appending results\n",
    "        list_.append([element, results[0], pvalue[0], interpretation])\n",
    "        \n",
    "    df_results = pd.DataFrame(list_, columns = ['Descriptor', 'results', 'pvalue', 'interpretation'])\n",
    "    \n",
    "    return df_results"
   ]
  },
  {
   "cell_type": "code",
   "execution_count": null,
   "id": "2f4a44a3",
   "metadata": {
    "scrolled": false
   },
   "outputs": [],
   "source": [
    "results = t_test(descriptors)"
   ]
  },
  {
   "cell_type": "markdown",
   "id": "6a202a56",
   "metadata": {},
   "source": [
    "## pIC50"
   ]
  },
  {
   "cell_type": "code",
   "execution_count": null,
   "id": "c4c228d5",
   "metadata": {},
   "outputs": [],
   "source": [
    "plt.figure(figsize=(6, 6))\n",
    "sns.boxplot(x = 'bioactivity_class', y = 'pIC50', data = combined)\n",
    "\n",
    "plt.xlabel('Bioactivity_Class', fontweight = 'bold')\n",
    "plt.ylabel('pIC50', fontweight = 'bold')\n",
    "\n",
    "plt.show()\n",
    "plt.savefig('Output/figures/pIC50.pdf')\n",
    "results[results.index == 0]\n",
    "\n"
   ]
  },
  {
   "cell_type": "markdown",
   "id": "fffc8ec2",
   "metadata": {},
   "source": [
    "## MW"
   ]
  },
  {
   "cell_type": "code",
   "execution_count": null,
   "id": "c3809238",
   "metadata": {},
   "outputs": [],
   "source": [
    "plt.figure(figsize=(6, 8))\n",
    "sns.boxplot(x = 'bioactivity_class', y = 'MW', data = combined)\n",
    "\n",
    "plt.xlabel('Bioactivity_Class', fontweight = 'bold')\n",
    "plt.ylabel('MW', fontweight = 'bold')\n",
    "\n",
    "plt.show()\n",
    "\n",
    "results[results.index == 1]\n",
    "\n",
    "plt.savefig('Output/figures/MW.pdf')"
   ]
  },
  {
   "cell_type": "markdown",
   "id": "3f95f6ce",
   "metadata": {},
   "source": [
    "## LogP"
   ]
  },
  {
   "cell_type": "code",
   "execution_count": null,
   "id": "3c7709b5",
   "metadata": {},
   "outputs": [],
   "source": [
    "plt.figure(figsize=(6, 8))\n",
    "sns.boxplot(x = 'bioactivity_class', y = 'LogP', data = combined)\n",
    "\n",
    "plt.xlabel('Bioactivity_Class', fontweight = 'bold')\n",
    "plt.ylabel('LogP', fontweight = 'bold')\n",
    "\n",
    "plt.show()\n",
    "plt.savefig('Output/figures/logP.pdf')\n",
    "\n",
    "\n",
    "results[results.index == 2]\n",
    "\n"
   ]
  },
  {
   "cell_type": "markdown",
   "id": "abf9e0c1",
   "metadata": {},
   "source": [
    "## NumHDonors"
   ]
  },
  {
   "cell_type": "code",
   "execution_count": null,
   "id": "50b88659",
   "metadata": {},
   "outputs": [],
   "source": [
    "plt.figure(figsize=(6, 8))\n",
    "sns.boxplot(x = 'bioactivity_class', y = 'NumHDonors', data = combined)\n",
    "\n",
    "plt.xlabel('Bioactivity_Class', fontweight = 'bold')\n",
    "plt.ylabel('NumHDonors', fontweight = 'bold')\n",
    "\n",
    "plt.show()\n",
    "\n",
    "results[results.index == 3]\n",
    "\n",
    "plt.savefig('Output/figures/NumHDonors.pdf')"
   ]
  },
  {
   "cell_type": "markdown",
   "id": "3c8fc6e6",
   "metadata": {},
   "source": [
    "## NumHAcceptors"
   ]
  },
  {
   "cell_type": "code",
   "execution_count": null,
   "id": "c83f0b2c",
   "metadata": {},
   "outputs": [],
   "source": [
    "plt.figure(figsize=(6, 8))\n",
    "sns.boxplot(x = 'bioactivity_class', y = 'NumHAcceptors', data = combined)\n",
    "\n",
    "plt.xlabel('Bioactivity_Class', fontweight = 'bold')\n",
    "plt.ylabel('NumHAcceptors', fontweight = 'bold')\n",
    "\n",
    "plt.show()\n",
    "plt.savefig('Output/figures/NumHAcceptors.pdf')\n",
    "results[results.index == 4]\n",
    "\n"
   ]
  },
  {
   "cell_type": "code",
   "execution_count": null,
   "id": "a35576fd",
   "metadata": {},
   "outputs": [],
   "source": [
    "results"
   ]
  },
  {
   "cell_type": "markdown",
   "id": "1f084613",
   "metadata": {},
   "source": [
    "## Calculating Molecular Descriptors "
   ]
  },
  {
   "cell_type": "code",
   "execution_count": null,
   "id": "a0ce96bd",
   "metadata": {},
   "outputs": [],
   "source": [
    "padel = combined[['canonical_smiles', 'molecule_chembl_id']]"
   ]
  },
  {
   "cell_type": "code",
   "execution_count": null,
   "id": "03c5976e",
   "metadata": {},
   "outputs": [],
   "source": [
    "padel.head()"
   ]
  },
  {
   "cell_type": "code",
   "execution_count": null,
   "id": "ec41f1bd",
   "metadata": {},
   "outputs": [],
   "source": [
    "#padel.to_csv('molecule.smi', sep='\\t', index=False, header=False)"
   ]
  },
  {
   "cell_type": "code",
   "execution_count": null,
   "id": "57d8a92a",
   "metadata": {},
   "outputs": [],
   "source": [
    "#! cat padel.sh"
   ]
  },
  {
   "cell_type": "code",
   "execution_count": null,
   "id": "8e4eb549",
   "metadata": {},
   "outputs": [],
   "source": [
    "#! bash padel.sh"
   ]
  },
  {
   "cell_type": "code",
   "execution_count": null,
   "id": "4f50cfa4",
   "metadata": {},
   "outputs": [],
   "source": []
  }
 ],
 "metadata": {
  "kernelspec": {
   "display_name": "Python 3 (ipykernel)",
   "language": "python",
   "name": "python3"
  },
  "language_info": {
   "codemirror_mode": {
    "name": "ipython",
    "version": 3
   },
   "file_extension": ".py",
   "mimetype": "text/x-python",
   "name": "python",
   "nbconvert_exporter": "python",
   "pygments_lexer": "ipython3",
   "version": "3.9.12"
  }
 },
 "nbformat": 4,
 "nbformat_minor": 5
}
