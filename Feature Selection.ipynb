{
 "cells": [
  {
   "cell_type": "code",
   "execution_count": 1,
   "id": "d637ad02",
   "metadata": {},
   "outputs": [],
   "source": [
    "import pandas as pd \n",
    "import numpy as np\n",
    "import seaborn as sns\n",
    "import matplotlib.pyplot as plt"
   ]
  },
  {
   "cell_type": "code",
   "execution_count": 2,
   "id": "80bc1a06",
   "metadata": {},
   "outputs": [],
   "source": [
    "fingerprints = pd.read_csv('resources/descriptors_output.csv')"
   ]
  },
  {
   "cell_type": "code",
   "execution_count": 3,
   "id": "ef94691f",
   "metadata": {},
   "outputs": [
    {
     "data": {
      "text/html": [
       "<div>\n",
       "<style scoped>\n",
       "    .dataframe tbody tr th:only-of-type {\n",
       "        vertical-align: middle;\n",
       "    }\n",
       "\n",
       "    .dataframe tbody tr th {\n",
       "        vertical-align: top;\n",
       "    }\n",
       "\n",
       "    .dataframe thead th {\n",
       "        text-align: right;\n",
       "    }\n",
       "</style>\n",
       "<table border=\"1\" class=\"dataframe\">\n",
       "  <thead>\n",
       "    <tr style=\"text-align: right;\">\n",
       "      <th></th>\n",
       "      <th>Name</th>\n",
       "      <th>PubchemFP0</th>\n",
       "      <th>PubchemFP1</th>\n",
       "      <th>PubchemFP2</th>\n",
       "      <th>PubchemFP3</th>\n",
       "      <th>PubchemFP4</th>\n",
       "      <th>PubchemFP5</th>\n",
       "      <th>PubchemFP6</th>\n",
       "      <th>PubchemFP7</th>\n",
       "      <th>PubchemFP8</th>\n",
       "      <th>...</th>\n",
       "      <th>PubchemFP871</th>\n",
       "      <th>PubchemFP872</th>\n",
       "      <th>PubchemFP873</th>\n",
       "      <th>PubchemFP874</th>\n",
       "      <th>PubchemFP875</th>\n",
       "      <th>PubchemFP876</th>\n",
       "      <th>PubchemFP877</th>\n",
       "      <th>PubchemFP878</th>\n",
       "      <th>PubchemFP879</th>\n",
       "      <th>PubchemFP880</th>\n",
       "    </tr>\n",
       "  </thead>\n",
       "  <tbody>\n",
       "    <tr>\n",
       "      <th>0</th>\n",
       "      <td>CHEMBL1077291</td>\n",
       "      <td>1</td>\n",
       "      <td>1</td>\n",
       "      <td>0</td>\n",
       "      <td>0</td>\n",
       "      <td>0</td>\n",
       "      <td>0</td>\n",
       "      <td>0</td>\n",
       "      <td>0</td>\n",
       "      <td>0</td>\n",
       "      <td>...</td>\n",
       "      <td>0</td>\n",
       "      <td>0</td>\n",
       "      <td>0</td>\n",
       "      <td>0</td>\n",
       "      <td>0</td>\n",
       "      <td>0</td>\n",
       "      <td>0</td>\n",
       "      <td>0</td>\n",
       "      <td>0</td>\n",
       "      <td>0</td>\n",
       "    </tr>\n",
       "    <tr>\n",
       "      <th>1</th>\n",
       "      <td>CHEMBL1083839</td>\n",
       "      <td>1</td>\n",
       "      <td>1</td>\n",
       "      <td>0</td>\n",
       "      <td>0</td>\n",
       "      <td>0</td>\n",
       "      <td>0</td>\n",
       "      <td>0</td>\n",
       "      <td>0</td>\n",
       "      <td>0</td>\n",
       "      <td>...</td>\n",
       "      <td>0</td>\n",
       "      <td>0</td>\n",
       "      <td>0</td>\n",
       "      <td>0</td>\n",
       "      <td>0</td>\n",
       "      <td>0</td>\n",
       "      <td>0</td>\n",
       "      <td>0</td>\n",
       "      <td>0</td>\n",
       "      <td>0</td>\n",
       "    </tr>\n",
       "    <tr>\n",
       "      <th>2</th>\n",
       "      <td>CHEMBL106966</td>\n",
       "      <td>1</td>\n",
       "      <td>1</td>\n",
       "      <td>1</td>\n",
       "      <td>0</td>\n",
       "      <td>0</td>\n",
       "      <td>0</td>\n",
       "      <td>0</td>\n",
       "      <td>0</td>\n",
       "      <td>0</td>\n",
       "      <td>...</td>\n",
       "      <td>0</td>\n",
       "      <td>0</td>\n",
       "      <td>0</td>\n",
       "      <td>0</td>\n",
       "      <td>0</td>\n",
       "      <td>0</td>\n",
       "      <td>0</td>\n",
       "      <td>0</td>\n",
       "      <td>0</td>\n",
       "      <td>0</td>\n",
       "    </tr>\n",
       "    <tr>\n",
       "      <th>3</th>\n",
       "      <td>CHEMBL102301</td>\n",
       "      <td>1</td>\n",
       "      <td>1</td>\n",
       "      <td>1</td>\n",
       "      <td>0</td>\n",
       "      <td>0</td>\n",
       "      <td>0</td>\n",
       "      <td>0</td>\n",
       "      <td>0</td>\n",
       "      <td>0</td>\n",
       "      <td>...</td>\n",
       "      <td>0</td>\n",
       "      <td>0</td>\n",
       "      <td>0</td>\n",
       "      <td>0</td>\n",
       "      <td>0</td>\n",
       "      <td>0</td>\n",
       "      <td>0</td>\n",
       "      <td>0</td>\n",
       "      <td>0</td>\n",
       "      <td>0</td>\n",
       "    </tr>\n",
       "    <tr>\n",
       "      <th>4</th>\n",
       "      <td>CHEMBL104067</td>\n",
       "      <td>1</td>\n",
       "      <td>1</td>\n",
       "      <td>1</td>\n",
       "      <td>0</td>\n",
       "      <td>0</td>\n",
       "      <td>0</td>\n",
       "      <td>0</td>\n",
       "      <td>0</td>\n",
       "      <td>0</td>\n",
       "      <td>...</td>\n",
       "      <td>0</td>\n",
       "      <td>0</td>\n",
       "      <td>0</td>\n",
       "      <td>0</td>\n",
       "      <td>0</td>\n",
       "      <td>0</td>\n",
       "      <td>0</td>\n",
       "      <td>0</td>\n",
       "      <td>0</td>\n",
       "      <td>0</td>\n",
       "    </tr>\n",
       "  </tbody>\n",
       "</table>\n",
       "<p>5 rows × 882 columns</p>\n",
       "</div>"
      ],
      "text/plain": [
       "            Name  PubchemFP0  PubchemFP1  PubchemFP2  PubchemFP3  PubchemFP4  \\\n",
       "0  CHEMBL1077291           1           1           0           0           0   \n",
       "1  CHEMBL1083839           1           1           0           0           0   \n",
       "2   CHEMBL106966           1           1           1           0           0   \n",
       "3   CHEMBL102301           1           1           1           0           0   \n",
       "4   CHEMBL104067           1           1           1           0           0   \n",
       "\n",
       "   PubchemFP5  PubchemFP6  PubchemFP7  PubchemFP8  ...  PubchemFP871  \\\n",
       "0           0           0           0           0  ...             0   \n",
       "1           0           0           0           0  ...             0   \n",
       "2           0           0           0           0  ...             0   \n",
       "3           0           0           0           0  ...             0   \n",
       "4           0           0           0           0  ...             0   \n",
       "\n",
       "   PubchemFP872  PubchemFP873  PubchemFP874  PubchemFP875  PubchemFP876  \\\n",
       "0             0             0             0             0             0   \n",
       "1             0             0             0             0             0   \n",
       "2             0             0             0             0             0   \n",
       "3             0             0             0             0             0   \n",
       "4             0             0             0             0             0   \n",
       "\n",
       "   PubchemFP877  PubchemFP878  PubchemFP879  PubchemFP880  \n",
       "0             0             0             0             0  \n",
       "1             0             0             0             0  \n",
       "2             0             0             0             0  \n",
       "3             0             0             0             0  \n",
       "4             0             0             0             0  \n",
       "\n",
       "[5 rows x 882 columns]"
      ]
     },
     "execution_count": 3,
     "metadata": {},
     "output_type": "execute_result"
    }
   ],
   "source": [
    "fingerprints.head()"
   ]
  },
  {
   "cell_type": "code",
   "execution_count": 4,
   "id": "2ab94009",
   "metadata": {
    "scrolled": true
   },
   "outputs": [
    {
     "name": "stdout",
     "output_type": "stream",
     "text": [
      "Feature Selection.ipynb       README.md\r\n",
      "Machine_Learning_Part_2.ipynb \u001b[34moutput\u001b[m\u001b[m\r\n",
      "\u001b[34mPaDEL-Descriptor\u001b[m\u001b[m              \u001b[34mresources\u001b[m\u001b[m\r\n",
      "Query&CleanData_Part_1.ipynb\r\n"
     ]
    }
   ],
   "source": [
    "! ls"
   ]
  },
  {
   "cell_type": "code",
   "execution_count": 5,
   "id": "c64a367d",
   "metadata": {},
   "outputs": [
    {
     "data": {
      "text/html": [
       "<div>\n",
       "<style scoped>\n",
       "    .dataframe tbody tr th:only-of-type {\n",
       "        vertical-align: middle;\n",
       "    }\n",
       "\n",
       "    .dataframe tbody tr th {\n",
       "        vertical-align: top;\n",
       "    }\n",
       "\n",
       "    .dataframe thead th {\n",
       "        text-align: right;\n",
       "    }\n",
       "</style>\n",
       "<table border=\"1\" class=\"dataframe\">\n",
       "  <thead>\n",
       "    <tr style=\"text-align: right;\">\n",
       "      <th></th>\n",
       "      <th>molecule_chembl_id</th>\n",
       "      <th>PubchemFP0</th>\n",
       "      <th>PubchemFP1</th>\n",
       "      <th>PubchemFP2</th>\n",
       "      <th>PubchemFP3</th>\n",
       "      <th>PubchemFP4</th>\n",
       "      <th>PubchemFP5</th>\n",
       "      <th>PubchemFP6</th>\n",
       "      <th>PubchemFP7</th>\n",
       "      <th>PubchemFP8</th>\n",
       "      <th>...</th>\n",
       "      <th>PubchemFP872</th>\n",
       "      <th>PubchemFP873</th>\n",
       "      <th>PubchemFP874</th>\n",
       "      <th>PubchemFP875</th>\n",
       "      <th>PubchemFP876</th>\n",
       "      <th>PubchemFP877</th>\n",
       "      <th>PubchemFP878</th>\n",
       "      <th>PubchemFP879</th>\n",
       "      <th>PubchemFP880</th>\n",
       "      <th>pIC50</th>\n",
       "    </tr>\n",
       "  </thead>\n",
       "  <tbody>\n",
       "    <tr>\n",
       "      <th>0</th>\n",
       "      <td>CHEMBL1077291</td>\n",
       "      <td>1</td>\n",
       "      <td>1</td>\n",
       "      <td>0</td>\n",
       "      <td>0</td>\n",
       "      <td>0</td>\n",
       "      <td>0</td>\n",
       "      <td>0</td>\n",
       "      <td>0</td>\n",
       "      <td>0</td>\n",
       "      <td>...</td>\n",
       "      <td>0</td>\n",
       "      <td>0</td>\n",
       "      <td>0</td>\n",
       "      <td>0</td>\n",
       "      <td>0</td>\n",
       "      <td>0</td>\n",
       "      <td>0</td>\n",
       "      <td>0</td>\n",
       "      <td>0</td>\n",
       "      <td>7.823909</td>\n",
       "    </tr>\n",
       "    <tr>\n",
       "      <th>1</th>\n",
       "      <td>CHEMBL1083839</td>\n",
       "      <td>1</td>\n",
       "      <td>1</td>\n",
       "      <td>0</td>\n",
       "      <td>0</td>\n",
       "      <td>0</td>\n",
       "      <td>0</td>\n",
       "      <td>0</td>\n",
       "      <td>0</td>\n",
       "      <td>0</td>\n",
       "      <td>...</td>\n",
       "      <td>0</td>\n",
       "      <td>0</td>\n",
       "      <td>0</td>\n",
       "      <td>0</td>\n",
       "      <td>0</td>\n",
       "      <td>0</td>\n",
       "      <td>0</td>\n",
       "      <td>0</td>\n",
       "      <td>0</td>\n",
       "      <td>5.000000</td>\n",
       "    </tr>\n",
       "  </tbody>\n",
       "</table>\n",
       "<p>2 rows × 883 columns</p>\n",
       "</div>"
      ],
      "text/plain": [
       "  molecule_chembl_id  PubchemFP0  PubchemFP1  PubchemFP2  PubchemFP3  \\\n",
       "0      CHEMBL1077291           1           1           0           0   \n",
       "1      CHEMBL1083839           1           1           0           0   \n",
       "\n",
       "   PubchemFP4  PubchemFP5  PubchemFP6  PubchemFP7  PubchemFP8  ...  \\\n",
       "0           0           0           0           0           0  ...   \n",
       "1           0           0           0           0           0  ...   \n",
       "\n",
       "   PubchemFP872  PubchemFP873  PubchemFP874  PubchemFP875  PubchemFP876  \\\n",
       "0             0             0             0             0             0   \n",
       "1             0             0             0             0             0   \n",
       "\n",
       "   PubchemFP877  PubchemFP878  PubchemFP879  PubchemFP880     pIC50  \n",
       "0             0             0             0             0  7.823909  \n",
       "1             0             0             0             0  5.000000  \n",
       "\n",
       "[2 rows x 883 columns]"
      ]
     },
     "execution_count": 5,
     "metadata": {},
     "output_type": "execute_result"
    }
   ],
   "source": [
    "fingerprints.rename({'Name': 'molecule_chembl_id'}, axis = 1, inplace = True)\n",
    "\n",
    "bioactivity = pd.read_csv('output/bioactivity.csv')\n",
    "bioactivity = bioactivity[['molecule_chembl_id', 'pIC50']]\n",
    "\n",
    "cleaned_df = pd.merge(fingerprints, bioactivity, on = 'molecule_chembl_id')\n",
    "\n",
    "cleaned_df.head(2)"
   ]
  },
  {
   "cell_type": "code",
   "execution_count": 6,
   "id": "06d54e7e",
   "metadata": {},
   "outputs": [],
   "source": [
    "cleaned_df.drop('molecule_chembl_id', axis = 1, inplace = True)"
   ]
  },
  {
   "cell_type": "markdown",
   "id": "6d190f21",
   "metadata": {},
   "source": [
    "### Feature Selection "
   ]
  },
  {
   "cell_type": "markdown",
   "id": "8bfd9c75",
   "metadata": {},
   "source": [
    "#### Based on Correlation against pIC50"
   ]
  },
  {
   "cell_type": "code",
   "execution_count": 7,
   "id": "794e971a",
   "metadata": {},
   "outputs": [
    {
     "data": {
      "text/html": [
       "<div>\n",
       "<style scoped>\n",
       "    .dataframe tbody tr th:only-of-type {\n",
       "        vertical-align: middle;\n",
       "    }\n",
       "\n",
       "    .dataframe tbody tr th {\n",
       "        vertical-align: top;\n",
       "    }\n",
       "\n",
       "    .dataframe thead th {\n",
       "        text-align: right;\n",
       "    }\n",
       "</style>\n",
       "<table border=\"1\" class=\"dataframe\">\n",
       "  <thead>\n",
       "    <tr style=\"text-align: right;\">\n",
       "      <th></th>\n",
       "      <th>pIC50</th>\n",
       "    </tr>\n",
       "  </thead>\n",
       "  <tbody>\n",
       "    <tr>\n",
       "      <th>PubchemFP654</th>\n",
       "      <td>0.359964</td>\n",
       "    </tr>\n",
       "    <tr>\n",
       "      <th>PubchemFP560</th>\n",
       "      <td>0.359964</td>\n",
       "    </tr>\n",
       "    <tr>\n",
       "      <th>PubchemFP375</th>\n",
       "      <td>0.357097</td>\n",
       "    </tr>\n",
       "    <tr>\n",
       "      <th>PubchemFP16</th>\n",
       "      <td>0.349011</td>\n",
       "    </tr>\n",
       "    <tr>\n",
       "      <th>PubchemFP674</th>\n",
       "      <td>0.328828</td>\n",
       "    </tr>\n",
       "  </tbody>\n",
       "</table>\n",
       "</div>"
      ],
      "text/plain": [
       "                 pIC50\n",
       "PubchemFP654  0.359964\n",
       "PubchemFP560  0.359964\n",
       "PubchemFP375  0.357097\n",
       "PubchemFP16   0.349011\n",
       "PubchemFP674  0.328828"
      ]
     },
     "execution_count": 7,
     "metadata": {},
     "output_type": "execute_result"
    }
   ],
   "source": [
    "corr_ = abs(cleaned_df.corr()[['pIC50']])\n",
    "corr_ = corr_.sort_values(by = 'pIC50', ascending = False)\n",
    "corr_ = corr_[corr_.index != 'pIC50']\n",
    "corr_.fillna(0, inplace = True)\n",
    "corr_.head()"
   ]
  },
  {
   "cell_type": "code",
   "execution_count": 8,
   "id": "c88f77e4",
   "metadata": {
    "scrolled": true
   },
   "outputs": [
    {
     "data": {
      "image/png": "[encoded data removed]",
      "text/plain": [
       "<Figure size 432x288 with 1 Axes>"
      ]
     },
     "metadata": {
      "needs_background": "light"
     },
     "output_type": "display_data"
    }
   ],
   "source": [
    "sns.boxplot(data = corr_, showfliers = False)\n",
    "plt.show()"
   ]
  },
  {
   "cell_type": "code",
   "execution_count": 9,
   "id": "4012a2e8",
   "metadata": {},
   "outputs": [
    {
     "name": "stdout",
     "output_type": "stream",
     "text": [
      "The length of features is 881\n",
      "The length of features is 427\n",
      "The length of features is 322\n",
      "The length of features is 173\n"
     ]
    }
   ],
   "source": [
    "# Selection of correlated columns to Y. \n",
    "cut_off = [0, 0.03, 0.06, 0.10]\n",
    "\n",
    "corr_against_y = list()\n",
    "\n",
    "for number in cut_off:\n",
    "    col = corr_[corr_['pIC50'] >= number]\n",
    "    col = col.index.tolist()\n",
    "    print(f'The length of features is {len(col)}')\n",
    "    corr_against_y.append(col)"
   ]
  },
  {
   "cell_type": "markdown",
   "id": "41541f1e",
   "metadata": {},
   "source": [
    "### Co-variance"
   ]
  },
  {
   "cell_type": "code",
   "execution_count": 10,
   "id": "157f0b03",
   "metadata": {},
   "outputs": [],
   "source": [
    "# Removal of Covariance Columns \n",
    "# Code snippet taken from krishnaik06 https://github.com/krishnaik06/Complete-Feature-Selection\n",
    "\n",
    "def correlation(dataset, threshold):\n",
    "    col_corr = set()  # Set of all the names of correlated columns\n",
    "    corr_matrix = dataset.corr()\n",
    "    for i in range(len(corr_matrix.columns)):\n",
    "        for j in range(i):\n",
    "            if abs(corr_matrix.iloc[i, j]) > threshold: # we are interested in absolute coeff value\n",
    "                colname = corr_matrix.columns[i]  # getting the name of column\n",
    "                col_corr.add(colname)\n",
    "    return col_corr"
   ]
  },
  {
   "cell_type": "code",
   "execution_count": 11,
   "id": "d2e8ec2a",
   "metadata": {},
   "outputs": [
    {
     "name": "stdout",
     "output_type": "stream",
     "text": [
      "The number of covariant features is 484 with a threshold of 0.6\n",
      "The number of covariant features is 387 with a threshold of 0.6\n",
      "The number of covariant features is 294 with a threshold of 0.6\n",
      "The number of covariant features is 158 with a threshold of 0.6\n",
      "The number of covariant features is 453 with a threshold of 0.7\n",
      "The number of covariant features is 360 with a threshold of 0.7\n",
      "The number of covariant features is 276 with a threshold of 0.7\n",
      "The number of covariant features is 151 with a threshold of 0.7\n",
      "The number of covariant features is 401 with a threshold of 0.8\n",
      "The number of covariant features is 320 with a threshold of 0.8\n",
      "The number of covariant features is 247 with a threshold of 0.8\n",
      "The number of covariant features is 141 with a threshold of 0.8\n"
     ]
    }
   ],
   "source": [
    "corr_col = list()\n",
    "threshold = [0.6, 0.7, 0.8]\n",
    "\n",
    "for thres in threshold:\n",
    "    for col in corr_against_y:\n",
    "        covariance = correlation(cleaned_df[col].corr(), thres)\n",
    "        columns = list(covariance)\n",
    "        print(f'The number of covariant features is {len(columns)} with a threshold of {thres}')\n",
    "        corr_col.append(columns)\n",
    "    "
   ]
  },
  {
   "cell_type": "markdown",
   "id": "ce92cc19",
   "metadata": {},
   "source": [
    "### Removal of Low Threshold "
   ]
  },
  {
   "cell_type": "code",
   "execution_count": 12,
   "id": "7263b420",
   "metadata": {},
   "outputs": [],
   "source": [
    "from sklearn.feature_selection import VarianceThreshold"
   ]
  },
  {
   "cell_type": "code",
   "execution_count": 19,
   "id": "8271f633",
   "metadata": {},
   "outputs": [],
   "source": [
    "non_constant_removal = list()"
   ]
  },
  {
   "cell_type": "code",
   "execution_count": 20,
   "id": "8e4029fb",
   "metadata": {
    "collapsed": true
   },
   "outputs": [
    {
     "name": "stdout",
     "output_type": "stream",
     "text": [
      "The Number of features after Low Var removal: 216\n",
      "---------------------------------------------------------------------\n",
      "The Number of features after Low Var removal: 190\n",
      "---------------------------------------------------------------------\n",
      "The Number of features after Low Var removal: 146\n",
      "---------------------------------------------------------------------\n",
      "The Number of features after Low Var removal: 92\n",
      "---------------------------------------------------------------------\n",
      "The Number of features after Low Var removal: 207\n",
      "---------------------------------------------------------------------\n",
      "The Number of features after Low Var removal: 181\n",
      "---------------------------------------------------------------------\n",
      "The Number of features after Low Var removal: 140\n",
      "---------------------------------------------------------------------\n",
      "The Number of features after Low Var removal: 89\n",
      "---------------------------------------------------------------------\n",
      "The Number of features after Low Var removal: 189\n",
      "---------------------------------------------------------------------\n",
      "The Number of features after Low Var removal: 166\n",
      "---------------------------------------------------------------------\n",
      "The Number of features after Low Var removal: 129\n",
      "---------------------------------------------------------------------\n",
      "The Number of features after Low Var removal: 85\n",
      "---------------------------------------------------------------------\n",
      "The Number of features after Low Var removal: 216\n",
      "---------------------------------------------------------------------\n",
      "The Number of features after Low Var removal: 190\n",
      "---------------------------------------------------------------------\n",
      "The Number of features after Low Var removal: 146\n",
      "---------------------------------------------------------------------\n",
      "The Number of features after Low Var removal: 92\n",
      "---------------------------------------------------------------------\n",
      "The Number of features after Low Var removal: 207\n",
      "---------------------------------------------------------------------\n",
      "The Number of features after Low Var removal: 181\n",
      "---------------------------------------------------------------------\n",
      "The Number of features after Low Var removal: 140\n",
      "---------------------------------------------------------------------\n",
      "The Number of features after Low Var removal: 89\n",
      "---------------------------------------------------------------------\n",
      "The Number of features after Low Var removal: 189\n",
      "---------------------------------------------------------------------\n",
      "The Number of features after Low Var removal: 166\n",
      "---------------------------------------------------------------------\n",
      "The Number of features after Low Var removal: 129\n",
      "---------------------------------------------------------------------\n",
      "The Number of features after Low Var removal: 85\n",
      "---------------------------------------------------------------------\n",
      "The Number of features after Low Var removal: 216\n",
      "---------------------------------------------------------------------\n",
      "The Number of features after Low Var removal: 190\n",
      "---------------------------------------------------------------------\n",
      "The Number of features after Low Var removal: 146\n",
      "---------------------------------------------------------------------\n",
      "The Number of features after Low Var removal: 92\n",
      "---------------------------------------------------------------------\n",
      "The Number of features after Low Var removal: 207\n",
      "---------------------------------------------------------------------\n",
      "The Number of features after Low Var removal: 181\n",
      "---------------------------------------------------------------------\n",
      "The Number of features after Low Var removal: 140\n",
      "---------------------------------------------------------------------\n",
      "The Number of features after Low Var removal: 89\n",
      "---------------------------------------------------------------------\n",
      "The Number of features after Low Var removal: 189\n",
      "---------------------------------------------------------------------\n",
      "The Number of features after Low Var removal: 166\n",
      "---------------------------------------------------------------------\n",
      "The Number of features after Low Var removal: 129\n",
      "---------------------------------------------------------------------\n",
      "The Number of features after Low Var removal: 85\n",
      "---------------------------------------------------------------------\n"
     ]
    }
   ],
   "source": [
    "for thres in [0.001, 0.01, 0.1]:\n",
    "    for col in corr_col:\n",
    "        X = cleaned_df[col]\n",
    "        selector = VarianceThreshold(0.1)\n",
    "        selection = selector.fit_transform(X)\n",
    "        keep = X.columns[selector.get_support()]\n",
    "        keep = keep.tolist()\n",
    "        print(f'The Number of features after Low Var removal: {len(keep)}')\n",
    "        print('---------------------------------------------------------------------')\n",
    "        non_constant_removal.append(keep)"
   ]
  },
  {
   "cell_type": "code",
   "execution_count": 22,
   "id": "8f3a1c30",
   "metadata": {},
   "outputs": [],
   "source": [
    "final_output = corr_against_y + corr_col + non_constant_removal"
   ]
  },
  {
   "cell_type": "code",
   "execution_count": 38,
   "id": "7a09e0f4",
   "metadata": {},
   "outputs": [],
   "source": [
    "dict_ = {}\n",
    "\n",
    "for i in range(len(final_output)):\n",
    "    dict_[i] = [final_output[i]]"
   ]
  },
  {
   "cell_type": "code",
   "execution_count": 44,
   "id": "9b9ce4e8",
   "metadata": {},
   "outputs": [],
   "source": [
    "df_feature = pd.DataFrame(dict_).transpose()\n",
    "df_feature.columns = ['features']"
   ]
  },
  {
   "cell_type": "code",
   "execution_count": 50,
   "id": "aa94ea8f",
   "metadata": {},
   "outputs": [
    {
     "data": {
      "text/html": [
       "<div>\n",
       "<style scoped>\n",
       "    .dataframe tbody tr th:only-of-type {\n",
       "        vertical-align: middle;\n",
       "    }\n",
       "\n",
       "    .dataframe tbody tr th {\n",
       "        vertical-align: top;\n",
       "    }\n",
       "\n",
       "    .dataframe thead th {\n",
       "        text-align: right;\n",
       "    }\n",
       "</style>\n",
       "<table border=\"1\" class=\"dataframe\">\n",
       "  <thead>\n",
       "    <tr style=\"text-align: right;\">\n",
       "      <th></th>\n",
       "      <th>features</th>\n",
       "      <th>length</th>\n",
       "    </tr>\n",
       "  </thead>\n",
       "  <tbody>\n",
       "    <tr>\n",
       "      <th>0</th>\n",
       "      <td>[PubchemFP654, PubchemFP560, PubchemFP375, Pub...</td>\n",
       "      <td>881</td>\n",
       "    </tr>\n",
       "    <tr>\n",
       "      <th>1</th>\n",
       "      <td>[PubchemFP654, PubchemFP560, PubchemFP375, Pub...</td>\n",
       "      <td>427</td>\n",
       "    </tr>\n",
       "    <tr>\n",
       "      <th>2</th>\n",
       "      <td>[PubchemFP654, PubchemFP560, PubchemFP375, Pub...</td>\n",
       "      <td>322</td>\n",
       "    </tr>\n",
       "    <tr>\n",
       "      <th>3</th>\n",
       "      <td>[PubchemFP654, PubchemFP560, PubchemFP375, Pub...</td>\n",
       "      <td>173</td>\n",
       "    </tr>\n",
       "    <tr>\n",
       "      <th>4</th>\n",
       "      <td>[PubchemFP409, PubchemFP532, PubchemFP566, Pub...</td>\n",
       "      <td>484</td>\n",
       "    </tr>\n",
       "  </tbody>\n",
       "</table>\n",
       "</div>"
      ],
      "text/plain": [
       "                                            features  length\n",
       "0  [PubchemFP654, PubchemFP560, PubchemFP375, Pub...     881\n",
       "1  [PubchemFP654, PubchemFP560, PubchemFP375, Pub...     427\n",
       "2  [PubchemFP654, PubchemFP560, PubchemFP375, Pub...     322\n",
       "3  [PubchemFP654, PubchemFP560, PubchemFP375, Pub...     173\n",
       "4  [PubchemFP409, PubchemFP532, PubchemFP566, Pub...     484"
      ]
     },
     "execution_count": 50,
     "metadata": {},
     "output_type": "execute_result"
    }
   ],
   "source": [
    "df_feature.head()"
   ]
  },
  {
   "cell_type": "code",
   "execution_count": 49,
   "id": "0b7205a2",
   "metadata": {},
   "outputs": [],
   "source": [
    "df_feature['length'] = df_feature['features'].apply(len)"
   ]
  },
  {
   "cell_type": "markdown",
   "id": "b3cb7b1d",
   "metadata": {},
   "source": [
    "### droping Duplicate Features from selection process"
   ]
  },
  {
   "cell_type": "code",
   "execution_count": null,
   "id": "f4928ba5",
   "metadata": {},
   "outputs": [],
   "source": [
    "len(df_featu)"
   ]
  },
  {
   "cell_type": "code",
   "execution_count": 61,
   "id": "f87924fb",
   "metadata": {},
   "outputs": [],
   "source": [
    "df_feature = df_feature.drop_duplicates('length', keep = 'first')"
   ]
  },
  {
   "cell_type": "code",
   "execution_count": 62,
   "id": "2ce4973d",
   "metadata": {},
   "outputs": [
    {
     "data": {
      "text/plain": [
       "28"
      ]
     },
     "execution_count": 62,
     "metadata": {},
     "output_type": "execute_result"
    }
   ],
   "source": [
    "len(df_feature)"
   ]
  },
  {
   "cell_type": "code",
   "execution_count": null,
   "id": "6d793c3b",
   "metadata": {},
   "outputs": [],
   "source": []
  }
 ],
 "metadata": {
  "kernelspec": {
   "display_name": "Python 3 (ipykernel)",
   "language": "python",
   "name": "python3"
  },
  "language_info": {
   "codemirror_mode": {
    "name": "ipython",
    "version": 3
   },
   "file_extension": ".py",
   "mimetype": "text/x-python",
   "name": "python",
   "nbconvert_exporter": "python",
   "pygments_lexer": "ipython3",
   "version": "3.9.12"
  }
 },
 "nbformat": 4,
 "nbformat_minor": 5
}
