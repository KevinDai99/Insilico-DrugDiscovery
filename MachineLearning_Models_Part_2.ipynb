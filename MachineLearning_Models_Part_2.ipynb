{
 "cells": [
  {
   "cell_type": "code",
   "execution_count": 1,
   "id": "1d59672d",
   "metadata": {},
   "outputs": [],
   "source": [
    "import pandas as pd \n",
    "import numpy as np\n",
    "import matplotlib.pyplot as plt\n",
    "import seaborn as sns\n",
    "\n",
    "import warnings\n",
    "\n",
    "warnings.filterwarnings(\"ignore\")"
   ]
  },
  {
   "cell_type": "markdown",
   "id": "f7d3724b",
   "metadata": {},
   "source": [
    "## Combining Results "
   ]
  },
  {
   "cell_type": "code",
   "execution_count": 2,
   "id": "25e367e5",
   "metadata": {},
   "outputs": [],
   "source": [
    "fingerprints = pd.read_csv('resources/descriptors_output.csv')"
   ]
  },
  {
   "cell_type": "code",
   "execution_count": 3,
   "id": "9c454dba",
   "metadata": {},
   "outputs": [],
   "source": [
    "fingerprints.rename({'Name': 'molecule_chembl_id'}, axis = 1, inplace = True)"
   ]
  },
  {
   "cell_type": "code",
   "execution_count": 4,
   "id": "306a1036",
   "metadata": {},
   "outputs": [],
   "source": [
    "bioactivity = pd.read_csv('output/bioactivity.csv')\n",
    "bioactivity = bioactivity[['molecule_chembl_id', 'pIC50']]"
   ]
  },
  {
   "cell_type": "code",
   "execution_count": 5,
   "id": "0aadf2ab",
   "metadata": {},
   "outputs": [],
   "source": [
    "cleaned_df = pd.merge(fingerprints, bioactivity, on = 'molecule_chembl_id')"
   ]
  },
  {
   "cell_type": "code",
   "execution_count": 6,
   "id": "9c7de741",
   "metadata": {},
   "outputs": [
    {
     "data": {
      "text/html": [
       "<div>\n",
       "<style scoped>\n",
       "    .dataframe tbody tr th:only-of-type {\n",
       "        vertical-align: middle;\n",
       "    }\n",
       "\n",
       "    .dataframe tbody tr th {\n",
       "        vertical-align: top;\n",
       "    }\n",
       "\n",
       "    .dataframe thead th {\n",
       "        text-align: right;\n",
       "    }\n",
       "</style>\n",
       "<table border=\"1\" class=\"dataframe\">\n",
       "  <thead>\n",
       "    <tr style=\"text-align: right;\">\n",
       "      <th></th>\n",
       "      <th>molecule_chembl_id</th>\n",
       "      <th>PubchemFP0</th>\n",
       "      <th>PubchemFP1</th>\n",
       "      <th>PubchemFP2</th>\n",
       "      <th>PubchemFP3</th>\n",
       "      <th>PubchemFP4</th>\n",
       "      <th>PubchemFP5</th>\n",
       "      <th>PubchemFP6</th>\n",
       "      <th>PubchemFP7</th>\n",
       "      <th>PubchemFP8</th>\n",
       "      <th>...</th>\n",
       "      <th>PubchemFP872</th>\n",
       "      <th>PubchemFP873</th>\n",
       "      <th>PubchemFP874</th>\n",
       "      <th>PubchemFP875</th>\n",
       "      <th>PubchemFP876</th>\n",
       "      <th>PubchemFP877</th>\n",
       "      <th>PubchemFP878</th>\n",
       "      <th>PubchemFP879</th>\n",
       "      <th>PubchemFP880</th>\n",
       "      <th>pIC50</th>\n",
       "    </tr>\n",
       "  </thead>\n",
       "  <tbody>\n",
       "    <tr>\n",
       "      <th>0</th>\n",
       "      <td>CHEMBL1077291</td>\n",
       "      <td>1</td>\n",
       "      <td>1</td>\n",
       "      <td>0</td>\n",
       "      <td>0</td>\n",
       "      <td>0</td>\n",
       "      <td>0</td>\n",
       "      <td>0</td>\n",
       "      <td>0</td>\n",
       "      <td>0</td>\n",
       "      <td>...</td>\n",
       "      <td>0</td>\n",
       "      <td>0</td>\n",
       "      <td>0</td>\n",
       "      <td>0</td>\n",
       "      <td>0</td>\n",
       "      <td>0</td>\n",
       "      <td>0</td>\n",
       "      <td>0</td>\n",
       "      <td>0</td>\n",
       "      <td>7.823909</td>\n",
       "    </tr>\n",
       "    <tr>\n",
       "      <th>1</th>\n",
       "      <td>CHEMBL1083839</td>\n",
       "      <td>1</td>\n",
       "      <td>1</td>\n",
       "      <td>0</td>\n",
       "      <td>0</td>\n",
       "      <td>0</td>\n",
       "      <td>0</td>\n",
       "      <td>0</td>\n",
       "      <td>0</td>\n",
       "      <td>0</td>\n",
       "      <td>...</td>\n",
       "      <td>0</td>\n",
       "      <td>0</td>\n",
       "      <td>0</td>\n",
       "      <td>0</td>\n",
       "      <td>0</td>\n",
       "      <td>0</td>\n",
       "      <td>0</td>\n",
       "      <td>0</td>\n",
       "      <td>0</td>\n",
       "      <td>5.000000</td>\n",
       "    </tr>\n",
       "  </tbody>\n",
       "</table>\n",
       "<p>2 rows × 883 columns</p>\n",
       "</div>"
      ],
      "text/plain": [
       "  molecule_chembl_id  PubchemFP0  PubchemFP1  PubchemFP2  PubchemFP3  \\\n",
       "0      CHEMBL1077291           1           1           0           0   \n",
       "1      CHEMBL1083839           1           1           0           0   \n",
       "\n",
       "   PubchemFP4  PubchemFP5  PubchemFP6  PubchemFP7  PubchemFP8  ...  \\\n",
       "0           0           0           0           0           0  ...   \n",
       "1           0           0           0           0           0  ...   \n",
       "\n",
       "   PubchemFP872  PubchemFP873  PubchemFP874  PubchemFP875  PubchemFP876  \\\n",
       "0             0             0             0             0             0   \n",
       "1             0             0             0             0             0   \n",
       "\n",
       "   PubchemFP877  PubchemFP878  PubchemFP879  PubchemFP880     pIC50  \n",
       "0             0             0             0             0  7.823909  \n",
       "1             0             0             0             0  5.000000  \n",
       "\n",
       "[2 rows x 883 columns]"
      ]
     },
     "execution_count": 6,
     "metadata": {},
     "output_type": "execute_result"
    }
   ],
   "source": [
    "cleaned_df.head(2)"
   ]
  },
  {
   "cell_type": "code",
   "execution_count": 7,
   "id": "21656cc2",
   "metadata": {},
   "outputs": [],
   "source": [
    "cleaned_df.drop('molecule_chembl_id', axis = 1, inplace = True)"
   ]
  },
  {
   "cell_type": "markdown",
   "id": "1106e312",
   "metadata": {},
   "source": [
    "## Input Features "
   ]
  },
  {
   "cell_type": "markdown",
   "id": "63b4ead6",
   "metadata": {},
   "source": [
    "* There data set condatins 880 inputs and one variable (pIC50). However, not are inputs are created equal - for instance, if a input does not have much variation accross IDs - we need to remove it, as it would be unnessary noise for "
   ]
  },
  {
   "cell_type": "markdown",
   "id": "2a1b4732",
   "metadata": {},
   "source": [
    "### Principle Component Analysis "
   ]
  },
  {
   "cell_type": "code",
   "execution_count": 8,
   "id": "8d810dcf",
   "metadata": {},
   "outputs": [],
   "source": [
    "x = cleaned_df.iloc[:, :-1]"
   ]
  },
  {
   "cell_type": "code",
   "execution_count": 9,
   "id": "57316407",
   "metadata": {},
   "outputs": [],
   "source": [
    "from sklearn.decomposition import PCA\n",
    "\n",
    "pca = PCA(n_components = 0.95)\n",
    "pca.fit(x)\n",
    "reduced = pca.transform(x)"
   ]
  },
  {
   "cell_type": "code",
   "execution_count": 10,
   "id": "5d92ceb7",
   "metadata": {
    "scrolled": true
   },
   "outputs": [
    {
     "data": {
      "image/png": "[encoded data removed]",
      "text/plain": [
       "<Figure size 720x360 with 1 Axes>"
      ]
     },
     "metadata": {
      "needs_background": "light"
     },
     "output_type": "display_data"
    }
   ],
   "source": [
    "plt.figure(figsize=(10, 5))\n",
    "\n",
    "y = np.cumsum(pca.explained_variance_ratio_)\n",
    "\n",
    "plt.ylim(0.0,1.1)\n",
    "plt.plot( y, marker='o', linestyle='--', color='b')\n",
    "\n",
    "plt.xlabel('Number of Components')\n",
    "plt.ylabel('Cumulative variance (%)')\n",
    "plt.title('The number of components needed to explain variance')\n",
    "\n",
    "plt.axhline(y=0.90, color='r', linestyle='-')\n",
    "plt.text(0.5, 0.85, '95% cut-off threshold', color = 'red', fontsize=16)\n",
    "plt.savefig('Output/figures/PCA_Analysis.pdf')\n",
    "plt.show()"
   ]
  },
  {
   "cell_type": "code",
   "execution_count": 11,
   "id": "af12a229",
   "metadata": {},
   "outputs": [],
   "source": [
    "reduced_df = pd.DataFrame(reduced)"
   ]
  },
  {
   "cell_type": "code",
   "execution_count": 12,
   "id": "26d30a02",
   "metadata": {},
   "outputs": [],
   "source": [
    "reduced_df['pIC50'] = cleaned_df['pIC50']"
   ]
  },
  {
   "cell_type": "markdown",
   "id": "61e70b18",
   "metadata": {},
   "source": [
    "## Machine Learning Models "
   ]
  },
  {
   "cell_type": "code",
   "execution_count": 13,
   "id": "fb3f7efd",
   "metadata": {},
   "outputs": [],
   "source": [
    "X = reduced_df.iloc[:, :-1]\n",
    "Y = reduced_df.iloc[:, -1]"
   ]
  },
  {
   "cell_type": "code",
   "execution_count": 14,
   "id": "135656cb",
   "metadata": {},
   "outputs": [],
   "source": [
    "from sklearn.model_selection import train_test_split\n",
    "from sklearn.ensemble import RandomForestRegressor\n",
    "from sklearn.metrics import mean_squared_error\n",
    "from sklearn.metrics import r2_score"
   ]
  },
  {
   "cell_type": "code",
   "execution_count": 15,
   "id": "9d8494bd",
   "metadata": {},
   "outputs": [],
   "source": [
    "X_train, X_test, Y_train, Y_test = train_test_split(X, Y, test_size=0.2, random_state = 1)"
   ]
  },
  {
   "cell_type": "markdown",
   "id": "ff1498d3",
   "metadata": {},
   "source": [
    "### 1.1 Linear Regression"
   ]
  },
  {
   "cell_type": "code",
   "execution_count": 16,
   "id": "9640bd81",
   "metadata": {},
   "outputs": [],
   "source": [
    "from sklearn.linear_model import LinearRegression"
   ]
  },
  {
   "cell_type": "code",
   "execution_count": 17,
   "id": "12c9f3e2",
   "metadata": {},
   "outputs": [],
   "source": [
    "def lr(X_train, Y_train, X_test, Y_test):\n",
    "    model = LinearRegression()\n",
    "    model.fit(X_train, Y_train)\n",
    "    Y_pred = model.predict(X_test)\n",
    "    mse = mean_squared_error(Y_test, Y_pred)\n",
    "    return mse, Y_test, Y_pred"
   ]
  },
  {
   "cell_type": "code",
   "execution_count": 18,
   "id": "895d4bae",
   "metadata": {},
   "outputs": [],
   "source": [
    "mse, Y_test_lin, Y_pred_lin = lr(X_train, Y_train, X_test, Y_test)"
   ]
  },
  {
   "cell_type": "code",
   "execution_count": 19,
   "id": "e538ce30",
   "metadata": {},
   "outputs": [
    {
     "data": {
      "image/png": "[encoded data removed]",
      "text/plain": [
       "<Figure size 360x360 with 1 Axes>"
      ]
     },
     "metadata": {},
     "output_type": "display_data"
    }
   ],
   "source": [
    "sns.set(color_codes=True)\n",
    "sns.set_style(\"white\")\n",
    "\n",
    "ax = sns.regplot(Y_test_lin, Y_pred_lin, scatter_kws={'alpha':0.4})\n",
    "ax.set_xlabel('Experimental pIC50', fontsize='large', fontweight='bold')\n",
    "ax.set_ylabel('Predicted pIC50', fontsize='large', fontweight='bold')\n",
    "ax.set_xlim(4, 10)\n",
    "ax.set_ylim(0, 12)\n",
    "ax.figure.set_size_inches(5, 5)\n",
    "plt.savefig('Output/figures/LinearRegression.pdf')\n",
    "plt.show()"
   ]
  },
  {
   "cell_type": "code",
   "execution_count": 20,
   "id": "594f3411",
   "metadata": {},
   "outputs": [
    {
     "data": {
      "text/plain": [
       "0.2657303542335476"
      ]
     },
     "execution_count": 20,
     "metadata": {},
     "output_type": "execute_result"
    }
   ],
   "source": [
    "r2_score(Y_test_lin, Y_pred_lin)"
   ]
  },
  {
   "cell_type": "markdown",
   "id": "360d62f3",
   "metadata": {},
   "source": [
    "### 1.2 Random Forest"
   ]
  },
  {
   "cell_type": "code",
   "execution_count": 21,
   "id": "05474662",
   "metadata": {},
   "outputs": [],
   "source": [
    "def RandomForest(X_train, Y_train, X_test, Y_test, min_sample, max_depth, bootstrap):\n",
    "    model = RandomForestRegressor(min_samples_leaf = min_sample, max_depth= max_depth, bootstrap = bootstrap)\n",
    "    model.fit(X_train, Y_train)\n",
    "    Y_pred = model.predict(X_test)\n",
    "    pred = model.predict(X_train)\n",
    "    mse = mean_squared_error(Y_test, Y_pred)\n",
    "    \n",
    "    # Overfitting \n",
    "    mse_overfit_check = mean_squared_error(pred, Y_train)\n",
    "    \n",
    "    return mse, mse_overfit_check"
   ]
  },
  {
   "cell_type": "code",
   "execution_count": 22,
   "id": "6aa87f56",
   "metadata": {},
   "outputs": [],
   "source": [
    "mse, mse_overfit_check = RandomForest(X_train, Y_train, X_test, Y_test, min_sample = 2, max_depth = 10, bootstrap = True)"
   ]
  },
  {
   "cell_type": "markdown",
   "id": "c42db072",
   "metadata": {},
   "source": [
    "### Hyper Optimization of Random Forest"
   ]
  },
  {
   "cell_type": "code",
   "execution_count": 23,
   "id": "eaf9377e",
   "metadata": {},
   "outputs": [],
   "source": [
    "hyper_optimize = []\n",
    "\n",
    "for i in [2, 4, 6, 8, 10]:\n",
    "    for x in [2, 10, 20, 30, 40, 50, 60, 70, 80, 90, 100]:\n",
    "            mse, mse_overfit_check = RandomForest(X_train, Y_train, X_test, Y_test, min_sample = i, max_depth = x, bootstrap = True)\n",
    "            hyper_optimize.append([i, x, mse, mse_overfit_check])\n",
    "\n",
    "df_hyper = pd.DataFrame(hyper_optimize, columns = ['min_sample', 'depth', 'mse', 'mse_overfit_check'])"
   ]
  },
  {
   "cell_type": "code",
   "execution_count": 24,
   "id": "21ee4d2e",
   "metadata": {},
   "outputs": [
    {
     "data": {
      "text/html": [
       "<div>\n",
       "<style scoped>\n",
       "    .dataframe tbody tr th:only-of-type {\n",
       "        vertical-align: middle;\n",
       "    }\n",
       "\n",
       "    .dataframe tbody tr th {\n",
       "        vertical-align: top;\n",
       "    }\n",
       "\n",
       "    .dataframe thead th {\n",
       "        text-align: right;\n",
       "    }\n",
       "</style>\n",
       "<table border=\"1\" class=\"dataframe\">\n",
       "  <thead>\n",
       "    <tr style=\"text-align: right;\">\n",
       "      <th></th>\n",
       "      <th>min_sample</th>\n",
       "      <th>depth</th>\n",
       "      <th>mse</th>\n",
       "      <th>mse_overfit_check</th>\n",
       "    </tr>\n",
       "  </thead>\n",
       "  <tbody>\n",
       "    <tr>\n",
       "      <th>4</th>\n",
       "      <td>2</td>\n",
       "      <td>40</td>\n",
       "      <td>0.833295</td>\n",
       "      <td>0.149624</td>\n",
       "    </tr>\n",
       "    <tr>\n",
       "      <th>15</th>\n",
       "      <td>4</td>\n",
       "      <td>40</td>\n",
       "      <td>0.839797</td>\n",
       "      <td>0.216050</td>\n",
       "    </tr>\n",
       "    <tr>\n",
       "      <th>2</th>\n",
       "      <td>2</td>\n",
       "      <td>20</td>\n",
       "      <td>0.852279</td>\n",
       "      <td>0.149944</td>\n",
       "    </tr>\n",
       "    <tr>\n",
       "      <th>5</th>\n",
       "      <td>2</td>\n",
       "      <td>50</td>\n",
       "      <td>0.855260</td>\n",
       "      <td>0.156567</td>\n",
       "    </tr>\n",
       "    <tr>\n",
       "      <th>21</th>\n",
       "      <td>4</td>\n",
       "      <td>100</td>\n",
       "      <td>0.856019</td>\n",
       "      <td>0.215247</td>\n",
       "    </tr>\n",
       "  </tbody>\n",
       "</table>\n",
       "</div>"
      ],
      "text/plain": [
       "    min_sample  depth       mse  mse_overfit_check\n",
       "4            2     40  0.833295           0.149624\n",
       "15           4     40  0.839797           0.216050\n",
       "2            2     20  0.852279           0.149944\n",
       "5            2     50  0.855260           0.156567\n",
       "21           4    100  0.856019           0.215247"
      ]
     },
     "execution_count": 24,
     "metadata": {},
     "output_type": "execute_result"
    }
   ],
   "source": [
    "df_hyper.sort_values(by = 'mse').head()"
   ]
  },
  {
   "cell_type": "markdown",
   "id": "e3434942",
   "metadata": {},
   "source": [
    " Based on our hyperoptimization tests, a min_sample of 2 and max_depth of 4 has the lowest mse. Further, the mse and the mse of the overfit check are signifcantly different from each other. This suggests that the model does not suffer from overfitting."
   ]
  },
  {
   "cell_type": "code",
   "execution_count": 25,
   "id": "5cb74a55",
   "metadata": {},
   "outputs": [],
   "source": [
    "def RandomForest_optimized(X_train, Y_train, X_test, Y_test, min_sample, max_depth, bootstrap):\n",
    "    model = RandomForestRegressor(min_samples_leaf = min_sample, max_depth= max_depth, bootstrap = bootstrap)\n",
    "    model.fit(X_train, Y_train)\n",
    "    Y_pred = model.predict(X_test)\n",
    "    pred = model.predict(X_train)\n",
    "    mse = mean_squared_error(Y_test, Y_pred)\n",
    "\n",
    "    return Y_pred, Y_test"
   ]
  },
  {
   "cell_type": "code",
   "execution_count": 26,
   "id": "e03d3cd3",
   "metadata": {},
   "outputs": [],
   "source": [
    "Y_test_final, Y_Pred_final = RandomForest_optimized(X_train, Y_train, X_test, Y_test, min_sample = 2, max_depth = 90, bootstrap = True)"
   ]
  },
  {
   "cell_type": "code",
   "execution_count": 27,
   "id": "23b19adf",
   "metadata": {},
   "outputs": [
    {
     "data": {
      "image/png": "[encoded data removed]",
      "text/plain": [
       "<Figure size 360x360 with 1 Axes>"
      ]
     },
     "metadata": {},
     "output_type": "display_data"
    }
   ],
   "source": [
    "import seaborn as sns\n",
    "import matplotlib.pyplot as plt\n",
    "\n",
    "sns.set(color_codes=True)\n",
    "sns.set_style(\"white\")\n",
    "\n",
    "ax = sns.regplot(Y_test_final, Y_Pred_final, scatter_kws={'alpha':0.4})\n",
    "ax.set_xlabel('Experimental pIC50', fontsize='large', fontweight='bold')\n",
    "ax.set_ylabel('Predicted pIC50', fontsize='large', fontweight='bold')\n",
    "ax.set_xlim(4, 10)\n",
    "ax.set_ylim(0, 12)\n",
    "ax.figure.set_size_inches(5, 5)\n",
    "plt.savefig('Output/figures/RandomForest.pdf')\n",
    "plt.show()"
   ]
  },
  {
   "cell_type": "code",
   "execution_count": 28,
   "id": "39539138",
   "metadata": {},
   "outputs": [
    {
     "data": {
      "text/plain": [
       "0.4065705300104535"
      ]
     },
     "execution_count": 28,
     "metadata": {},
     "output_type": "execute_result"
    }
   ],
   "source": [
    "r2_score(Y_Pred_final, Y_test_final)"
   ]
  }
 ],
 "metadata": {
  "kernelspec": {
   "display_name": "Python 3 (ipykernel)",
   "language": "python",
   "name": "python3"
  },
  "language_info": {
   "codemirror_mode": {
    "name": "ipython",
    "version": 3
   },
   "file_extension": ".py",
   "mimetype": "text/x-python",
   "name": "python",
   "nbconvert_exporter": "python",
   "pygments_lexer": "ipython3",
   "version": "3.9.12"
  }
 },
 "nbformat": 4,
 "nbformat_minor": 5
}
