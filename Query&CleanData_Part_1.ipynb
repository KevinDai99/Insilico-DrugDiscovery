{
 "cells": [
  {
   "cell_type": "code",
   "execution_count": 61,
   "id": "f7c5dbe6",
   "metadata": {},
   "outputs": [],
   "source": [
    "import pandas as pd\n",
    "import numpy as np "
   ]
  },
  {
   "cell_type": "markdown",
   "id": "ba27b178",
   "metadata": {},
   "source": [
    "# ChEMBL Database\n",
    "----\n",
    "\n",
    "**ChEMBL: a large-scale bioactivity database for drug discovery**\n",
    "Anna Gaulton,1 Louisa J. Bellis,1 A. Patricia Bento,1 Jon Chambers,1 Mark Davies,1 Anne Hersey,1 Yvonne Light,1 Shaun McGlinchey,1 David Michalovich,2 Bissan Al-Lazikani,3 and John P. Overington1,*\n",
    "\n",
    "ChEMBL is an Open Data database containing binding, functional and ADMET information for a large number of drug-like bioactive compounds. These data are manually abstracted from the primary published literature on a regular basis, then further curated and standardized to maximize their quality and utility across a wide range of chemical biology and drug-discovery research problems. Currently, the database contains **5.4 million bioactivity measurements for more than 1 million compounds and 5200 protein targets. Access is available through a web-based interface, data downloads and web services at: https://www.ebi.ac.uk/chembldb.**"
   ]
  },
  {
   "cell_type": "code",
   "execution_count": 62,
   "id": "652cb9bd",
   "metadata": {},
   "outputs": [],
   "source": [
    "from chembl_webresource_client.new_client import new_client"
   ]
  },
  {
   "cell_type": "markdown",
   "id": "75af4feb",
   "metadata": {},
   "source": [
    "## Acute Myeloid Leukemia "
   ]
  },
  {
   "cell_type": "code",
   "execution_count": 63,
   "id": "08c39113",
   "metadata": {},
   "outputs": [
    {
     "data": {
      "text/html": [
       "<div>\n",
       "<style scoped>\n",
       "    .dataframe tbody tr th:only-of-type {\n",
       "        vertical-align: middle;\n",
       "    }\n",
       "\n",
       "    .dataframe tbody tr th {\n",
       "        vertical-align: top;\n",
       "    }\n",
       "\n",
       "    .dataframe thead th {\n",
       "        text-align: right;\n",
       "    }\n",
       "</style>\n",
       "<table border=\"1\" class=\"dataframe\">\n",
       "  <thead>\n",
       "    <tr style=\"text-align: right;\">\n",
       "      <th></th>\n",
       "      <th>cross_references</th>\n",
       "      <th>organism</th>\n",
       "      <th>pref_name</th>\n",
       "      <th>score</th>\n",
       "      <th>species_group_flag</th>\n",
       "      <th>target_chembl_id</th>\n",
       "      <th>target_components</th>\n",
       "      <th>target_type</th>\n",
       "      <th>tax_id</th>\n",
       "    </tr>\n",
       "  </thead>\n",
       "  <tbody>\n",
       "    <tr>\n",
       "      <th>0</th>\n",
       "      <td>[]</td>\n",
       "      <td>Mus musculus</td>\n",
       "      <td>Receptor-type tyrosine-protein kinase FLT3</td>\n",
       "      <td>18.0</td>\n",
       "      <td>False</td>\n",
       "      <td>CHEMBL2034796</td>\n",
       "      <td>[{'accession': 'Q00342', 'component_descriptio...</td>\n",
       "      <td>SINGLE PROTEIN</td>\n",
       "      <td>10090</td>\n",
       "    </tr>\n",
       "    <tr>\n",
       "      <th>1</th>\n",
       "      <td>[{'xref_id': 'P36888', 'xref_name': None, 'xre...</td>\n",
       "      <td>Homo sapiens</td>\n",
       "      <td>Tyrosine-protein kinase receptor FLT3</td>\n",
       "      <td>16.0</td>\n",
       "      <td>False</td>\n",
       "      <td>CHEMBL1974</td>\n",
       "      <td>[{'accession': 'P36888', 'component_descriptio...</td>\n",
       "      <td>SINGLE PROTEIN</td>\n",
       "      <td>9606</td>\n",
       "    </tr>\n",
       "    <tr>\n",
       "      <th>2</th>\n",
       "      <td>[]</td>\n",
       "      <td>Homo sapiens</td>\n",
       "      <td>VHL/FLT3</td>\n",
       "      <td>15.0</td>\n",
       "      <td>False</td>\n",
       "      <td>CHEMBL4523735</td>\n",
       "      <td>[{'accession': 'P36888', 'component_descriptio...</td>\n",
       "      <td>PROTEIN-PROTEIN INTERACTION</td>\n",
       "      <td>9606</td>\n",
       "    </tr>\n",
       "    <tr>\n",
       "      <th>3</th>\n",
       "      <td>[]</td>\n",
       "      <td>Homo sapiens</td>\n",
       "      <td>Protein cereblon/Tyrosine-protein kinase recep...</td>\n",
       "      <td>15.0</td>\n",
       "      <td>False</td>\n",
       "      <td>CHEMBL4630730</td>\n",
       "      <td>[{'accession': 'P36888', 'component_descriptio...</td>\n",
       "      <td>PROTEIN-PROTEIN INTERACTION</td>\n",
       "      <td>9606</td>\n",
       "    </tr>\n",
       "  </tbody>\n",
       "</table>\n",
       "</div>"
      ],
      "text/plain": [
       "                                    cross_references      organism  \\\n",
       "0                                                 []  Mus musculus   \n",
       "1  [{'xref_id': 'P36888', 'xref_name': None, 'xre...  Homo sapiens   \n",
       "2                                                 []  Homo sapiens   \n",
       "3                                                 []  Homo sapiens   \n",
       "\n",
       "                                           pref_name  score  \\\n",
       "0         Receptor-type tyrosine-protein kinase FLT3   18.0   \n",
       "1              Tyrosine-protein kinase receptor FLT3   16.0   \n",
       "2                                           VHL/FLT3   15.0   \n",
       "3  Protein cereblon/Tyrosine-protein kinase recep...   15.0   \n",
       "\n",
       "   species_group_flag target_chembl_id  \\\n",
       "0               False    CHEMBL2034796   \n",
       "1               False       CHEMBL1974   \n",
       "2               False    CHEMBL4523735   \n",
       "3               False    CHEMBL4630730   \n",
       "\n",
       "                                   target_components  \\\n",
       "0  [{'accession': 'Q00342', 'component_descriptio...   \n",
       "1  [{'accession': 'P36888', 'component_descriptio...   \n",
       "2  [{'accession': 'P36888', 'component_descriptio...   \n",
       "3  [{'accession': 'P36888', 'component_descriptio...   \n",
       "\n",
       "                   target_type  tax_id  \n",
       "0               SINGLE PROTEIN   10090  \n",
       "1               SINGLE PROTEIN    9606  \n",
       "2  PROTEIN-PROTEIN INTERACTION    9606  \n",
       "3  PROTEIN-PROTEIN INTERACTION    9606  "
      ]
     },
     "execution_count": 63,
     "metadata": {},
     "output_type": "execute_result"
    }
   ],
   "source": [
    "target = new_client.target\n",
    "target_query = target.search('FLT3')\n",
    "targets = pd.DataFrame(target_query)\n",
    "\n",
    "targets.head()"
   ]
  },
  {
   "cell_type": "markdown",
   "id": "022899b6",
   "metadata": {},
   "source": [
    "### Retrieve Bioactivity Data from Tyrosine-Protein-Kinase Receptor \n",
    "---\n",
    "\n",
    "IC50: The half maximal inhibitory concentration (IC50) is a measure of the potency of a substance in inhibiting a specific biological or biochemical function.\n",
    "\n",
    "* The smalller the value the better - less concentration needed for inhibition."
   ]
  },
  {
   "cell_type": "code",
   "execution_count": 64,
   "id": "427ed1dd",
   "metadata": {},
   "outputs": [],
   "source": [
    "activity = new_client.activity\n",
    "res = activity.filter(target_chembl_id = 'CHEMBL1974').filter(standard_type = 'IC50')"
   ]
  },
  {
   "cell_type": "code",
   "execution_count": 65,
   "id": "04bea2ad",
   "metadata": {},
   "outputs": [],
   "source": [
    "# Select first 1000 rows \n",
    "res = res[0:1000]"
   ]
  },
  {
   "cell_type": "code",
   "execution_count": 66,
   "id": "220cc590",
   "metadata": {},
   "outputs": [],
   "source": [
    "df = pd.DataFrame(res)"
   ]
  },
  {
   "cell_type": "code",
   "execution_count": 67,
   "id": "1779998b",
   "metadata": {},
   "outputs": [
    {
     "data": {
      "text/html": [
       "<div>\n",
       "<style scoped>\n",
       "    .dataframe tbody tr th:only-of-type {\n",
       "        vertical-align: middle;\n",
       "    }\n",
       "\n",
       "    .dataframe tbody tr th {\n",
       "        vertical-align: top;\n",
       "    }\n",
       "\n",
       "    .dataframe thead th {\n",
       "        text-align: right;\n",
       "    }\n",
       "</style>\n",
       "<table border=\"1\" class=\"dataframe\">\n",
       "  <thead>\n",
       "    <tr style=\"text-align: right;\">\n",
       "      <th></th>\n",
       "      <th>activity_comment</th>\n",
       "      <th>activity_id</th>\n",
       "      <th>activity_properties</th>\n",
       "      <th>assay_chembl_id</th>\n",
       "      <th>assay_description</th>\n",
       "      <th>assay_type</th>\n",
       "      <th>assay_variant_accession</th>\n",
       "      <th>assay_variant_mutation</th>\n",
       "      <th>bao_endpoint</th>\n",
       "      <th>bao_format</th>\n",
       "      <th>...</th>\n",
       "      <th>target_organism</th>\n",
       "      <th>target_pref_name</th>\n",
       "      <th>target_tax_id</th>\n",
       "      <th>text_value</th>\n",
       "      <th>toid</th>\n",
       "      <th>type</th>\n",
       "      <th>units</th>\n",
       "      <th>uo_units</th>\n",
       "      <th>upper_value</th>\n",
       "      <th>value</th>\n",
       "    </tr>\n",
       "  </thead>\n",
       "  <tbody>\n",
       "    <tr>\n",
       "      <th>0</th>\n",
       "      <td>None</td>\n",
       "      <td>866063</td>\n",
       "      <td>[]</td>\n",
       "      <td>CHEMBL766072</td>\n",
       "      <td>Inhibition of chimeric PDGF receptor with FLT-...</td>\n",
       "      <td>B</td>\n",
       "      <td>None</td>\n",
       "      <td>None</td>\n",
       "      <td>BAO_0000190</td>\n",
       "      <td>BAO_0000219</td>\n",
       "      <td>...</td>\n",
       "      <td>Homo sapiens</td>\n",
       "      <td>Tyrosine-protein kinase receptor FLT3</td>\n",
       "      <td>9606</td>\n",
       "      <td>None</td>\n",
       "      <td>None</td>\n",
       "      <td>IC50</td>\n",
       "      <td>uM</td>\n",
       "      <td>UO_0000065</td>\n",
       "      <td>None</td>\n",
       "      <td>0.128</td>\n",
       "    </tr>\n",
       "    <tr>\n",
       "      <th>1</th>\n",
       "      <td>None</td>\n",
       "      <td>872532</td>\n",
       "      <td>[]</td>\n",
       "      <td>CHEMBL766072</td>\n",
       "      <td>Inhibition of chimeric PDGF receptor with FLT-...</td>\n",
       "      <td>B</td>\n",
       "      <td>None</td>\n",
       "      <td>None</td>\n",
       "      <td>BAO_0000190</td>\n",
       "      <td>BAO_0000219</td>\n",
       "      <td>...</td>\n",
       "      <td>Homo sapiens</td>\n",
       "      <td>Tyrosine-protein kinase receptor FLT3</td>\n",
       "      <td>9606</td>\n",
       "      <td>None</td>\n",
       "      <td>None</td>\n",
       "      <td>IC50</td>\n",
       "      <td>uM</td>\n",
       "      <td>UO_0000065</td>\n",
       "      <td>None</td>\n",
       "      <td>0.22</td>\n",
       "    </tr>\n",
       "    <tr>\n",
       "      <th>2</th>\n",
       "      <td>None</td>\n",
       "      <td>872564</td>\n",
       "      <td>[]</td>\n",
       "      <td>CHEMBL766072</td>\n",
       "      <td>Inhibition of chimeric PDGF receptor with FLT-...</td>\n",
       "      <td>B</td>\n",
       "      <td>None</td>\n",
       "      <td>None</td>\n",
       "      <td>BAO_0000190</td>\n",
       "      <td>BAO_0000219</td>\n",
       "      <td>...</td>\n",
       "      <td>Homo sapiens</td>\n",
       "      <td>Tyrosine-protein kinase receptor FLT3</td>\n",
       "      <td>9606</td>\n",
       "      <td>None</td>\n",
       "      <td>None</td>\n",
       "      <td>IC50</td>\n",
       "      <td>uM</td>\n",
       "      <td>UO_0000065</td>\n",
       "      <td>None</td>\n",
       "      <td>8.79</td>\n",
       "    </tr>\n",
       "  </tbody>\n",
       "</table>\n",
       "<p>3 rows × 45 columns</p>\n",
       "</div>"
      ],
      "text/plain": [
       "  activity_comment  activity_id activity_properties assay_chembl_id  \\\n",
       "0             None       866063                  []    CHEMBL766072   \n",
       "1             None       872532                  []    CHEMBL766072   \n",
       "2             None       872564                  []    CHEMBL766072   \n",
       "\n",
       "                                   assay_description assay_type  \\\n",
       "0  Inhibition of chimeric PDGF receptor with FLT-...          B   \n",
       "1  Inhibition of chimeric PDGF receptor with FLT-...          B   \n",
       "2  Inhibition of chimeric PDGF receptor with FLT-...          B   \n",
       "\n",
       "  assay_variant_accession assay_variant_mutation bao_endpoint   bao_format  \\\n",
       "0                    None                   None  BAO_0000190  BAO_0000219   \n",
       "1                    None                   None  BAO_0000190  BAO_0000219   \n",
       "2                    None                   None  BAO_0000190  BAO_0000219   \n",
       "\n",
       "   ... target_organism                       target_pref_name target_tax_id  \\\n",
       "0  ...    Homo sapiens  Tyrosine-protein kinase receptor FLT3          9606   \n",
       "1  ...    Homo sapiens  Tyrosine-protein kinase receptor FLT3          9606   \n",
       "2  ...    Homo sapiens  Tyrosine-protein kinase receptor FLT3          9606   \n",
       "\n",
       "  text_value  toid  type  units    uo_units upper_value  value  \n",
       "0       None  None  IC50     uM  UO_0000065        None  0.128  \n",
       "1       None  None  IC50     uM  UO_0000065        None   0.22  \n",
       "2       None  None  IC50     uM  UO_0000065        None   8.79  \n",
       "\n",
       "[3 rows x 45 columns]"
      ]
     },
     "execution_count": 67,
     "metadata": {},
     "output_type": "execute_result"
    }
   ],
   "source": [
    "df.head(3)"
   ]
  },
  {
   "cell_type": "code",
   "execution_count": 68,
   "id": "62bbc1b5",
   "metadata": {},
   "outputs": [],
   "source": [
    "df = df[df['standard_value'].notnull()]"
   ]
  },
  {
   "cell_type": "code",
   "execution_count": 69,
   "id": "083d34be",
   "metadata": {},
   "outputs": [],
   "source": [
    "df.to_csv('resources/bioactivity_data.csv', index = False)"
   ]
  },
  {
   "cell_type": "markdown",
   "id": "b73d211a",
   "metadata": {},
   "source": [
    "## Classification"
   ]
  },
  {
   "cell_type": "code",
   "execution_count": 70,
   "id": "0a769b5e",
   "metadata": {},
   "outputs": [],
   "source": [
    "selection = ['molecule_chembl_id', 'canonical_smiles', 'standard_value']\n",
    "\n",
    "df = df[selection]\n",
    "\n",
    "df['standard_value'] = df['standard_value'].astype(float)"
   ]
  },
  {
   "cell_type": "code",
   "execution_count": 71,
   "id": "6799c32d",
   "metadata": {},
   "outputs": [
    {
     "data": {
      "text/plain": [
       "81"
      ]
     },
     "execution_count": 71,
     "metadata": {},
     "output_type": "execute_result"
    }
   ],
   "source": [
    "# Duplicate Assays - Take Average\n",
    "df.duplicated(subset = 'molecule_chembl_id').sum()"
   ]
  },
  {
   "cell_type": "code",
   "execution_count": 73,
   "id": "de520386",
   "metadata": {},
   "outputs": [],
   "source": [
    "df = df.pivot_table(index = selection[:2],\n",
    "                                values = selection[-1],\n",
    "                                aggfunc = np.mean).reset_index()"
   ]
  },
  {
   "cell_type": "code",
   "execution_count": 74,
   "id": "99218299",
   "metadata": {},
   "outputs": [],
   "source": [
    "def classification(df):\n",
    "    if df['standard_value'] >= 10000:\n",
    "        return 'inactive'\n",
    "    elif df['standard_value'] <= 1000:\n",
    "        return 'active'\n",
    "    else:\n",
    "        return 'intermediate'"
   ]
  },
  {
   "cell_type": "code",
   "execution_count": 75,
   "id": "fa58c904",
   "metadata": {},
   "outputs": [],
   "source": [
    "df['bioactivity_class'] = df.apply(classification, axis = 1)"
   ]
  },
  {
   "cell_type": "code",
   "execution_count": 76,
   "id": "49493542",
   "metadata": {},
   "outputs": [
    {
     "data": {
      "text/html": [
       "<div>\n",
       "<style scoped>\n",
       "    .dataframe tbody tr th:only-of-type {\n",
       "        vertical-align: middle;\n",
       "    }\n",
       "\n",
       "    .dataframe tbody tr th {\n",
       "        vertical-align: top;\n",
       "    }\n",
       "\n",
       "    .dataframe thead th {\n",
       "        text-align: right;\n",
       "    }\n",
       "</style>\n",
       "<table border=\"1\" class=\"dataframe\">\n",
       "  <thead>\n",
       "    <tr style=\"text-align: right;\">\n",
       "      <th></th>\n",
       "      <th>molecule_chembl_id</th>\n",
       "      <th>canonical_smiles</th>\n",
       "      <th>standard_value</th>\n",
       "      <th>bioactivity_class</th>\n",
       "    </tr>\n",
       "  </thead>\n",
       "  <tbody>\n",
       "    <tr>\n",
       "      <th>0</th>\n",
       "      <td>CHEMBL102301</td>\n",
       "      <td>COc1cc2ncnc(N3CCN(/C(S)=N\\Cc4ccc5c(c4)OCO5)CC3...</td>\n",
       "      <td>14900.0</td>\n",
       "      <td>inactive</td>\n",
       "    </tr>\n",
       "    <tr>\n",
       "      <th>1</th>\n",
       "      <td>CHEMBL102346</td>\n",
       "      <td>COc1cc2ncnc(N3CCN(C(=O)Nc4ccc(Oc5ccccc5)cc4)CC...</td>\n",
       "      <td>230.0</td>\n",
       "      <td>active</td>\n",
       "    </tr>\n",
       "    <tr>\n",
       "      <th>2</th>\n",
       "      <td>CHEMBL103307</td>\n",
       "      <td>O=C1Nc2ccccc2/C1=C\\c1ccc(O)cc1</td>\n",
       "      <td>1800.0</td>\n",
       "      <td>intermediate</td>\n",
       "    </tr>\n",
       "    <tr>\n",
       "      <th>3</th>\n",
       "      <td>CHEMBL103667</td>\n",
       "      <td>Cc1ccc(-n2nc(C(C)(C)C)cc2NC(=O)Nc2ccc(OCCN3CCO...</td>\n",
       "      <td>30000.0</td>\n",
       "      <td>inactive</td>\n",
       "    </tr>\n",
       "    <tr>\n",
       "      <th>4</th>\n",
       "      <td>CHEMBL104067</td>\n",
       "      <td>COc1cc2ncnc(N3CCN(C(=O)Nc4ccc(C(C)C)cc4)CC3)c2...</td>\n",
       "      <td>50.0</td>\n",
       "      <td>active</td>\n",
       "    </tr>\n",
       "  </tbody>\n",
       "</table>\n",
       "</div>"
      ],
      "text/plain": [
       "  molecule_chembl_id                                   canonical_smiles  \\\n",
       "0       CHEMBL102301  COc1cc2ncnc(N3CCN(/C(S)=N\\Cc4ccc5c(c4)OCO5)CC3...   \n",
       "1       CHEMBL102346  COc1cc2ncnc(N3CCN(C(=O)Nc4ccc(Oc5ccccc5)cc4)CC...   \n",
       "2       CHEMBL103307                     O=C1Nc2ccccc2/C1=C\\c1ccc(O)cc1   \n",
       "3       CHEMBL103667  Cc1ccc(-n2nc(C(C)(C)C)cc2NC(=O)Nc2ccc(OCCN3CCO...   \n",
       "4       CHEMBL104067  COc1cc2ncnc(N3CCN(C(=O)Nc4ccc(C(C)C)cc4)CC3)c2...   \n",
       "\n",
       "   standard_value bioactivity_class  \n",
       "0         14900.0          inactive  \n",
       "1           230.0            active  \n",
       "2          1800.0      intermediate  \n",
       "3         30000.0          inactive  \n",
       "4            50.0            active  "
      ]
     },
     "execution_count": 76,
     "metadata": {},
     "output_type": "execute_result"
    }
   ],
   "source": [
    "df.head()"
   ]
  },
  {
   "cell_type": "code",
   "execution_count": 77,
   "id": "d227c4b7",
   "metadata": {
    "scrolled": true
   },
   "outputs": [
    {
     "data": {
      "text/plain": [
       "active          654\n",
       "intermediate    129\n",
       "inactive        126\n",
       "Name: bioactivity_class, dtype: int64"
      ]
     },
     "execution_count": 77,
     "metadata": {},
     "output_type": "execute_result"
    }
   ],
   "source": [
    "df['bioactivity_class'].value_counts()"
   ]
  },
  {
   "cell_type": "markdown",
   "id": "31164e46",
   "metadata": {},
   "source": [
    "## Calculate Lipinski descriptors \n",
    "\n",
    "Lipinski's rule of five or Pfizer's rule of five is used to evaluate the druglikeness of acompound. Lipinski's rule is as stated in the following:\n",
    "\n",
    "* No more than 5 hydrogen bond donors (the total number of nitrogen-hydrogen and oxygen-hydrogen bonds)   \n",
    "* No more than 10 hydrogen bond acceptors (all nitrogen or oxygen atoms)\n",
    "* A molecular mass < 500 daltons         \n",
    "* A calculated octanol-water partition coefficient (Clog P) < 5\n",
    "\n",
    "The name 5 referes to all the values are mutiples of 5s"
   ]
  },
  {
   "cell_type": "markdown",
   "id": "0ea36e55",
   "metadata": {},
   "source": [
    "### Calculating Descriptors"
   ]
  },
  {
   "cell_type": "code",
   "execution_count": 78,
   "id": "b84455a8",
   "metadata": {},
   "outputs": [],
   "source": [
    "from rdkit import Chem\n",
    "from rdkit.Chem import Descriptors, Lipinski"
   ]
  },
  {
   "cell_type": "code",
   "execution_count": 79,
   "id": "9b70802d",
   "metadata": {},
   "outputs": [],
   "source": [
    "# Inspired by: https://codeocean.com/explore/capsules?query=tag:data-curation\n",
    "\n",
    "def lipinski(smiles, verbose=False):\n",
    "\n",
    "    moldata= []\n",
    "    for elem in smiles:\n",
    "        mol=Chem.MolFromSmiles(elem) \n",
    "        moldata.append(mol)\n",
    "       \n",
    "    baseData= np.arange(1,1)\n",
    "    i=0  \n",
    "    for mol in moldata:        \n",
    "       \n",
    "        desc_MolWt = Descriptors.MolWt(mol)\n",
    "        desc_MolLogP = Descriptors.MolLogP(mol)\n",
    "        desc_NumHDonors = Lipinski.NumHDonors(mol)\n",
    "        desc_NumHAcceptors = Lipinski.NumHAcceptors(mol)\n",
    "           \n",
    "        row = np.array([desc_MolWt,\n",
    "                        desc_MolLogP,\n",
    "                        desc_NumHDonors,\n",
    "                        desc_NumHAcceptors])   \n",
    "    \n",
    "        if(i==0):\n",
    "            baseData=row\n",
    "        else:\n",
    "            baseData=np.vstack([baseData, row])\n",
    "        i=i+1      \n",
    "    \n",
    "    columnNames=[\"MW\",\"LogP\",\"NumHDonors\",\"NumHAcceptors\"]   \n",
    "    descriptors = pd.DataFrame(data=baseData,columns=columnNames)\n",
    "    \n",
    "    return descriptors"
   ]
  },
  {
   "cell_type": "code",
   "execution_count": 80,
   "id": "5a85454d",
   "metadata": {},
   "outputs": [],
   "source": [
    "df_lipinski = lipinski(df['canonical_smiles'])"
   ]
  },
  {
   "cell_type": "code",
   "execution_count": 81,
   "id": "e872177c",
   "metadata": {},
   "outputs": [
    {
     "data": {
      "text/html": [
       "<div>\n",
       "<style scoped>\n",
       "    .dataframe tbody tr th:only-of-type {\n",
       "        vertical-align: middle;\n",
       "    }\n",
       "\n",
       "    .dataframe tbody tr th {\n",
       "        vertical-align: top;\n",
       "    }\n",
       "\n",
       "    .dataframe thead th {\n",
       "        text-align: right;\n",
       "    }\n",
       "</style>\n",
       "<table border=\"1\" class=\"dataframe\">\n",
       "  <thead>\n",
       "    <tr style=\"text-align: right;\">\n",
       "      <th></th>\n",
       "      <th>MW</th>\n",
       "      <th>LogP</th>\n",
       "      <th>NumHDonors</th>\n",
       "      <th>NumHAcceptors</th>\n",
       "    </tr>\n",
       "  </thead>\n",
       "  <tbody>\n",
       "    <tr>\n",
       "      <th>0</th>\n",
       "      <td>467.551</td>\n",
       "      <td>2.98370</td>\n",
       "      <td>1.0</td>\n",
       "      <td>8.0</td>\n",
       "    </tr>\n",
       "    <tr>\n",
       "      <th>1</th>\n",
       "      <td>485.544</td>\n",
       "      <td>4.79340</td>\n",
       "      <td>1.0</td>\n",
       "      <td>7.0</td>\n",
       "    </tr>\n",
       "    <tr>\n",
       "      <th>2</th>\n",
       "      <td>237.258</td>\n",
       "      <td>2.88490</td>\n",
       "      <td>2.0</td>\n",
       "      <td>2.0</td>\n",
       "    </tr>\n",
       "    <tr>\n",
       "      <th>3</th>\n",
       "      <td>527.669</td>\n",
       "      <td>5.98642</td>\n",
       "      <td>2.0</td>\n",
       "      <td>6.0</td>\n",
       "    </tr>\n",
       "    <tr>\n",
       "      <th>4</th>\n",
       "      <td>435.528</td>\n",
       "      <td>4.12450</td>\n",
       "      <td>1.0</td>\n",
       "      <td>6.0</td>\n",
       "    </tr>\n",
       "    <tr>\n",
       "      <th>...</th>\n",
       "      <td>...</td>\n",
       "      <td>...</td>\n",
       "      <td>...</td>\n",
       "      <td>...</td>\n",
       "    </tr>\n",
       "    <tr>\n",
       "      <th>904</th>\n",
       "      <td>288.255</td>\n",
       "      <td>2.21550</td>\n",
       "      <td>4.0</td>\n",
       "      <td>6.0</td>\n",
       "    </tr>\n",
       "    <tr>\n",
       "      <th>905</th>\n",
       "      <td>288.255</td>\n",
       "      <td>1.48070</td>\n",
       "      <td>4.0</td>\n",
       "      <td>6.0</td>\n",
       "    </tr>\n",
       "    <tr>\n",
       "      <th>906</th>\n",
       "      <td>272.256</td>\n",
       "      <td>2.50990</td>\n",
       "      <td>3.0</td>\n",
       "      <td>5.0</td>\n",
       "    </tr>\n",
       "    <tr>\n",
       "      <th>907</th>\n",
       "      <td>493.615</td>\n",
       "      <td>4.59032</td>\n",
       "      <td>2.0</td>\n",
       "      <td>7.0</td>\n",
       "    </tr>\n",
       "    <tr>\n",
       "      <th>908</th>\n",
       "      <td>438.444</td>\n",
       "      <td>2.90930</td>\n",
       "      <td>1.0</td>\n",
       "      <td>8.0</td>\n",
       "    </tr>\n",
       "  </tbody>\n",
       "</table>\n",
       "<p>909 rows × 4 columns</p>\n",
       "</div>"
      ],
      "text/plain": [
       "          MW     LogP  NumHDonors  NumHAcceptors\n",
       "0    467.551  2.98370         1.0            8.0\n",
       "1    485.544  4.79340         1.0            7.0\n",
       "2    237.258  2.88490         2.0            2.0\n",
       "3    527.669  5.98642         2.0            6.0\n",
       "4    435.528  4.12450         1.0            6.0\n",
       "..       ...      ...         ...            ...\n",
       "904  288.255  2.21550         4.0            6.0\n",
       "905  288.255  1.48070         4.0            6.0\n",
       "906  272.256  2.50990         3.0            5.0\n",
       "907  493.615  4.59032         2.0            7.0\n",
       "908  438.444  2.90930         1.0            8.0\n",
       "\n",
       "[909 rows x 4 columns]"
      ]
     },
     "execution_count": 81,
     "metadata": {},
     "output_type": "execute_result"
    }
   ],
   "source": [
    "df_lipinski"
   ]
  },
  {
   "cell_type": "code",
   "execution_count": 82,
   "id": "7194e1d6",
   "metadata": {},
   "outputs": [],
   "source": [
    "# Joining lip\n",
    "combined = pd.merge(df, df_lipinski, left_index = True, right_index = True)"
   ]
  },
  {
   "cell_type": "code",
   "execution_count": 83,
   "id": "ebced56a",
   "metadata": {},
   "outputs": [
    {
     "data": {
      "text/html": [
       "<div>\n",
       "<style scoped>\n",
       "    .dataframe tbody tr th:only-of-type {\n",
       "        vertical-align: middle;\n",
       "    }\n",
       "\n",
       "    .dataframe tbody tr th {\n",
       "        vertical-align: top;\n",
       "    }\n",
       "\n",
       "    .dataframe thead th {\n",
       "        text-align: right;\n",
       "    }\n",
       "</style>\n",
       "<table border=\"1\" class=\"dataframe\">\n",
       "  <thead>\n",
       "    <tr style=\"text-align: right;\">\n",
       "      <th></th>\n",
       "      <th>molecule_chembl_id</th>\n",
       "      <th>canonical_smiles</th>\n",
       "      <th>standard_value</th>\n",
       "      <th>bioactivity_class</th>\n",
       "      <th>MW</th>\n",
       "      <th>LogP</th>\n",
       "      <th>NumHDonors</th>\n",
       "      <th>NumHAcceptors</th>\n",
       "    </tr>\n",
       "  </thead>\n",
       "  <tbody>\n",
       "  </tbody>\n",
       "</table>\n",
       "</div>"
      ],
      "text/plain": [
       "Empty DataFrame\n",
       "Columns: [molecule_chembl_id, canonical_smiles, standard_value, bioactivity_class, MW, LogP, NumHDonors, NumHAcceptors]\n",
       "Index: []"
      ]
     },
     "execution_count": 83,
     "metadata": {},
     "output_type": "execute_result"
    }
   ],
   "source": [
    "combined[combined.duplicated(subset = 'molecule_chembl_id', keep = False)]"
   ]
  },
  {
   "cell_type": "markdown",
   "id": "d82a5f2c",
   "metadata": {},
   "source": [
    "## Convert IC50 to pIC50 "
   ]
  },
  {
   "cell_type": "markdown",
   "id": "1060de35",
   "metadata": {},
   "source": [
    "To allow IC50 data to be more uniformly distributed, we will convert IC50 to the negative logarithmic scale which is essentially -log10(IC50).\n",
    "\n",
    "This custom function pIC50() will accept a DataFrame as input and will:\n",
    "\n",
    "Take the IC50 values from the standard_value column and converts it from nM to M by multiplying the value by 10\n",
    "Take the molar value and apply -log10\n",
    "Delete the standard_value column and create a new pIC50 column"
   ]
  },
  {
   "cell_type": "code",
   "execution_count": 84,
   "id": "cb03c965",
   "metadata": {},
   "outputs": [
    {
     "data": {
      "text/plain": [
       "count       909.000000\n",
       "mean       3234.063178\n",
       "std        8590.701154\n",
       "min           0.200000\n",
       "25%          21.000000\n",
       "50%         140.000000\n",
       "75%        1500.000000\n",
       "max      100000.000000\n",
       "Name: standard_value, dtype: float64"
      ]
     },
     "execution_count": 84,
     "metadata": {},
     "output_type": "execute_result"
    }
   ],
   "source": [
    "combined['standard_value'].describe()"
   ]
  },
  {
   "cell_type": "markdown",
   "id": "6c3b9467",
   "metadata": {},
   "source": [
    "The standard value has uneven distribution. Convert to -log10 for distribution."
   ]
  },
  {
   "cell_type": "code",
   "execution_count": 85,
   "id": "26e7ae9a",
   "metadata": {},
   "outputs": [],
   "source": [
    "def log10(df):\n",
    "    molar = df['standard_value']/10**9 # Convert to nM to M \n",
    "    log10 = -np.log10(molar)\n",
    "    return log10 \n",
    "\n",
    "combined['pIC50'] = df.apply(log10, axis = 1) "
   ]
  },
  {
   "cell_type": "code",
   "execution_count": 86,
   "id": "ac0e8577",
   "metadata": {},
   "outputs": [
    {
     "data": {
      "image/png": "[encoded data removed]",
      "text/plain": [
       "<Figure size 432x288 with 1 Axes>"
      ]
     },
     "metadata": {
      "needs_background": "light"
     },
     "output_type": "display_data"
    },
    {
     "data": {
      "text/plain": [
       "<Figure size 432x288 with 0 Axes>"
      ]
     },
     "metadata": {},
     "output_type": "display_data"
    }
   ],
   "source": [
    "import matplotlib.pyplot as plt \n",
    "\n",
    "plt.hist(combined['pIC50'])\n",
    "plt.show()\n",
    "\n",
    "plt.savefig('Output/figures/Histogram_Norm.pdf')"
   ]
  },
  {
   "cell_type": "code",
   "execution_count": 87,
   "id": "f8589ba5",
   "metadata": {},
   "outputs": [],
   "source": [
    "# Remove intermediate - ambigious molecules - for analysis \n",
    "combined = combined[combined['bioactivity_class'] != 'intermediate']"
   ]
  },
  {
   "cell_type": "code",
   "execution_count": 90,
   "id": "9fc7a6d9",
   "metadata": {},
   "outputs": [],
   "source": [
    "# Exporting as SaveFile\n",
    "combined.to_csv('Output/bioactivity.csv', index = False)"
   ]
  },
  {
   "cell_type": "markdown",
   "id": "b16429fa",
   "metadata": {},
   "source": [
    "### Chemical Space Analysis via Lipinski descriptors "
   ]
  },
  {
   "cell_type": "code",
   "execution_count": 91,
   "id": "ab942cb0",
   "metadata": {},
   "outputs": [],
   "source": [
    "import seaborn as sns "
   ]
  },
  {
   "cell_type": "code",
   "execution_count": 109,
   "id": "26195587",
   "metadata": {},
   "outputs": [
    {
     "data": {
      "image/png": "[encoded data removed]",
      "text/plain": [
       "<Figure size 432x288 with 1 Axes>"
      ]
     },
     "metadata": {
      "needs_background": "light"
     },
     "output_type": "display_data"
    },
    {
     "data": {
      "text/plain": [
       "<Figure size 432x288 with 0 Axes>"
      ]
     },
     "metadata": {},
     "output_type": "display_data"
    }
   ],
   "source": [
    "sns.countplot(x = 'bioactivity_class', data = combined,\n",
    "             edgecolor = 'black')\n",
    "\n",
    "plt.xlabel('bioactivity class')\n",
    "plt.ylabel('frequency')\n",
    "plt.show()\n",
    "\n",
    "plt.savefig('Output/figures/Count_Plot.jpg')"
   ]
  },
  {
   "cell_type": "code",
   "execution_count": 110,
   "id": "f9a80ae9",
   "metadata": {},
   "outputs": [
    {
     "data": {
      "image/png": "[encoded data removed]",
      "text/plain": [
       "<Figure size 396x396 with 1 Axes>"
      ]
     },
     "metadata": {
      "needs_background": "light"
     },
     "output_type": "display_data"
    }
   ],
   "source": [
    "plt.figure(figsize=(5.5, 5.5))\n",
    "\n",
    "sns.scatterplot(x = 'MW', y = 'LogP', data = combined, \n",
    "               hue = 'bioactivity_class', size = 'pIC50', alpha = 0.5)\n",
    "\n",
    "\n",
    "plt.xlabel('MW', fontsize=14, fontweight='bold')\n",
    "plt.ylabel('LogP', fontsize=14, fontweight='bold')\n",
    "plt.legend(bbox_to_anchor=(1.05, 1), loc=2, borderaxespad=0)\n",
    "\n",
    "plt.savefig('Output/figures/Chem_Space_Analysis.pdf')\n",
    "plt.show()\n"
   ]
  },
  {
   "cell_type": "markdown",
   "id": "2760b5fc",
   "metadata": {},
   "source": [
    "From this graph, the whether a compound is active or inactive against FLT3 is difficult to tell. This suggest that deeper machine learning algorithims may aid in learning. "
   ]
  },
  {
   "cell_type": "markdown",
   "id": "8c80683e",
   "metadata": {},
   "source": [
    "## Statistical T-Test for Lipinski Values "
   ]
  },
  {
   "cell_type": "code",
   "execution_count": 94,
   "id": "0fd9eb21",
   "metadata": {},
   "outputs": [],
   "source": [
    "descriptors = ['pIC50', 'MW', 'LogP', 'NumHDonors', 'NumHAcceptors']"
   ]
  },
  {
   "cell_type": "code",
   "execution_count": 95,
   "id": "7dba1d27",
   "metadata": {},
   "outputs": [],
   "source": [
    "from scipy.stats import stats\n",
    "\n",
    "def t_test(descriptors):\n",
    "    list_ = []\n",
    "    for element in descriptors:\n",
    "        \n",
    "        # splitting active and inactive\n",
    "        active = combined[combined['bioactivity_class'] == 'active']\n",
    "        inactive = combined[combined['bioactivity_class'] == 'inactive']\n",
    "        active = active[[element]]\n",
    "        inactive = inactive[[element]]\n",
    "        \n",
    "        # t-test for statistical signficance\n",
    "        results, pvalue = stats.ttest_ind(active, inactive)\n",
    "        \n",
    "        if pvalue > 0.05:\n",
    "            interpretation = 'Same distribution (fail to reject H0)'\n",
    "        else:\n",
    "            interpretation = 'Different distribution (reject H0)'\n",
    "            \n",
    "        # appending results\n",
    "        list_.append([element, results[0], pvalue[0], interpretation])\n",
    "        \n",
    "    df_results = pd.DataFrame(list_, columns = ['Descriptor', 'results', 'pvalue', 'interpretation'])\n",
    "    \n",
    "    return df_results"
   ]
  },
  {
   "cell_type": "code",
   "execution_count": 96,
   "id": "2f4a44a3",
   "metadata": {
    "scrolled": false
   },
   "outputs": [],
   "source": [
    "results = t_test(descriptors)"
   ]
  },
  {
   "cell_type": "markdown",
   "id": "6a202a56",
   "metadata": {},
   "source": [
    "## pIC50"
   ]
  },
  {
   "cell_type": "code",
   "execution_count": 100,
   "id": "c4c228d5",
   "metadata": {},
   "outputs": [
    {
     "data": {
      "image/png": "[encoded data removed]",
      "text/plain": [
       "<Figure size 432x432 with 1 Axes>"
      ]
     },
     "metadata": {
      "needs_background": "light"
     },
     "output_type": "display_data"
    },
    {
     "data": {
      "text/html": [
       "<div>\n",
       "<style scoped>\n",
       "    .dataframe tbody tr th:only-of-type {\n",
       "        vertical-align: middle;\n",
       "    }\n",
       "\n",
       "    .dataframe tbody tr th {\n",
       "        vertical-align: top;\n",
       "    }\n",
       "\n",
       "    .dataframe thead th {\n",
       "        text-align: right;\n",
       "    }\n",
       "</style>\n",
       "<table border=\"1\" class=\"dataframe\">\n",
       "  <thead>\n",
       "    <tr style=\"text-align: right;\">\n",
       "      <th></th>\n",
       "      <th>Descriptor</th>\n",
       "      <th>results</th>\n",
       "      <th>pvalue</th>\n",
       "      <th>interpretation</th>\n",
       "    </tr>\n",
       "  </thead>\n",
       "  <tbody>\n",
       "    <tr>\n",
       "      <th>0</th>\n",
       "      <td>pIC50</td>\n",
       "      <td>33.402186</td>\n",
       "      <td>1.937665e-152</td>\n",
       "      <td>Different distribution (reject H0)</td>\n",
       "    </tr>\n",
       "  </tbody>\n",
       "</table>\n",
       "</div>"
      ],
      "text/plain": [
       "  Descriptor    results         pvalue                      interpretation\n",
       "0      pIC50  33.402186  1.937665e-152  Different distribution (reject H0)"
      ]
     },
     "execution_count": 100,
     "metadata": {},
     "output_type": "execute_result"
    },
    {
     "data": {
      "text/plain": [
       "<Figure size 432x288 with 0 Axes>"
      ]
     },
     "metadata": {},
     "output_type": "display_data"
    }
   ],
   "source": [
    "plt.figure(figsize=(6, 6))\n",
    "sns.boxplot(x = 'bioactivity_class', y = 'pIC50', data = combined)\n",
    "\n",
    "plt.xlabel('Bioactivity_Class', fontweight = 'bold')\n",
    "plt.ylabel('pIC50', fontweight = 'bold')\n",
    "\n",
    "plt.show()\n",
    "plt.savefig('Output/figures/pIC50.pdf')\n",
    "results[results.index == 0]\n",
    "\n"
   ]
  },
  {
   "cell_type": "markdown",
   "id": "fffc8ec2",
   "metadata": {},
   "source": [
    "## MW"
   ]
  },
  {
   "cell_type": "code",
   "execution_count": 98,
   "id": "c3809238",
   "metadata": {},
   "outputs": [
    {
     "data": {
      "image/png": "[encoded data removed]",
      "text/plain": [
       "<Figure size 432x576 with 1 Axes>"
      ]
     },
     "metadata": {
      "needs_background": "light"
     },
     "output_type": "display_data"
    },
    {
     "data": {
      "text/plain": [
       "<Figure size 432x288 with 0 Axes>"
      ]
     },
     "metadata": {},
     "output_type": "display_data"
    }
   ],
   "source": [
    "plt.figure(figsize=(6, 8))\n",
    "sns.boxplot(x = 'bioactivity_class', y = 'MW', data = combined)\n",
    "\n",
    "plt.xlabel('Bioactivity_Class', fontweight = 'bold')\n",
    "plt.ylabel('MW', fontweight = 'bold')\n",
    "\n",
    "plt.show()\n",
    "\n",
    "results[results.index == 1]\n",
    "\n",
    "plt.savefig('Output/figures/MW.pdf')"
   ]
  },
  {
   "cell_type": "markdown",
   "id": "3f95f6ce",
   "metadata": {},
   "source": [
    "## LogP"
   ]
  },
  {
   "cell_type": "code",
   "execution_count": 101,
   "id": "3c7709b5",
   "metadata": {},
   "outputs": [
    {
     "data": {
      "image/png": "[encoded data removed]",
      "text/plain": [
       "<Figure size 432x576 with 1 Axes>"
      ]
     },
     "metadata": {
      "needs_background": "light"
     },
     "output_type": "display_data"
    },
    {
     "data": {
      "text/html": [
       "<div>\n",
       "<style scoped>\n",
       "    .dataframe tbody tr th:only-of-type {\n",
       "        vertical-align: middle;\n",
       "    }\n",
       "\n",
       "    .dataframe tbody tr th {\n",
       "        vertical-align: top;\n",
       "    }\n",
       "\n",
       "    .dataframe thead th {\n",
       "        text-align: right;\n",
       "    }\n",
       "</style>\n",
       "<table border=\"1\" class=\"dataframe\">\n",
       "  <thead>\n",
       "    <tr style=\"text-align: right;\">\n",
       "      <th></th>\n",
       "      <th>Descriptor</th>\n",
       "      <th>results</th>\n",
       "      <th>pvalue</th>\n",
       "      <th>interpretation</th>\n",
       "    </tr>\n",
       "  </thead>\n",
       "  <tbody>\n",
       "    <tr>\n",
       "      <th>2</th>\n",
       "      <td>LogP</td>\n",
       "      <td>3.647737</td>\n",
       "      <td>0.000282</td>\n",
       "      <td>Different distribution (reject H0)</td>\n",
       "    </tr>\n",
       "  </tbody>\n",
       "</table>\n",
       "</div>"
      ],
      "text/plain": [
       "  Descriptor   results    pvalue                      interpretation\n",
       "2       LogP  3.647737  0.000282  Different distribution (reject H0)"
      ]
     },
     "execution_count": 101,
     "metadata": {},
     "output_type": "execute_result"
    },
    {
     "data": {
      "text/plain": [
       "<Figure size 432x288 with 0 Axes>"
      ]
     },
     "metadata": {},
     "output_type": "display_data"
    }
   ],
   "source": [
    "plt.figure(figsize=(6, 8))\n",
    "sns.boxplot(x = 'bioactivity_class', y = 'LogP', data = combined)\n",
    "\n",
    "plt.xlabel('Bioactivity_Class', fontweight = 'bold')\n",
    "plt.ylabel('LogP', fontweight = 'bold')\n",
    "\n",
    "plt.show()\n",
    "plt.savefig('Output/figures/logP.pdf')\n",
    "\n",
    "\n",
    "results[results.index == 2]\n",
    "\n"
   ]
  },
  {
   "cell_type": "markdown",
   "id": "abf9e0c1",
   "metadata": {},
   "source": [
    "## NumHDonors"
   ]
  },
  {
   "cell_type": "code",
   "execution_count": 34,
   "id": "50b88659",
   "metadata": {},
   "outputs": [
    {
     "data": {
      "image/png": "[encoded data removed]",
      "text/plain": [
       "<Figure size 432x576 with 1 Axes>"
      ]
     },
     "metadata": {
      "needs_background": "light"
     },
     "output_type": "display_data"
    },
    {
     "data": {
      "text/plain": [
       "<Figure size 432x288 with 0 Axes>"
      ]
     },
     "metadata": {},
     "output_type": "display_data"
    }
   ],
   "source": [
    "plt.figure(figsize=(6, 8))\n",
    "sns.boxplot(x = 'bioactivity_class', y = 'NumHDonors', data = combined)\n",
    "\n",
    "plt.xlabel('Bioactivity_Class', fontweight = 'bold')\n",
    "plt.ylabel('NumHDonors', fontweight = 'bold')\n",
    "\n",
    "plt.show()\n",
    "\n",
    "results[results.index == 3]\n",
    "\n",
    "plt.savefig('Output/figures/NumHDonors.pdf')"
   ]
  },
  {
   "cell_type": "markdown",
   "id": "3c8fc6e6",
   "metadata": {},
   "source": [
    "## NumHAcceptors"
   ]
  },
  {
   "cell_type": "code",
   "execution_count": 102,
   "id": "c83f0b2c",
   "metadata": {},
   "outputs": [
    {
     "data": {
      "image/png": "[encoded data removed]",
      "text/plain": [
       "<Figure size 432x576 with 1 Axes>"
      ]
     },
     "metadata": {
      "needs_background": "light"
     },
     "output_type": "display_data"
    },
    {
     "data": {
      "text/html": [
       "<div>\n",
       "<style scoped>\n",
       "    .dataframe tbody tr th:only-of-type {\n",
       "        vertical-align: middle;\n",
       "    }\n",
       "\n",
       "    .dataframe tbody tr th {\n",
       "        vertical-align: top;\n",
       "    }\n",
       "\n",
       "    .dataframe thead th {\n",
       "        text-align: right;\n",
       "    }\n",
       "</style>\n",
       "<table border=\"1\" class=\"dataframe\">\n",
       "  <thead>\n",
       "    <tr style=\"text-align: right;\">\n",
       "      <th></th>\n",
       "      <th>Descriptor</th>\n",
       "      <th>results</th>\n",
       "      <th>pvalue</th>\n",
       "      <th>interpretation</th>\n",
       "    </tr>\n",
       "  </thead>\n",
       "  <tbody>\n",
       "    <tr>\n",
       "      <th>4</th>\n",
       "      <td>NumHAcceptors</td>\n",
       "      <td>5.194867</td>\n",
       "      <td>2.618861e-07</td>\n",
       "      <td>Different distribution (reject H0)</td>\n",
       "    </tr>\n",
       "  </tbody>\n",
       "</table>\n",
       "</div>"
      ],
      "text/plain": [
       "      Descriptor   results        pvalue                      interpretation\n",
       "4  NumHAcceptors  5.194867  2.618861e-07  Different distribution (reject H0)"
      ]
     },
     "execution_count": 102,
     "metadata": {},
     "output_type": "execute_result"
    },
    {
     "data": {
      "text/plain": [
       "<Figure size 432x288 with 0 Axes>"
      ]
     },
     "metadata": {},
     "output_type": "display_data"
    }
   ],
   "source": [
    "plt.figure(figsize=(6, 8))\n",
    "sns.boxplot(x = 'bioactivity_class', y = 'NumHAcceptors', data = combined)\n",
    "\n",
    "plt.xlabel('Bioactivity_Class', fontweight = 'bold')\n",
    "plt.ylabel('NumHAcceptors', fontweight = 'bold')\n",
    "\n",
    "plt.show()\n",
    "plt.savefig('Output/figures/NumHAcceptors.pdf')\n",
    "results[results.index == 4]\n",
    "\n"
   ]
  },
  {
   "cell_type": "code",
   "execution_count": 103,
   "id": "a35576fd",
   "metadata": {},
   "outputs": [
    {
     "data": {
      "text/html": [
       "<div>\n",
       "<style scoped>\n",
       "    .dataframe tbody tr th:only-of-type {\n",
       "        vertical-align: middle;\n",
       "    }\n",
       "\n",
       "    .dataframe tbody tr th {\n",
       "        vertical-align: top;\n",
       "    }\n",
       "\n",
       "    .dataframe thead th {\n",
       "        text-align: right;\n",
       "    }\n",
       "</style>\n",
       "<table border=\"1\" class=\"dataframe\">\n",
       "  <thead>\n",
       "    <tr style=\"text-align: right;\">\n",
       "      <th></th>\n",
       "      <th>Descriptor</th>\n",
       "      <th>results</th>\n",
       "      <th>pvalue</th>\n",
       "      <th>interpretation</th>\n",
       "    </tr>\n",
       "  </thead>\n",
       "  <tbody>\n",
       "    <tr>\n",
       "      <th>0</th>\n",
       "      <td>pIC50</td>\n",
       "      <td>33.402186</td>\n",
       "      <td>1.937665e-152</td>\n",
       "      <td>Different distribution (reject H0)</td>\n",
       "    </tr>\n",
       "    <tr>\n",
       "      <th>1</th>\n",
       "      <td>MW</td>\n",
       "      <td>7.251568</td>\n",
       "      <td>9.960885e-13</td>\n",
       "      <td>Different distribution (reject H0)</td>\n",
       "    </tr>\n",
       "    <tr>\n",
       "      <th>2</th>\n",
       "      <td>LogP</td>\n",
       "      <td>3.647737</td>\n",
       "      <td>2.821961e-04</td>\n",
       "      <td>Different distribution (reject H0)</td>\n",
       "    </tr>\n",
       "    <tr>\n",
       "      <th>3</th>\n",
       "      <td>NumHDonors</td>\n",
       "      <td>3.379502</td>\n",
       "      <td>7.623462e-04</td>\n",
       "      <td>Different distribution (reject H0)</td>\n",
       "    </tr>\n",
       "    <tr>\n",
       "      <th>4</th>\n",
       "      <td>NumHAcceptors</td>\n",
       "      <td>5.194867</td>\n",
       "      <td>2.618861e-07</td>\n",
       "      <td>Different distribution (reject H0)</td>\n",
       "    </tr>\n",
       "  </tbody>\n",
       "</table>\n",
       "</div>"
      ],
      "text/plain": [
       "      Descriptor    results         pvalue                      interpretation\n",
       "0          pIC50  33.402186  1.937665e-152  Different distribution (reject H0)\n",
       "1             MW   7.251568   9.960885e-13  Different distribution (reject H0)\n",
       "2           LogP   3.647737   2.821961e-04  Different distribution (reject H0)\n",
       "3     NumHDonors   3.379502   7.623462e-04  Different distribution (reject H0)\n",
       "4  NumHAcceptors   5.194867   2.618861e-07  Different distribution (reject H0)"
      ]
     },
     "execution_count": 103,
     "metadata": {},
     "output_type": "execute_result"
    }
   ],
   "source": [
    "results"
   ]
  },
  {
   "cell_type": "markdown",
   "id": "1f084613",
   "metadata": {},
   "source": [
    "## Calculating Molecular Descriptors "
   ]
  },
  {
   "cell_type": "code",
   "execution_count": 104,
   "id": "a0ce96bd",
   "metadata": {},
   "outputs": [],
   "source": [
    "padel = combined[['canonical_smiles', 'molecule_chembl_id']]"
   ]
  },
  {
   "cell_type": "code",
   "execution_count": 105,
   "id": "03c5976e",
   "metadata": {},
   "outputs": [
    {
     "data": {
      "text/html": [
       "<div>\n",
       "<style scoped>\n",
       "    .dataframe tbody tr th:only-of-type {\n",
       "        vertical-align: middle;\n",
       "    }\n",
       "\n",
       "    .dataframe tbody tr th {\n",
       "        vertical-align: top;\n",
       "    }\n",
       "\n",
       "    .dataframe thead th {\n",
       "        text-align: right;\n",
       "    }\n",
       "</style>\n",
       "<table border=\"1\" class=\"dataframe\">\n",
       "  <thead>\n",
       "    <tr style=\"text-align: right;\">\n",
       "      <th></th>\n",
       "      <th>canonical_smiles</th>\n",
       "      <th>molecule_chembl_id</th>\n",
       "    </tr>\n",
       "  </thead>\n",
       "  <tbody>\n",
       "    <tr>\n",
       "      <th>0</th>\n",
       "      <td>COc1cc2ncnc(N3CCN(/C(S)=N\\Cc4ccc5c(c4)OCO5)CC3...</td>\n",
       "      <td>CHEMBL102301</td>\n",
       "    </tr>\n",
       "    <tr>\n",
       "      <th>1</th>\n",
       "      <td>COc1cc2ncnc(N3CCN(C(=O)Nc4ccc(Oc5ccccc5)cc4)CC...</td>\n",
       "      <td>CHEMBL102346</td>\n",
       "    </tr>\n",
       "    <tr>\n",
       "      <th>3</th>\n",
       "      <td>Cc1ccc(-n2nc(C(C)(C)C)cc2NC(=O)Nc2ccc(OCCN3CCO...</td>\n",
       "      <td>CHEMBL103667</td>\n",
       "    </tr>\n",
       "    <tr>\n",
       "      <th>4</th>\n",
       "      <td>COc1cc2ncnc(N3CCN(C(=O)Nc4ccc(C(C)C)cc4)CC3)c2...</td>\n",
       "      <td>CHEMBL104067</td>\n",
       "    </tr>\n",
       "    <tr>\n",
       "      <th>5</th>\n",
       "      <td>COc1cc2ncnc(N3CCN(C(=O)Nc4ccc(C#N)cc4)CC3)c2cc1OC</td>\n",
       "      <td>CHEMBL106966</td>\n",
       "    </tr>\n",
       "  </tbody>\n",
       "</table>\n",
       "</div>"
      ],
      "text/plain": [
       "                                    canonical_smiles molecule_chembl_id\n",
       "0  COc1cc2ncnc(N3CCN(/C(S)=N\\Cc4ccc5c(c4)OCO5)CC3...       CHEMBL102301\n",
       "1  COc1cc2ncnc(N3CCN(C(=O)Nc4ccc(Oc5ccccc5)cc4)CC...       CHEMBL102346\n",
       "3  Cc1ccc(-n2nc(C(C)(C)C)cc2NC(=O)Nc2ccc(OCCN3CCO...       CHEMBL103667\n",
       "4  COc1cc2ncnc(N3CCN(C(=O)Nc4ccc(C(C)C)cc4)CC3)c2...       CHEMBL104067\n",
       "5  COc1cc2ncnc(N3CCN(C(=O)Nc4ccc(C#N)cc4)CC3)c2cc1OC       CHEMBL106966"
      ]
     },
     "execution_count": 105,
     "metadata": {},
     "output_type": "execute_result"
    }
   ],
   "source": [
    "padel.head()"
   ]
  },
  {
   "cell_type": "code",
   "execution_count": 106,
   "id": "ec41f1bd",
   "metadata": {},
   "outputs": [],
   "source": [
    "padel.to_csv('molecule.smi', sep='\\t', index=False, header=False)"
   ]
  },
  {
   "cell_type": "code",
   "execution_count": 107,
   "id": "57d8a92a",
   "metadata": {},
   "outputs": [
    {
     "name": "stdout",
     "output_type": "stream",
     "text": [
      "java -Xms1G -Xmx1G -Djava.awt.headless=true -jar ./PaDEL-Descriptor/PaDEL-Descriptor.jar -removesalt -standardizenitro -fingerprints -descriptortypes ./PaDEL-Descriptor/PubchemFingerprinter.xml -dir ./ -file descriptors_output.csv\r\n"
     ]
    }
   ],
   "source": [
    "! cat padel.sh"
   ]
  },
  {
   "cell_type": "code",
   "execution_count": 108,
   "id": "8e4eb549",
   "metadata": {},
   "outputs": [
    {
     "name": "stdout",
     "output_type": "stream",
     "text": [
      "Processing CHEMBL102301 in molecule.smi (1/780). \n",
      "Processing CHEMBL102346 in molecule.smi (2/780). \n",
      "Processing CHEMBL103667 in molecule.smi (3/780). \n",
      "Processing CHEMBL104067 in molecule.smi (4/780). \n",
      "Processing CHEMBL106966 in molecule.smi (5/780). \n",
      "Processing CHEMBL107599 in molecule.smi (6/780). \n",
      "Processing CHEMBL1077291 in molecule.smi (7/780). \n",
      "Processing CHEMBL1083839 in molecule.smi (8/780). \n",
      "Processing CHEMBL1084450 in molecule.smi (9/780). Average speed: 3.28 s/mol.\n",
      "Processing CHEMBL1085921 in molecule.smi (10/780). Average speed: 1.70 s/mol.\n",
      "Processing CHEMBL1086983 in molecule.smi (11/780). Average speed: 1.22 s/mol.\n",
      "Processing CHEMBL1093099 in molecule.smi (12/780). Average speed: 0.94 s/mol.\n",
      "Processing CHEMBL1093100 in molecule.smi (13/780). Average speed: 0.79 s/mol.\n",
      "Processing CHEMBL1095374 in molecule.smi (14/780). Average speed: 0.74 s/mol.\n",
      "Processing CHEMBL1095686 in molecule.smi (15/780). Average speed: 0.64 s/mol.\n",
      "Processing CHEMBL1095687 in molecule.smi (16/780). Average speed: 0.65 s/mol.\n",
      "Processing CHEMBL1095873 in molecule.smi (17/780). Average speed: 0.52 s/mol.\n",
      "Processing CHEMBL1097359 in molecule.smi (18/780). Average speed: 0.52 s/mol.\n",
      "Processing CHEMBL111433 in molecule.smi (19/780). Average speed: 0.48 s/mol.\n",
      "Processing CHEMBL117 in molecule.smi (20/780). Average speed: 0.44 s/mol.\n",
      "Processing CHEMBL1172420 in molecule.smi (22/780). Average speed: 0.36 s/mol.\n",
      "Processing CHEMBL1172410 in molecule.smi (21/780). Average speed: 0.38 s/mol.\n",
      "Processing CHEMBL1172421 in molecule.smi (23/780). Average speed: 0.36 s/mol.\n",
      "Processing CHEMBL1172422 in molecule.smi (24/780). Average speed: 0.35 s/mol.\n",
      "Processing CHEMBL1172814 in molecule.smi (25/780). Average speed: 0.33 s/mol.\n",
      "Processing CHEMBL1172815 in molecule.smi (26/780). Average speed: 0.32 s/mol.\n",
      "Processing CHEMBL1172837 in molecule.smi (27/780). Average speed: 0.29 s/mol.\n",
      "Processing CHEMBL1172838 in molecule.smi (28/780). Average speed: 0.30 s/mol.\n",
      "Processing CHEMBL1172886 in molecule.smi (29/780). Average speed: 0.29 s/mol.\n",
      "Processing CHEMBL1172887 in molecule.smi (30/780). Average speed: 0.26 s/mol.\n",
      "Processing CHEMBL1173107 in molecule.smi (31/780). Average speed: 0.27 s/mol.\n",
      "Processing CHEMBL1173149 in molecule.smi (32/780). Average speed: 0.26 s/mol.\n",
      "Processing CHEMBL1173150 in molecule.smi (33/780). Average speed: 0.25 s/mol.\n",
      "Processing CHEMBL1173174 in molecule.smi (34/780). Average speed: 0.24 s/mol.\n",
      "Processing CHEMBL1173243 in molecule.smi (35/780). Average speed: 0.24 s/mol.\n",
      "Processing CHEMBL1173244 in molecule.smi (36/780). Average speed: 0.24 s/mol.\n",
      "Processing CHEMBL1173411 in molecule.smi (37/780). Average speed: 0.23 s/mol.\n",
      "Processing CHEMBL1173482 in molecule.smi (38/780). Average speed: 0.23 s/mol.\n",
      "Processing CHEMBL1173541 in molecule.smi (39/780). Average speed: 0.22 s/mol.\n",
      "Processing CHEMBL1173542 in molecule.smi (40/780). Average speed: 0.21 s/mol.\n",
      "Processing CHEMBL1215346 in molecule.smi (41/780). Average speed: 0.21 s/mol.\n",
      "Processing CHEMBL1230165 in molecule.smi (42/780). Average speed: 0.21 s/mol.\n",
      "Processing CHEMBL1230607 in molecule.smi (43/780). Average speed: 0.21 s/mol.\n",
      "Processing CHEMBL124035 in molecule.smi (44/780). Average speed: 0.20 s/mol.\n",
      "Processing CHEMBL1240703 in molecule.smi (45/780). Average speed: 0.20 s/mol.\n",
      "Processing CHEMBL1242995 in molecule.smi (46/780). Average speed: 0.19 s/mol.\n",
      "Processing CHEMBL124660 in molecule.smi (47/780). Average speed: 0.19 s/mol.\n",
      "Processing CHEMBL1255603 in molecule.smi (48/780). Average speed: 0.19 s/mol.\n",
      "Processing CHEMBL1257444 in molecule.smi (49/780). Average speed: 0.18 s/mol.\n",
      "Processing CHEMBL1257560 in molecule.smi (50/780). Average speed: 0.18 s/mol.\n",
      "Processing CHEMBL1257561 in molecule.smi (51/780). Average speed: 0.18 s/mol.\n",
      "Processing CHEMBL1257562 in molecule.smi (52/780). Average speed: 0.17 s/mol.\n",
      "Processing CHEMBL1257681 in molecule.smi (53/780). Average speed: 0.17 s/mol.\n",
      "Processing CHEMBL1257682 in molecule.smi (54/780). Average speed: 0.18 s/mol.\n",
      "Processing CHEMBL1257683 in molecule.smi (55/780). Average speed: 0.17 s/mol.\n",
      "Processing CHEMBL1257804 in molecule.smi (57/780). Average speed: 0.17 s/mol.\n",
      "Processing CHEMBL1257803 in molecule.smi (56/780). Average speed: 0.17 s/mol.\n",
      "Processing CHEMBL1257805 in molecule.smi (58/780). Average speed: 0.16 s/mol.\n",
      "Processing CHEMBL1257921 in molecule.smi (59/780). Average speed: 0.16 s/mol.\n",
      "Processing CHEMBL1257922 in molecule.smi (60/780). Average speed: 0.16 s/mol.\n",
      "Processing CHEMBL1258031 in molecule.smi (61/780). Average speed: 0.16 s/mol.\n",
      "Processing CHEMBL1258149 in molecule.smi (62/780). Average speed: 0.16 s/mol.\n",
      "Processing CHEMBL1258150 in molecule.smi (63/780). Average speed: 0.16 s/mol.\n",
      "Processing CHEMBL1258264 in molecule.smi (64/780). Average speed: 0.16 s/mol.\n",
      "Processing CHEMBL1258265 in molecule.smi (65/780). Average speed: 0.15 s/mol.\n",
      "Processing CHEMBL1258377 in molecule.smi (66/780). Average speed: 0.15 s/mol.\n",
      "Processing CHEMBL1258489 in molecule.smi (67/780). Average speed: 0.15 s/mol.\n",
      "Processing CHEMBL1258602 in molecule.smi (68/780). Average speed: 0.15 s/mol.\n",
      "Processing CHEMBL1258603 in molecule.smi (69/780). Average speed: 0.15 s/mol.\n",
      "Processing CHEMBL1258710 in molecule.smi (70/780). Average speed: 0.15 s/mol.\n",
      "Processing CHEMBL1258711 in molecule.smi (71/780). Average speed: 0.15 s/mol.\n",
      "Processing CHEMBL1258830 in molecule.smi (72/780). Average speed: 0.15 s/mol.\n",
      "Processing CHEMBL1258831 in molecule.smi (73/780). Average speed: 0.15 s/mol.\n",
      "Processing CHEMBL1258945 in molecule.smi (74/780). Average speed: 0.14 s/mol.\n",
      "Processing CHEMBL126077 in molecule.smi (76/780). Average speed: 0.14 s/mol.\n",
      "Processing CHEMBL125898 in molecule.smi (75/780). Average speed: 0.14 s/mol.\n",
      "Processing CHEMBL1270230 in molecule.smi (77/780). Average speed: 0.15 s/mol.\n",
      "Processing CHEMBL1271480 in molecule.smi (78/780). Average speed: 0.15 s/mol.\n",
      "Processing CHEMBL1271532 in molecule.smi (79/780). Average speed: 0.15 s/mol.\n",
      "Processing CHEMBL1271533 in molecule.smi (80/780). Average speed: 0.15 s/mol.\n",
      "Processing CHEMBL1271642 in molecule.smi (82/780). Average speed: 0.14 s/mol.\n",
      "Processing CHEMBL1271641 in molecule.smi (81/780). Average speed: 0.15 s/mol.\n",
      "Processing CHEMBL1271644 in molecule.smi (83/780). Average speed: 0.14 s/mol.\n",
      "Processing CHEMBL1271692 in molecule.smi (84/780). Average speed: 0.14 s/mol.\n",
      "Processing CHEMBL1276127 in molecule.smi (85/780). Average speed: 0.14 s/mol.\n",
      "Processing CHEMBL1288582 in molecule.smi (86/780). Average speed: 0.14 s/mol.\n",
      "Processing CHEMBL1336 in molecule.smi (87/780). Average speed: 0.14 s/mol.\n",
      "Processing CHEMBL1448 in molecule.smi (88/780). Average speed: 0.14 s/mol.\n",
      "Processing CHEMBL150894 in molecule.smi (89/780). Average speed: 0.14 s/mol.\n",
      "Processing CHEMBL151 in molecule.smi (90/780). Average speed: 0.14 s/mol.\n",
      "Processing CHEMBL1650533 in molecule.smi (91/780). Average speed: 0.14 s/mol.\n",
      "Processing CHEMBL1650545 in molecule.smi (92/780). Average speed: 0.14 s/mol.\n",
      "Processing CHEMBL1650551 in molecule.smi (93/780). Average speed: 0.13 s/mol.\n",
      "Processing CHEMBL1651523 in molecule.smi (94/780). Average speed: 0.14 s/mol.\n",
      "Processing CHEMBL1668411 in molecule.smi (95/780). Average speed: 0.13 s/mol.\n",
      "Processing CHEMBL1668412 in molecule.smi (96/780). Average speed: 0.13 s/mol.\n",
      "Processing CHEMBL1668413 in molecule.smi (97/780). Average speed: 0.13 s/mol.\n",
      "Processing CHEMBL1668416 in molecule.smi (98/780). Average speed: 0.13 s/mol.\n",
      "Processing CHEMBL1668418 in molecule.smi (99/780). Average speed: 0.13 s/mol.\n",
      "Processing CHEMBL1668419 in molecule.smi (100/780). Average speed: 0.13 s/mol.\n",
      "Processing CHEMBL1684800 in molecule.smi (102/780). Average speed: 0.13 s/mol.\n",
      "Processing CHEMBL1668420 in molecule.smi (101/780). Average speed: 0.13 s/mol.\n",
      "Processing CHEMBL1738758 in molecule.smi (104/780). Average speed: 0.13 s/mol.\n",
      "Processing CHEMBL1738710 in molecule.smi (103/780). Average speed: 0.13 s/mol.\n",
      "Processing CHEMBL174025 in molecule.smi (105/780). Average speed: 0.13 s/mol.\n",
      "Processing CHEMBL1774056 in molecule.smi (106/780). Average speed: 0.13 s/mol.\n",
      "Processing CHEMBL1782182 in molecule.smi (108/780). Average speed: 0.12 s/mol.\n",
      "Processing CHEMBL1779593 in molecule.smi (107/780). Average speed: 0.12 s/mol.\n",
      "Processing CHEMBL1782185 in molecule.smi (109/780). Average speed: 0.13 s/mol.\n",
      "Processing CHEMBL1782186 in molecule.smi (110/780). Average speed: 0.13 s/mol.\n"
     ]
    },
    {
     "name": "stdout",
     "output_type": "stream",
     "text": [
      "Processing CHEMBL1782187 in molecule.smi (111/780). Average speed: 0.12 s/mol.\n",
      "Processing CHEMBL1782188 in molecule.smi (112/780). Average speed: 0.12 s/mol.\n",
      "Processing CHEMBL1784637 in molecule.smi (113/780). Average speed: 0.12 s/mol.\n",
      "Processing CHEMBL1793892 in molecule.smi (114/780). Average speed: 0.12 s/mol.\n",
      "Processing CHEMBL1793896 in molecule.smi (115/780). Average speed: 0.12 s/mol.\n",
      "Processing CHEMBL1807386 in molecule.smi (116/780). Average speed: 0.12 s/mol.\n",
      "Processing CHEMBL1807388 in molecule.smi (117/780). Average speed: 0.12 s/mol.\n",
      "Processing CHEMBL1807389 in molecule.smi (118/780). Average speed: 0.12 s/mol.\n",
      "Processing CHEMBL1807392 in molecule.smi (119/780). Average speed: 0.12 s/mol.\n",
      "Processing CHEMBL1807466 in molecule.smi (120/780). Average speed: 0.12 s/mol.\n",
      "Processing CHEMBL1807467 in molecule.smi (121/780). Average speed: 0.12 s/mol.\n",
      "Processing CHEMBL1807470 in molecule.smi (124/780). Average speed: 0.12 s/mol.\n",
      "Processing CHEMBL1807469 in molecule.smi (123/780). Average speed: 0.12 s/mol.\n",
      "Processing CHEMBL1807468 in molecule.smi (122/780). Average speed: 0.12 s/mol.\n",
      "Processing CHEMBL1807471 in molecule.smi (125/780). Average speed: 0.12 s/mol.\n",
      "Processing CHEMBL1807472 in molecule.smi (126/780). Average speed: 0.12 s/mol.\n",
      "Processing CHEMBL1807473 in molecule.smi (127/780). Average speed: 0.12 s/mol.\n",
      "Processing CHEMBL1807474 in molecule.smi (128/780). Average speed: 0.12 s/mol.\n",
      "Processing CHEMBL1807475 in molecule.smi (129/780). Average speed: 0.12 s/mol.\n",
      "Processing CHEMBL1807476 in molecule.smi (130/780). Average speed: 0.12 s/mol.\n",
      "Processing CHEMBL1807477 in molecule.smi (131/780). Average speed: 0.12 s/mol.\n",
      "Processing CHEMBL1807478 in molecule.smi (132/780). Average speed: 0.12 s/mol.\n",
      "Processing CHEMBL1807479 in molecule.smi (133/780). Average speed: 0.11 s/mol.\n",
      "Processing CHEMBL1807480 in molecule.smi (134/780). Average speed: 0.12 s/mol.\n",
      "Processing CHEMBL1807481 in molecule.smi (135/780). Average speed: 0.12 s/mol.\n",
      "Processing CHEMBL1807482 in molecule.smi (136/780). Average speed: 0.12 s/mol.\n",
      "Processing CHEMBL1807483 in molecule.smi (137/780). Average speed: 0.12 s/mol.\n",
      "Processing CHEMBL1807484 in molecule.smi (138/780). Average speed: 0.12 s/mol.\n",
      "Processing CHEMBL1807485 in molecule.smi (139/780). Average speed: 0.11 s/mol.\n",
      "Processing CHEMBL1807785 in molecule.smi (140/780). Average speed: 0.12 s/mol.\n",
      "Processing CHEMBL1807786 in molecule.smi (141/780). Average speed: 0.12 s/mol.\n",
      "Processing CHEMBL1807787 in molecule.smi (142/780). Average speed: 0.12 s/mol.\n",
      "Processing CHEMBL1807788 in molecule.smi (143/780). Average speed: 0.11 s/mol.\n",
      "Processing CHEMBL1807789 in molecule.smi (144/780). Average speed: 0.11 s/mol.\n",
      "Processing CHEMBL1822792 in molecule.smi (145/780). Average speed: 0.11 s/mol.\n",
      "Processing CHEMBL1833992 in molecule.smi (146/780). Average speed: 0.11 s/mol.\n",
      "Processing CHEMBL1835743 in molecule.smi (147/780). Average speed: 0.11 s/mol.\n",
      "Processing CHEMBL1835746 in molecule.smi (148/780). Average speed: 0.11 s/mol.\n",
      "Processing CHEMBL1835747 in molecule.smi (149/780). Average speed: 0.11 s/mol.\n",
      "Processing CHEMBL1835749 in molecule.smi (150/780). Average speed: 0.11 s/mol.\n",
      "Processing CHEMBL1835867 in molecule.smi (151/780). Average speed: 0.11 s/mol.\n",
      "Processing CHEMBL1835870 in molecule.smi (152/780). Average speed: 0.11 s/mol.\n",
      "Processing CHEMBL1908842 in molecule.smi (153/780). Average speed: 0.11 s/mol.\n",
      "Processing CHEMBL1910892 in molecule.smi (154/780). Average speed: 0.11 s/mol.\n",
      "Processing CHEMBL1910893 in molecule.smi (155/780). Average speed: 0.11 s/mol.\n",
      "Processing CHEMBL1910894 in molecule.smi (156/780). Average speed: 0.11 s/mol.\n",
      "Processing CHEMBL1915433 in molecule.smi (157/780). Average speed: 0.11 s/mol.\n",
      "Processing CHEMBL1915438 in molecule.smi (158/780). Average speed: 0.11 s/mol.\n",
      "Processing CHEMBL1915442 in molecule.smi (159/780). Average speed: 0.11 s/mol.\n",
      "Processing CHEMBL1915445 in molecule.smi (160/780). Average speed: 0.11 s/mol.\n",
      "Processing CHEMBL1915448 in molecule.smi (161/780). Average speed: 0.11 s/mol.\n",
      "Processing CHEMBL1915638 in molecule.smi (162/780). Average speed: 0.11 s/mol.\n",
      "Processing CHEMBL1915640 in molecule.smi (164/780). Average speed: 0.11 s/mol.\n",
      "Processing CHEMBL1915639 in molecule.smi (163/780). Average speed: 0.11 s/mol.\n",
      "Processing CHEMBL1915641 in molecule.smi (165/780). Average speed: 0.11 s/mol.\n",
      "Processing CHEMBL1915644 in molecule.smi (166/780). Average speed: 0.11 s/mol.\n",
      "Processing CHEMBL1922404 in molecule.smi (167/780). Average speed: 0.11 s/mol.\n",
      "Processing CHEMBL1922405 in molecule.smi (168/780). Average speed: 0.11 s/mol.\n",
      "Processing CHEMBL1929238 in molecule.smi (169/780). Average speed: 0.11 s/mol.\n",
      "Processing CHEMBL1933288 in molecule.smi (170/780). Average speed: 0.11 s/mol.\n",
      "Processing CHEMBL1933343 in molecule.smi (171/780). Average speed: 0.11 s/mol.\n",
      "Processing CHEMBL1933344 in molecule.smi (172/780). Average speed: 0.11 s/mol.\n",
      "Processing CHEMBL1933346 in molecule.smi (173/780). Average speed: 0.11 s/mol.\n",
      "Processing CHEMBL1933582 in molecule.smi (174/780). Average speed: 0.11 s/mol.\n",
      "Processing CHEMBL1938954 in molecule.smi (175/780). Average speed: 0.11 s/mol.\n",
      "Processing CHEMBL1938962 in molecule.smi (177/780). Average speed: 0.11 s/mol.\n",
      "Processing CHEMBL1938960 in molecule.smi (176/780). Average speed: 0.11 s/mol.\n",
      "Processing CHEMBL1938965 in molecule.smi (178/780). Average speed: 0.11 s/mol.\n",
      "Processing CHEMBL1940103 in molecule.smi (179/780). Average speed: 0.11 s/mol.\n",
      "Processing CHEMBL1940104 in molecule.smi (180/780). Average speed: 0.10 s/mol.\n",
      "Processing CHEMBL1940105 in molecule.smi (181/780). Average speed: 0.10 s/mol.\n",
      "Processing CHEMBL1940106 in molecule.smi (182/780). Average speed: 0.10 s/mol.\n",
      "Processing CHEMBL1940108 in molecule.smi (184/780). Average speed: 0.10 s/mol.\n",
      "Processing CHEMBL1940107 in molecule.smi (183/780). Average speed: 0.10 s/mol.\n",
      "Processing CHEMBL1940109 in molecule.smi (185/780). Average speed: 0.10 s/mol.\n",
      "Processing CHEMBL1940110 in molecule.smi (186/780). Average speed: 0.10 s/mol.\n",
      "Processing CHEMBL1940111 in molecule.smi (187/780). Average speed: 0.10 s/mol.\n",
      "Processing CHEMBL1940112 in molecule.smi (188/780). Average speed: 0.10 s/mol.\n",
      "Processing CHEMBL1940113 in molecule.smi (189/780). Average speed: 0.10 s/mol.\n",
      "Processing CHEMBL1940114 in molecule.smi (190/780). Average speed: 0.10 s/mol.\n",
      "Processing CHEMBL1940115 in molecule.smi (191/780). Average speed: 0.10 s/mol.\n",
      "Processing CHEMBL1940116 in molecule.smi (192/780). Average speed: 0.10 s/mol.\n",
      "Processing CHEMBL1940117 in molecule.smi (193/780). Average speed: 0.10 s/mol.\n",
      "Processing CHEMBL1940118 in molecule.smi (194/780). Average speed: 0.10 s/mol.\n",
      "Processing CHEMBL1940259 in molecule.smi (195/780). Average speed: 0.10 s/mol.\n",
      "Processing CHEMBL1940260 in molecule.smi (196/780). Average speed: 0.10 s/mol.\n",
      "Processing CHEMBL1940261 in molecule.smi (197/780). Average speed: 0.10 s/mol.\n",
      "Processing CHEMBL1940262 in molecule.smi (198/780). Average speed: 0.10 s/mol.\n",
      "Processing CHEMBL1940263 in molecule.smi (199/780). Average speed: 0.10 s/mol.\n",
      "Processing CHEMBL1940264 in molecule.smi (200/780). Average speed: 0.10 s/mol.\n",
      "Processing CHEMBL1940265 in molecule.smi (201/780). Average speed: 0.10 s/mol.\n",
      "Processing CHEMBL1940266 in molecule.smi (202/780). Average speed: 0.10 s/mol.\n",
      "Processing CHEMBL1940267 in molecule.smi (203/780). Average speed: 0.10 s/mol.\n",
      "Processing CHEMBL1940268 in molecule.smi (204/780). Average speed: 0.10 s/mol.\n",
      "Processing CHEMBL1940270 in molecule.smi (206/780). Average speed: 0.10 s/mol.\n",
      "Processing CHEMBL1940269 in molecule.smi (205/780). Average speed: 0.10 s/mol.\n",
      "Processing CHEMBL1940271 in molecule.smi (207/780). Average speed: 0.10 s/mol.\n",
      "Processing CHEMBL1940272 in molecule.smi (208/780). Average speed: 0.10 s/mol.\n",
      "Processing CHEMBL1940273 in molecule.smi (209/780). Average speed: 0.10 s/mol.\n",
      "Processing CHEMBL1940274 in molecule.smi (210/780). Average speed: 0.10 s/mol.\n",
      "Processing CHEMBL1940275 in molecule.smi (211/780). Average speed: 0.10 s/mol.\n",
      "Processing CHEMBL194366 in molecule.smi (212/780). Average speed: 0.10 s/mol.\n",
      "Processing CHEMBL1944698 in molecule.smi (213/780). Average speed: 0.10 s/mol.\n",
      "Processing CHEMBL1944699 in molecule.smi (214/780). Average speed: 0.10 s/mol.\n"
     ]
    },
    {
     "name": "stdout",
     "output_type": "stream",
     "text": [
      "Processing CHEMBL1944700 in molecule.smi (215/780). Average speed: 0.10 s/mol.\n",
      "Processing CHEMBL1944701 in molecule.smi (216/780). Average speed: 0.10 s/mol.\n",
      "Processing CHEMBL1944870 in molecule.smi (217/780). Average speed: 0.10 s/mol.\n",
      "Processing CHEMBL1944871 in molecule.smi (218/780). Average speed: 0.10 s/mol.\n",
      "Processing CHEMBL1945046 in molecule.smi (220/780). Average speed: 0.10 s/mol.\n",
      "Processing CHEMBL1944872 in molecule.smi (219/780). Average speed: 0.10 s/mol.\n",
      "Processing CHEMBL1945048 in molecule.smi (222/780). Average speed: 0.10 s/mol.\n",
      "Processing CHEMBL1945047 in molecule.smi (221/780). Average speed: 0.10 s/mol.\n",
      "Processing CHEMBL1945049 in molecule.smi (223/780). Average speed: 0.10 s/mol.\n",
      "Processing CHEMBL1945050 in molecule.smi (224/780). Average speed: 0.10 s/mol.\n",
      "Processing CHEMBL1945051 in molecule.smi (225/780). Average speed: 0.10 s/mol.\n",
      "Processing CHEMBL1945052 in molecule.smi (226/780). Average speed: 0.10 s/mol.\n",
      "Processing CHEMBL1945170 in molecule.smi (227/780). Average speed: 0.10 s/mol.\n",
      "Processing CHEMBL1945171 in molecule.smi (228/780). Average speed: 0.10 s/mol.\n",
      "Processing CHEMBL1945172 in molecule.smi (229/780). Average speed: 0.10 s/mol.\n",
      "Processing CHEMBL1945173 in molecule.smi (230/780). Average speed: 0.10 s/mol.\n",
      "Processing CHEMBL1945559 in molecule.smi (231/780). Average speed: 0.10 s/mol.\n",
      "Processing CHEMBL1945565 in molecule.smi (232/780). Average speed: 0.10 s/mol.\n",
      "Processing CHEMBL1945566 in molecule.smi (233/780). Average speed: 0.10 s/mol.\n",
      "Processing CHEMBL1945567 in molecule.smi (234/780). Average speed: 0.10 s/mol.\n",
      "Processing CHEMBL1945569 in molecule.smi (236/780). Average speed: 0.10 s/mol.\n",
      "Processing CHEMBL1945568 in molecule.smi (235/780). Average speed: 0.10 s/mol.\n",
      "Processing CHEMBL1945704 in molecule.smi (238/780). Average speed: 0.10 s/mol.\n",
      "Processing CHEMBL1945703 in molecule.smi (237/780). Average speed: 0.10 s/mol.\n",
      "Processing CHEMBL1945705 in molecule.smi (239/780). Average speed: 0.10 s/mol.\n",
      "Processing CHEMBL1945706 in molecule.smi (240/780). Average speed: 0.10 s/mol.\n",
      "Processing CHEMBL1945707 in molecule.smi (241/780). Average speed: 0.10 s/mol.\n",
      "Processing CHEMBL1945803 in molecule.smi (242/780). Average speed: 0.10 s/mol.\n",
      "Processing CHEMBL1945804 in molecule.smi (243/780). Average speed: 0.10 s/mol.\n",
      "Processing CHEMBL1945822 in molecule.smi (244/780). Average speed: 0.10 s/mol.\n",
      "Processing CHEMBL1945823 in molecule.smi (245/780). Average speed: 0.10 s/mol.\n",
      "Processing CHEMBL1946004 in molecule.smi (246/780). Average speed: 0.10 s/mol.\n",
      "Processing CHEMBL1946005 in molecule.smi (247/780). Average speed: 0.10 s/mol.\n",
      "Processing CHEMBL1946006 in molecule.smi (248/780). Average speed: 0.10 s/mol.\n",
      "Processing CHEMBL1946150 in molecule.smi (249/780). Average speed: 0.10 s/mol.\n",
      "Processing CHEMBL1946151 in molecule.smi (250/780). Average speed: 0.10 s/mol.\n",
      "Processing CHEMBL1946153 in molecule.smi (251/780). Average speed: 0.10 s/mol.\n",
      "Processing CHEMBL1946442 in molecule.smi (252/780). Average speed: 0.10 s/mol.\n",
      "Processing CHEMBL1946443 in molecule.smi (253/780). Average speed: 0.10 s/mol.\n",
      "Processing CHEMBL1947160 in molecule.smi (254/780). Average speed: 0.10 s/mol.\n",
      "Processing CHEMBL1947162 in molecule.smi (255/780). Average speed: 0.10 s/mol.\n",
      "Processing CHEMBL1949788 in molecule.smi (256/780). Average speed: 0.10 s/mol.\n",
      "Processing CHEMBL1949789 in molecule.smi (257/780). Average speed: 0.10 s/mol.\n",
      "Processing CHEMBL1950886 in molecule.smi (258/780). Average speed: 0.10 s/mol.\n",
      "Processing CHEMBL1950983 in molecule.smi (259/780). Average speed: 0.10 s/mol.\n",
      "Processing CHEMBL1950984 in molecule.smi (260/780). Average speed: 0.10 s/mol.\n",
      "Processing CHEMBL1952113 in molecule.smi (261/780). Average speed: 0.10 s/mol.\n",
      "Processing CHEMBL1952121 in molecule.smi (262/780). Average speed: 0.10 s/mol.\n",
      "Processing CHEMBL1952125 in molecule.smi (263/780). Average speed: 0.10 s/mol.\n",
      "Processing CHEMBL1952126 in molecule.smi (264/780). Average speed: 0.10 s/mol.\n",
      "Processing CHEMBL1952132 in molecule.smi (265/780). Average speed: 0.10 s/mol.\n",
      "Processing CHEMBL1952133 in molecule.smi (266/780). Average speed: 0.10 s/mol.\n",
      "Processing CHEMBL1952134 in molecule.smi (267/780). Average speed: 0.10 s/mol.\n",
      "Processing CHEMBL1952137 in molecule.smi (269/780). Average speed: 0.10 s/mol.\n",
      "Processing CHEMBL1952136 in molecule.smi (268/780). Average speed: 0.10 s/mol.\n",
      "Processing CHEMBL1952141 in molecule.smi (270/780). Average speed: 0.10 s/mol.\n",
      "Processing CHEMBL1952144 in molecule.smi (271/780). Average speed: 0.10 s/mol.\n",
      "Processing CHEMBL1952329 in molecule.smi (272/780). Average speed: 0.10 s/mol.\n",
      "Processing CHEMBL196363 in molecule.smi (273/780). Average speed: 0.10 s/mol.\n",
      "Processing CHEMBL196615 in molecule.smi (274/780). Average speed: 0.09 s/mol.\n",
      "Processing CHEMBL199886 in molecule.smi (275/780). Average speed: 0.09 s/mol.\n",
      "Processing CHEMBL2010872 in molecule.smi (276/780). Average speed: 0.10 s/mol.\n",
      "Processing CHEMBL201511 in molecule.smi (277/780). Average speed: 0.10 s/mol.\n",
      "Processing CHEMBL2017323 in molecule.smi (278/780). Average speed: 0.09 s/mol.\n",
      "Processing CHEMBL2017326 in molecule.smi (279/780). Average speed: 0.09 s/mol.\n",
      "Processing CHEMBL2017328 in molecule.smi (280/780). Average speed: 0.09 s/mol.\n",
      "Processing CHEMBL2017331 in molecule.smi (281/780). Average speed: 0.09 s/mol.\n",
      "Processing CHEMBL2023115 in molecule.smi (282/780). Average speed: 0.09 s/mol.\n",
      "Processing CHEMBL2023116 in molecule.smi (283/780). Average speed: 0.09 s/mol.\n",
      "Processing CHEMBL2023117 in molecule.smi (284/780). Average speed: 0.09 s/mol.\n",
      "Processing CHEMBL2023118 in molecule.smi (285/780). Average speed: 0.09 s/mol.\n",
      "Processing CHEMBL2023119 in molecule.smi (286/780). Average speed: 0.09 s/mol.\n",
      "Processing CHEMBL2023474 in molecule.smi (287/780). Average speed: 0.09 s/mol.\n",
      "Processing CHEMBL2023475 in molecule.smi (288/780). Average speed: 0.09 s/mol.\n",
      "Processing CHEMBL2023476 in molecule.smi (289/780). Average speed: 0.09 s/mol.\n",
      "Processing CHEMBL2023477 in molecule.smi (290/780). Average speed: 0.09 s/mol.\n",
      "Processing CHEMBL2023478 in molecule.smi (291/780). Average speed: 0.10 s/mol.\n",
      "Processing CHEMBL2023479 in molecule.smi (292/780). Average speed: 0.10 s/mol.\n",
      "Processing CHEMBL2023480 in molecule.smi (293/780). Average speed: 0.09 s/mol.\n",
      "Processing CHEMBL2023481 in molecule.smi (294/780). Average speed: 0.09 s/mol.\n",
      "Processing CHEMBL2023482 in molecule.smi (295/780). Average speed: 0.09 s/mol.\n",
      "Processing CHEMBL2023483 in molecule.smi (296/780). Average speed: 0.09 s/mol.\n",
      "Processing CHEMBL2023484 in molecule.smi (297/780). Average speed: 0.09 s/mol.\n",
      "Processing CHEMBL2023485 in molecule.smi (298/780). Average speed: 0.09 s/mol.\n",
      "Processing CHEMBL2023486 in molecule.smi (299/780). Average speed: 0.10 s/mol.\n",
      "Processing CHEMBL2023487 in molecule.smi (300/780). Average speed: 0.10 s/mol.\n",
      "Processing CHEMBL2023488 in molecule.smi (301/780). Average speed: 0.09 s/mol.\n",
      "Processing CHEMBL2023489 in molecule.smi (302/780). Average speed: 0.09 s/mol.\n",
      "Processing CHEMBL2023490 in molecule.smi (303/780). Average speed: 0.09 s/mol.\n",
      "Processing CHEMBL2023491 in molecule.smi (304/780). Average speed: 0.09 s/mol.\n",
      "Processing CHEMBL2023492 in molecule.smi (305/780). Average speed: 0.09 s/mol.\n",
      "Processing CHEMBL2023493 in molecule.smi (306/780). Average speed: 0.09 s/mol.\n",
      "Processing CHEMBL2023494 in molecule.smi (307/780). Average speed: 0.09 s/mol.\n",
      "Processing CHEMBL2023495 in molecule.smi (308/780). Average speed: 0.09 s/mol.\n",
      "Processing CHEMBL2023496 in molecule.smi (309/780). Average speed: 0.09 s/mol.\n",
      "Processing CHEMBL2023800 in molecule.smi (310/780). Average speed: 0.09 s/mol.\n",
      "Processing CHEMBL2023801 in molecule.smi (311/780). Average speed: 0.09 s/mol.\n",
      "Processing CHEMBL2032155 in molecule.smi (312/780). Average speed: 0.09 s/mol.\n",
      "Processing CHEMBL2032274 in molecule.smi (313/780). Average speed: 0.09 s/mol.\n",
      "Processing CHEMBL2032276 in molecule.smi (314/780). Average speed: 0.09 s/mol.\n",
      "Processing CHEMBL2032278 in molecule.smi (315/780). Average speed: 0.09 s/mol.\n",
      "Processing CHEMBL2032280 in molecule.smi (316/780). Average speed: 0.09 s/mol.\n",
      "Processing CHEMBL2032282 in molecule.smi (317/780). Average speed: 0.09 s/mol.\n",
      "Processing CHEMBL2032283 in molecule.smi (318/780). Average speed: 0.09 s/mol.\n"
     ]
    },
    {
     "name": "stdout",
     "output_type": "stream",
     "text": [
      "Processing CHEMBL2032285 in molecule.smi (319/780). Average speed: 0.09 s/mol.\n",
      "Processing CHEMBL2035041 in molecule.smi (320/780). Average speed: 0.09 s/mol.\n",
      "Processing CHEMBL2035042 in molecule.smi (321/780). Average speed: 0.09 s/mol.\n",
      "Processing CHEMBL2035043 in molecule.smi (322/780). Average speed: 0.09 s/mol.\n",
      "Processing CHEMBL2035046 in molecule.smi (324/780). Average speed: 0.09 s/mol.\n",
      "Processing CHEMBL2035044 in molecule.smi (323/780). Average speed: 0.09 s/mol.\n",
      "Processing CHEMBL2035047 in molecule.smi (325/780). Average speed: 0.09 s/mol.\n",
      "Processing CHEMBL2035048 in molecule.smi (326/780). Average speed: 0.09 s/mol.\n",
      "Processing CHEMBL2035049 in molecule.smi (327/780). Average speed: 0.09 s/mol.\n",
      "Processing CHEMBL2035050 in molecule.smi (328/780). Average speed: 0.09 s/mol.\n",
      "Processing CHEMBL2035052 in molecule.smi (330/780). Average speed: 0.09 s/mol.\n",
      "Processing CHEMBL2035051 in molecule.smi (329/780). Average speed: 0.09 s/mol.\n",
      "Processing CHEMBL2035053 in molecule.smi (331/780). Average speed: 0.09 s/mol.\n",
      "Processing CHEMBL2035054 in molecule.smi (332/780). Average speed: 0.09 s/mol.\n",
      "Processing CHEMBL2035055 in molecule.smi (333/780). Average speed: 0.09 s/mol.\n",
      "Processing CHEMBL2035181 in molecule.smi (334/780). Average speed: 0.09 s/mol.\n",
      "Processing CHEMBL2035182 in molecule.smi (335/780). Average speed: 0.09 s/mol.\n",
      "Processing CHEMBL2035183 in molecule.smi (336/780). Average speed: 0.09 s/mol.\n",
      "Processing CHEMBL2035184 in molecule.smi (337/780). Average speed: 0.09 s/mol.\n",
      "Processing CHEMBL2035185 in molecule.smi (338/780). Average speed: 0.09 s/mol.\n",
      "Processing CHEMBL2035186 in molecule.smi (339/780). Average speed: 0.09 s/mol.\n",
      "Processing CHEMBL2035187 in molecule.smi (340/780). Average speed: 0.09 s/mol.\n",
      "Processing CHEMBL2037201 in molecule.smi (341/780). Average speed: 0.09 s/mol.\n",
      "Processing CHEMBL2046699 in molecule.smi (342/780). Average speed: 0.09 s/mol.\n",
      "Processing CHEMBL2046726 in molecule.smi (343/780). Average speed: 0.09 s/mol.\n",
      "Processing CHEMBL2046883 in molecule.smi (344/780). Average speed: 0.09 s/mol.\n",
      "Processing CHEMBL2046884 in molecule.smi (345/780). Average speed: 0.09 s/mol.\n",
      "Processing CHEMBL2063318 in molecule.smi (346/780). Average speed: 0.09 s/mol.\n",
      "Processing CHEMBL2063319 in molecule.smi (347/780). Average speed: 0.09 s/mol.\n",
      "Processing CHEMBL2063320 in molecule.smi (348/780). Average speed: 0.09 s/mol.\n",
      "Processing CHEMBL2063321 in molecule.smi (349/780). Average speed: 0.09 s/mol.\n",
      "Processing CHEMBL2063323 in molecule.smi (351/780). Average speed: 0.09 s/mol.\n",
      "Processing CHEMBL2063322 in molecule.smi (350/780). Average speed: 0.09 s/mol.\n",
      "Processing CHEMBL2063324 in molecule.smi (352/780). Average speed: 0.09 s/mol.\n",
      "Processing CHEMBL2063325 in molecule.smi (353/780). Average speed: 0.09 s/mol.\n",
      "Processing CHEMBL2063326 in molecule.smi (354/780). Average speed: 0.09 s/mol.\n",
      "Processing CHEMBL2063327 in molecule.smi (355/780). Average speed: 0.09 s/mol.\n",
      "Processing CHEMBL2063328 in molecule.smi (356/780). Average speed: 0.09 s/mol.\n",
      "Processing CHEMBL2063329 in molecule.smi (357/780). Average speed: 0.09 s/mol.\n",
      "Processing CHEMBL2063330 in molecule.smi (358/780). Average speed: 0.09 s/mol.\n",
      "Processing CHEMBL2063331 in molecule.smi (359/780). Average speed: 0.09 s/mol.\n",
      "Processing CHEMBL2063332 in molecule.smi (360/780). Average speed: 0.09 s/mol.\n",
      "Processing CHEMBL2063333 in molecule.smi (361/780). Average speed: 0.09 s/mol.\n",
      "Processing CHEMBL2063334 in molecule.smi (362/780). Average speed: 0.09 s/mol.\n",
      "Processing CHEMBL2063335 in molecule.smi (363/780). Average speed: 0.09 s/mol.\n",
      "Processing CHEMBL2063336 in molecule.smi (364/780). Average speed: 0.09 s/mol.\n",
      "Processing CHEMBL2063337 in molecule.smi (365/780). Average speed: 0.09 s/mol.\n",
      "Processing CHEMBL2063338 in molecule.smi (366/780). Average speed: 0.09 s/mol.\n",
      "Processing CHEMBL2063434 in molecule.smi (367/780). Average speed: 0.09 s/mol.\n",
      "Processing CHEMBL2063435 in molecule.smi (368/780). Average speed: 0.09 s/mol.\n",
      "Processing CHEMBL2063436 in molecule.smi (369/780). Average speed: 0.09 s/mol.\n",
      "Processing CHEMBL206469 in molecule.smi (371/780). Average speed: 0.09 s/mol.\n",
      "Processing CHEMBL2064666 in molecule.smi (370/780). Average speed: 0.09 s/mol.\n",
      "Processing CHEMBL206914 in molecule.smi (372/780). Average speed: 0.09 s/mol.\n",
      "Processing CHEMBL206915 in molecule.smi (373/780). Average speed: 0.09 s/mol.\n",
      "Processing CHEMBL207008 in molecule.smi (374/780). Average speed: 0.09 s/mol.\n",
      "Processing CHEMBL2071201 in molecule.smi (375/780). Average speed: 0.09 s/mol.\n",
      "Processing CHEMBL207578 in molecule.smi (376/780). Average speed: 0.09 s/mol.\n",
      "Processing CHEMBL207858 in molecule.smi (377/780). Average speed: 0.09 s/mol.\n",
      "Processing CHEMBL207895 in molecule.smi (378/780). Average speed: 0.09 s/mol.\n",
      "Processing CHEMBL207949 in molecule.smi (379/780). Average speed: 0.09 s/mol.\n",
      "Processing CHEMBL208446 in molecule.smi (380/780). Average speed: 0.09 s/mol.\n",
      "Processing CHEMBL208628 in molecule.smi (381/780). Average speed: 0.09 s/mol.\n",
      "Processing CHEMBL208655 in molecule.smi (382/780). Average speed: 0.09 s/mol.\n",
      "Processing CHEMBL2086760 in molecule.smi (383/780). Average speed: 0.09 s/mol.\n",
      "Processing CHEMBL208712 in molecule.smi (384/780). Average speed: 0.09 s/mol.\n",
      "Processing CHEMBL208800 in molecule.smi (385/780). Average speed: 0.09 s/mol.\n",
      "Processing CHEMBL208909 in molecule.smi (386/780). Average speed: 0.09 s/mol.\n",
      "Processing CHEMBL209233 in molecule.smi (387/780). Average speed: 0.09 s/mol.\n",
      "Processing CHEMBL209285 in molecule.smi (388/780). Average speed: 0.09 s/mol.\n",
      "Processing CHEMBL209562 in molecule.smi (389/780). Average speed: 0.09 s/mol.\n",
      "Processing CHEMBL209823 in molecule.smi (390/780). Average speed: 0.09 s/mol.\n",
      "Processing CHEMBL209928 in molecule.smi (391/780). Average speed: 0.09 s/mol.\n",
      "Processing CHEMBL210040 in molecule.smi (392/780). Average speed: 0.09 s/mol.\n",
      "Processing CHEMBL210095 in molecule.smi (393/780). Average speed: 0.09 s/mol.\n",
      "Processing CHEMBL210149 in molecule.smi (394/780). Average speed: 0.09 s/mol.\n",
      "Processing CHEMBL210226 in molecule.smi (395/780). Average speed: 0.09 s/mol.\n",
      "Processing CHEMBL210227 in molecule.smi (396/780). Average speed: 0.09 s/mol.\n",
      "Processing CHEMBL210249 in molecule.smi (397/780). Average speed: 0.09 s/mol.\n",
      "Processing CHEMBL210250 in molecule.smi (398/780). Average speed: 0.09 s/mol.\n",
      "Processing CHEMBL210266 in molecule.smi (399/780). Average speed: 0.09 s/mol.\n",
      "Processing CHEMBL210308 in molecule.smi (400/780). Average speed: 0.09 s/mol.\n",
      "Processing CHEMBL210329 in molecule.smi (401/780). Average speed: 0.09 s/mol.\n",
      "Processing CHEMBL210355 in molecule.smi (402/780). Average speed: 0.09 s/mol.\n",
      "Processing CHEMBL210359 in molecule.smi (403/780). Average speed: 0.09 s/mol.\n",
      "Processing CHEMBL210368 in molecule.smi (404/780). Average speed: 0.09 s/mol.\n",
      "Processing CHEMBL210420 in molecule.smi (405/780). Average speed: 0.09 s/mol.\n",
      "Processing CHEMBL210425 in molecule.smi (406/780). Average speed: 0.09 s/mol.\n",
      "Processing CHEMBL210477 in molecule.smi (407/780). Average speed: 0.09 s/mol.\n",
      "Processing CHEMBL210486 in molecule.smi (408/780). Average speed: 0.09 s/mol.\n",
      "Processing CHEMBL2105709 in molecule.smi (409/780). Average speed: 0.09 s/mol.\n",
      "Processing CHEMBL210601 in molecule.smi (410/780). Average speed: 0.09 s/mol.\n",
      "Processing CHEMBL210832 in molecule.smi (411/780). Average speed: 0.09 s/mol.\n",
      "Processing CHEMBL210860 in molecule.smi (412/780). Average speed: 0.09 s/mol.\n",
      "Processing CHEMBL210907 in molecule.smi (413/780). Average speed: 0.09 s/mol.\n",
      "Processing CHEMBL210956 in molecule.smi (414/780). Average speed: 0.09 s/mol.\n",
      "Processing CHEMBL210960 in molecule.smi (415/780). Average speed: 0.09 s/mol.\n",
      "Processing CHEMBL210989 in molecule.smi (416/780). Average speed: 0.09 s/mol.\n",
      "Processing CHEMBL211020 in molecule.smi (417/780). Average speed: 0.09 s/mol.\n",
      "Processing CHEMBL2147845 in molecule.smi (418/780). Average speed: 0.09 s/mol.\n",
      "Processing CHEMBL2151321 in molecule.smi (419/780). Average speed: 0.09 s/mol.\n",
      "Processing CHEMBL215152 in molecule.smi (420/780). Average speed: 0.09 s/mol.\n",
      "Processing CHEMBL2158227 in molecule.smi (421/780). Average speed: 0.09 s/mol.\n",
      "Processing CHEMBL2158230 in molecule.smi (422/780). Average speed: 0.09 s/mol.\n",
      "Processing CHEMBL2180602 in molecule.smi (423/780). Average speed: 0.09 s/mol.\n",
      "Processing CHEMBL2180878 in molecule.smi (424/780). Average speed: 0.09 s/mol.\n"
     ]
    },
    {
     "name": "stdout",
     "output_type": "stream",
     "text": [
      "Processing CHEMBL2180882 in molecule.smi (425/780). Average speed: 0.09 s/mol.\n",
      "Processing CHEMBL2181082 in molecule.smi (426/780). Average speed: 0.09 s/mol.\n",
      "Processing CHEMBL2181083 in molecule.smi (427/780). Average speed: 0.09 s/mol.\n",
      "Processing CHEMBL2181084 in molecule.smi (428/780). Average speed: 0.09 s/mol.\n",
      "Processing CHEMBL2181085 in molecule.smi (429/780). Average speed: 0.09 s/mol.\n",
      "Processing CHEMBL2181086 in molecule.smi (430/780). Average speed: 0.09 s/mol.\n",
      "Processing CHEMBL2181087 in molecule.smi (431/780). Average speed: 0.09 s/mol.\n",
      "Processing CHEMBL2181088 in molecule.smi (432/780). Average speed: 0.09 s/mol.\n",
      "Processing CHEMBL2181310 in molecule.smi (433/780). Average speed: 0.09 s/mol.\n",
      "Processing CHEMBL2181311 in molecule.smi (434/780). Average speed: 0.09 s/mol.\n",
      "Processing CHEMBL2181312 in molecule.smi (435/780). Average speed: 0.09 s/mol.\n",
      "Processing CHEMBL2181313 in molecule.smi (436/780). Average speed: 0.09 s/mol.\n",
      "Processing CHEMBL2181314 in molecule.smi (437/780). Average speed: 0.09 s/mol.\n",
      "Processing CHEMBL2181316 in molecule.smi (438/780). Average speed: 0.09 s/mol.\n",
      "Processing CHEMBL2181317 in molecule.smi (439/780). Average speed: 0.09 s/mol.\n",
      "Processing CHEMBL2181318 in molecule.smi (440/780). Average speed: 0.09 s/mol.\n",
      "Processing CHEMBL2181319 in molecule.smi (441/780). Average speed: 0.09 s/mol.\n",
      "Processing CHEMBL2181321 in molecule.smi (443/780). Average speed: 0.09 s/mol.\n",
      "Processing CHEMBL2181320 in molecule.smi (442/780). Average speed: 0.09 s/mol.\n",
      "Processing CHEMBL2181322 in molecule.smi (444/780). Average speed: 0.09 s/mol.\n",
      "Processing CHEMBL2181323 in molecule.smi (445/780). Average speed: 0.09 s/mol.\n",
      "Processing CHEMBL2181324 in molecule.smi (446/780). Average speed: 0.09 s/mol.\n",
      "Processing CHEMBL2181325 in molecule.smi (447/780). Average speed: 0.09 s/mol.\n",
      "Processing CHEMBL2181326 in molecule.smi (448/780). Average speed: 0.09 s/mol.\n",
      "Processing CHEMBL2181327 in molecule.smi (449/780). Average speed: 0.09 s/mol.\n",
      "Processing CHEMBL2181328 in molecule.smi (450/780). Average speed: 0.09 s/mol.\n",
      "Processing CHEMBL2181329 in molecule.smi (451/780). Average speed: 0.09 s/mol.\n",
      "Processing CHEMBL2181331 in molecule.smi (452/780). Average speed: 0.09 s/mol.\n",
      "Processing CHEMBL2181332 in molecule.smi (453/780). Average speed: 0.09 s/mol.\n",
      "Processing CHEMBL219722 in molecule.smi (454/780). Average speed: 0.09 s/mol.\n",
      "Processing CHEMBL219727 in molecule.smi (455/780). Average speed: 0.09 s/mol.\n",
      "Processing CHEMBL219774 in molecule.smi (456/780). Average speed: 0.09 s/mol.\n",
      "Processing CHEMBL219998 in molecule.smi (457/780). Average speed: 0.09 s/mol.\n",
      "Processing CHEMBL219999 in molecule.smi (458/780). Average speed: 0.09 s/mol.\n",
      "Processing CHEMBL220049 in molecule.smi (459/780). Average speed: 0.09 s/mol.\n",
      "Processing CHEMBL220057 in molecule.smi (460/780). Average speed: 0.09 s/mol.\n",
      "Processing CHEMBL2206008 in molecule.smi (462/780). Average speed: 0.09 s/mol.\n",
      "Processing CHEMBL2203434 in molecule.smi (461/780). Average speed: 0.09 s/mol.\n",
      "Processing CHEMBL2206013 in molecule.smi (463/780). Average speed: 0.09 s/mol.\n",
      "Processing CHEMBL2206015 in molecule.smi (464/780). Average speed: 0.09 s/mol.\n",
      "Processing CHEMBL2206017 in molecule.smi (465/780). Average speed: 0.09 s/mol.\n",
      "Processing CHEMBL2206277 in molecule.smi (466/780). Average speed: 0.09 s/mol.\n",
      "Processing CHEMBL2206278 in molecule.smi (467/780). Average speed: 0.09 s/mol.\n",
      "Processing CHEMBL2208034 in molecule.smi (468/780). Average speed: 0.09 s/mol.\n",
      "Processing CHEMBL221053 in molecule.smi (469/780). Average speed: 0.09 s/mol.\n",
      "Processing CHEMBL222315 in molecule.smi (470/780). Average speed: 0.09 s/mol.\n",
      "Processing CHEMBL222728 in molecule.smi (471/780). Average speed: 0.09 s/mol.\n",
      "Processing CHEMBL222778 in molecule.smi (472/780). Average speed: 0.09 s/mol.\n",
      "Processing CHEMBL223147 in molecule.smi (473/780). Average speed: 0.08 s/mol.\n",
      "Processing CHEMBL223185 in molecule.smi (474/780). Average speed: 0.09 s/mol.\n",
      "Processing CHEMBL223236 in molecule.smi (475/780). Average speed: 0.09 s/mol.\n",
      "Processing CHEMBL223237 in molecule.smi (476/780). Average speed: 0.09 s/mol.\n",
      "Processing CHEMBL223304 in molecule.smi (477/780). Average speed: 0.09 s/mol.\n",
      "Processing CHEMBL223360 in molecule.smi (478/780). Average speed: 0.09 s/mol.\n",
      "Processing CHEMBL223361 in molecule.smi (479/780). Average speed: 0.08 s/mol.\n",
      "Processing CHEMBL223478 in molecule.smi (480/780). Average speed: 0.09 s/mol.\n",
      "Processing CHEMBL223528 in molecule.smi (481/780). Average speed: 0.08 s/mol.\n",
      "Processing CHEMBL223572 in molecule.smi (482/780). Average speed: 0.09 s/mol.\n",
      "Processing CHEMBL223583 in molecule.smi (483/780). Average speed: 0.09 s/mol.\n",
      "Processing CHEMBL223790 in molecule.smi (484/780). Average speed: 0.09 s/mol.\n",
      "Processing CHEMBL223971 in molecule.smi (485/780). Average speed: 0.09 s/mol.\n",
      "Processing CHEMBL225825 in molecule.smi (487/780). Average speed: 0.08 s/mol.\n",
      "Processing CHEMBL225772 in molecule.smi (486/780). Average speed: 0.08 s/mol.\n",
      "Processing CHEMBL226131 in molecule.smi (488/780). Average speed: 0.08 s/mol.\n",
      "Processing CHEMBL226183 in molecule.smi (489/780). Average speed: 0.08 s/mol.\n",
      "Processing CHEMBL2311806 in molecule.smi (491/780). Average speed: 0.09 s/mol.\n",
      "Processing CHEMBL226184 in molecule.smi (490/780). Average speed: 0.09 s/mol.\n",
      "Processing CHEMBL2311807 in molecule.smi (492/780). Average speed: 0.08 s/mol.\n",
      "Processing CHEMBL2311808 in molecule.smi (493/780). Average speed: 0.08 s/mol.\n",
      "Processing CHEMBL2322135 in molecule.smi (495/780). Average speed: 0.08 s/mol.\n",
      "Processing CHEMBL2322134 in molecule.smi (494/780). Average speed: 0.08 s/mol.\n",
      "Processing CHEMBL2322136 in molecule.smi (496/780). Average speed: 0.08 s/mol.\n",
      "Processing CHEMBL2322140 in molecule.smi (497/780). Average speed: 0.08 s/mol.\n",
      "Processing CHEMBL2322141 in molecule.smi (498/780). Average speed: 0.08 s/mol.\n",
      "Processing CHEMBL2322142 in molecule.smi (499/780). Average speed: 0.08 s/mol.\n",
      "Processing CHEMBL2322143 in molecule.smi (500/780). Average speed: 0.08 s/mol.\n",
      "Processing CHEMBL2331570 in molecule.smi (501/780). Average speed: 0.08 s/mol.\n",
      "Processing CHEMBL2332840 in molecule.smi (502/780). Average speed: 0.08 s/mol.\n",
      "Processing CHEMBL2332844 in molecule.smi (503/780). Average speed: 0.08 s/mol.\n",
      "Processing CHEMBL2332846 in molecule.smi (504/780). Average speed: 0.08 s/mol.\n",
      "Processing CHEMBL2332847 in molecule.smi (505/780). Average speed: 0.08 s/mol.\n",
      "Processing CHEMBL2332848 in molecule.smi (506/780). Average speed: 0.08 s/mol.\n",
      "Processing CHEMBL2332851 in molecule.smi (508/780). Average speed: 0.08 s/mol.\n",
      "Processing CHEMBL2332849 in molecule.smi (507/780). Average speed: 0.08 s/mol.\n",
      "Processing CHEMBL2332854 in molecule.smi (509/780). Average speed: 0.08 s/mol.\n",
      "Processing CHEMBL2332855 in molecule.smi (510/780). Average speed: 0.08 s/mol.\n",
      "Processing CHEMBL2332858 in molecule.smi (512/780). Average speed: 0.08 s/mol.\n",
      "Processing CHEMBL2332857 in molecule.smi (511/780). Average speed: 0.08 s/mol.\n",
      "Processing CHEMBL2332859 in molecule.smi (513/780). Average speed: 0.08 s/mol.\n",
      "Processing CHEMBL2332860 in molecule.smi (514/780). Average speed: 0.08 s/mol.\n",
      "Processing CHEMBL2332864 in molecule.smi (516/780). Average speed: 0.08 s/mol.\n",
      "Processing CHEMBL2332861 in molecule.smi (515/780). Average speed: 0.08 s/mol.\n",
      "Processing CHEMBL2332865 in molecule.smi (517/780). Average speed: 0.08 s/mol.\n",
      "Processing CHEMBL2332866 in molecule.smi (518/780). Average speed: 0.08 s/mol.\n",
      "Processing CHEMBL2332868 in molecule.smi (520/780). Average speed: 0.08 s/mol.\n",
      "Processing CHEMBL2332867 in molecule.smi (519/780). Average speed: 0.08 s/mol.\n",
      "Processing CHEMBL2332869 in molecule.smi (521/780). Average speed: 0.08 s/mol.\n",
      "Processing CHEMBL2332870 in molecule.smi (522/780). Average speed: 0.08 s/mol.\n",
      "Processing CHEMBL2332871 in molecule.smi (523/780). Average speed: 0.08 s/mol.\n",
      "Processing CHEMBL2337336 in molecule.smi (525/780). Average speed: 0.08 s/mol.\n",
      "Processing CHEMBL2337335 in molecule.smi (524/780). Average speed: 0.08 s/mol.\n",
      "Processing CHEMBL234985 in molecule.smi (526/780). Average speed: 0.08 s/mol.\n",
      "Processing CHEMBL235008 in molecule.smi (527/780). Average speed: 0.08 s/mol.\n",
      "Processing CHEMBL237338 in molecule.smi (528/780). Average speed: 0.08 s/mol.\n",
      "Processing CHEMBL237339 in molecule.smi (529/780). Average speed: 0.08 s/mol.\n",
      "Processing CHEMBL237340 in molecule.smi (530/780). Average speed: 0.08 s/mol.\n"
     ]
    },
    {
     "name": "stdout",
     "output_type": "stream",
     "text": [
      "Processing CHEMBL237551 in molecule.smi (531/780). Average speed: 0.08 s/mol.\n",
      "Processing CHEMBL237552 in molecule.smi (532/780). Average speed: 0.08 s/mol.\n",
      "Processing CHEMBL237553 in molecule.smi (533/780). Average speed: 0.08 s/mol.\n",
      "Processing CHEMBL237767 in molecule.smi (535/780). Average speed: 0.08 s/mol.\n",
      "Processing CHEMBL237570 in molecule.smi (534/780). Average speed: 0.08 s/mol.\n",
      "Processing CHEMBL238010 in molecule.smi (536/780). Average speed: 0.08 s/mol.\n",
      "Processing CHEMBL238222 in molecule.smi (537/780). Average speed: 0.08 s/mol.\n",
      "Processing CHEMBL238223 in molecule.smi (538/780). Average speed: 0.08 s/mol.\n",
      "Processing CHEMBL238224 in molecule.smi (539/780). Average speed: 0.08 s/mol.\n",
      "Processing CHEMBL2385195 in molecule.smi (540/780). Average speed: 0.08 s/mol.\n",
      "Processing CHEMBL2385543 in molecule.smi (541/780). Average speed: 0.08 s/mol.\n",
      "Processing CHEMBL2386788 in molecule.smi (542/780). Average speed: 0.08 s/mol.\n",
      "Processing CHEMBL2386789 in molecule.smi (543/780). Average speed: 0.08 s/mol.\n",
      "Processing CHEMBL2386790 in molecule.smi (544/780). Average speed: 0.08 s/mol.\n",
      "Processing CHEMBL2386791 in molecule.smi (545/780). Average speed: 0.08 s/mol.\n",
      "Processing CHEMBL2386792 in molecule.smi (546/780). Average speed: 0.08 s/mol.\n",
      "Processing CHEMBL2386793 in molecule.smi (547/780). Average speed: 0.08 s/mol.\n",
      "Processing CHEMBL2386794 in molecule.smi (548/780). Average speed: 0.08 s/mol.\n",
      "Processing CHEMBL2386795 in molecule.smi (549/780). Average speed: 0.08 s/mol.\n",
      "Processing CHEMBL2386797 in molecule.smi (551/780). Average speed: 0.08 s/mol.\n",
      "Processing CHEMBL2386796 in molecule.smi (550/780). Average speed: 0.08 s/mol.\n",
      "Processing CHEMBL2386798 in molecule.smi (552/780). Average speed: 0.08 s/mol.\n",
      "Processing CHEMBL2386799 in molecule.smi (553/780). Average speed: 0.08 s/mol.\n",
      "Processing CHEMBL2386800 in molecule.smi (554/780). Average speed: 0.08 s/mol.\n",
      "Processing CHEMBL2386801 in molecule.smi (555/780). Average speed: 0.08 s/mol.\n",
      "Processing CHEMBL2386802 in molecule.smi (556/780). Average speed: 0.08 s/mol.\n",
      "Processing CHEMBL2386803 in molecule.smi (557/780). Average speed: 0.08 s/mol.\n",
      "Processing CHEMBL2386804 in molecule.smi (558/780). Average speed: 0.08 s/mol.\n",
      "Processing CHEMBL2386805 in molecule.smi (559/780). Average speed: 0.08 s/mol.\n",
      "Processing CHEMBL2386806 in molecule.smi (560/780). Average speed: 0.08 s/mol.\n",
      "Processing CHEMBL2386807 in molecule.smi (561/780). Average speed: 0.08 s/mol.\n",
      "Processing CHEMBL2386808 in molecule.smi (562/780). Average speed: 0.08 s/mol.\n",
      "Processing CHEMBL2386810 in molecule.smi (564/780). Average speed: 0.08 s/mol.\n",
      "Processing CHEMBL2386809 in molecule.smi (563/780). Average speed: 0.08 s/mol.\n",
      "Processing CHEMBL2386812 in molecule.smi (565/780). Average speed: 0.08 s/mol.\n",
      "Processing CHEMBL2386813 in molecule.smi (566/780). Average speed: 0.08 s/mol.\n",
      "Processing CHEMBL2386814 in molecule.smi (567/780). Average speed: 0.08 s/mol.\n",
      "Processing CHEMBL2386815 in molecule.smi (568/780). Average speed: 0.08 s/mol.\n",
      "Processing CHEMBL2386816 in molecule.smi (569/780). Average speed: 0.08 s/mol.\n",
      "Processing CHEMBL2386817 in molecule.smi (570/780). Average speed: 0.08 s/mol.\n",
      "Processing CHEMBL2386818 in molecule.smi (571/780). Average speed: 0.08 s/mol.\n",
      "Processing CHEMBL2407900 in molecule.smi (572/780). Average speed: 0.08 s/mol.\n",
      "Processing CHEMBL2419669 in molecule.smi (573/780). Average speed: 0.08 s/mol.\n",
      "Processing CHEMBL2435999 in molecule.smi (574/780). Average speed: 0.08 s/mol.\n",
      "Processing CHEMBL2436172 in molecule.smi (575/780). Average speed: 0.08 s/mol.\n",
      "Processing CHEMBL2436977 in molecule.smi (576/780). Average speed: 0.08 s/mol.\n",
      "Processing CHEMBL2436978 in molecule.smi (577/780). Average speed: 0.08 s/mol.\n",
      "Processing CHEMBL245377 in molecule.smi (578/780). Average speed: 0.08 s/mol.\n",
      "Processing CHEMBL245769 in molecule.smi (579/780). Average speed: 0.08 s/mol.\n",
      "Processing CHEMBL245968 in molecule.smi (580/780). Average speed: 0.08 s/mol.\n",
      "Processing CHEMBL246166 in molecule.smi (581/780). Average speed: 0.08 s/mol.\n",
      "Processing CHEMBL248557 in molecule.smi (582/780). Average speed: 0.08 s/mol.\n",
      "Processing CHEMBL250450 in molecule.smi (583/780). Average speed: 0.08 s/mol.\n",
      "Processing CHEMBL253292 in molecule.smi (585/780). Average speed: 0.08 s/mol.\n",
      "Processing CHEMBL253116 in molecule.smi (584/780). Average speed: 0.08 s/mol.\n",
      "Processing CHEMBL254702 in molecule.smi (586/780). Average speed: 0.08 s/mol.\n",
      "Processing CHEMBL255955 in molecule.smi (587/780). Average speed: 0.08 s/mol.\n",
      "Processing CHEMBL256893 in molecule.smi (588/780). Average speed: 0.08 s/mol.\n",
      "Processing CHEMBL259013 in molecule.smi (589/780). Average speed: 0.08 s/mol.\n",
      "Processing CHEMBL260092 in molecule.smi (590/780). Average speed: 0.08 s/mol.\n",
      "Processing CHEMBL260305 in molecule.smi (591/780). Average speed: 0.08 s/mol.\n",
      "Processing CHEMBL260307 in molecule.smi (592/780). Average speed: 0.08 s/mol.\n",
      "Processing CHEMBL260848 in molecule.smi (593/780). Average speed: 0.08 s/mol.\n",
      "Processing CHEMBL261849 in molecule.smi (594/780). Average speed: 0.08 s/mol.\n",
      "Processing CHEMBL262468 in molecule.smi (595/780). Average speed: 0.08 s/mol.\n",
      "Processing CHEMBL269594 in molecule.smi (597/780). Average speed: 0.08 s/mol.\n",
      "Processing CHEMBL262607 in molecule.smi (596/780). Average speed: 0.08 s/mol.\n",
      "Processing CHEMBL269884 in molecule.smi (598/780). Average speed: 0.08 s/mol.\n",
      "Processing CHEMBL270070 in molecule.smi (599/780). Average speed: 0.08 s/mol.\n",
      "Processing CHEMBL270084 in molecule.smi (600/780). Average speed: 0.08 s/mol.\n",
      "Processing CHEMBL270489 in molecule.smi (601/780). Average speed: 0.08 s/mol.\n",
      "Processing CHEMBL270506 in molecule.smi (602/780). Average speed: 0.08 s/mol.\n",
      "Processing CHEMBL271170 in molecule.smi (603/780). Average speed: 0.08 s/mol.\n",
      "Processing CHEMBL271381 in molecule.smi (604/780). Average speed: 0.08 s/mol.\n",
      "Processing CHEMBL271386 in molecule.smi (605/780). Average speed: 0.08 s/mol.\n",
      "Processing CHEMBL271600 in molecule.smi (606/780). Average speed: 0.08 s/mol.\n",
      "Processing CHEMBL271796 in molecule.smi (607/780). Average speed: 0.08 s/mol.\n",
      "Processing CHEMBL271955 in molecule.smi (608/780). Average speed: 0.08 s/mol.\n",
      "Processing CHEMBL272183 in molecule.smi (609/780). Average speed: 0.08 s/mol.\n",
      "Processing CHEMBL272453 in molecule.smi (610/780). Average speed: 0.08 s/mol.\n",
      "Processing CHEMBL272645 in molecule.smi (611/780). Average speed: 0.08 s/mol.\n",
      "Processing CHEMBL273048 in molecule.smi (612/780). Average speed: 0.08 s/mol.\n",
      "Processing CHEMBL273077 in molecule.smi (613/780). Average speed: 0.08 s/mol.\n",
      "Processing CHEMBL273198 in molecule.smi (614/780). Average speed: 0.08 s/mol.\n",
      "Processing CHEMBL276711 in molecule.smi (615/780). Average speed: 0.08 s/mol.\n",
      "Processing CHEMBL309490 in molecule.smi (616/780). Average speed: 0.08 s/mol.\n",
      "Processing CHEMBL323336 in molecule.smi (618/780). Average speed: 0.08 s/mol.\n",
      "Processing CHEMBL319894 in molecule.smi (617/780). Average speed: 0.08 s/mol.\n",
      "Processing CHEMBL324153 in molecule.smi (619/780). Average speed: 0.08 s/mol.\n",
      "Processing CHEMBL330863 in molecule.smi (620/780). Average speed: 0.08 s/mol.\n",
      "Processing CHEMBL337300 in molecule.smi (621/780). Average speed: 0.08 s/mol.\n",
      "Processing CHEMBL367113 in molecule.smi (622/780). Average speed: 0.08 s/mol.\n",
      "Processing CHEMBL367345 in molecule.smi (623/780). Average speed: 0.08 s/mol.\n",
      "Processing CHEMBL368689 in molecule.smi (624/780). Average speed: 0.08 s/mol.\n",
      "Processing CHEMBL369303 in molecule.smi (625/780). Average speed: 0.08 s/mol.\n",
      "Processing CHEMBL370545 in molecule.smi (626/780). Average speed: 0.08 s/mol.\n",
      "Processing CHEMBL370800 in molecule.smi (627/780). Average speed: 0.08 s/mol.\n",
      "Processing CHEMBL371332 in molecule.smi (628/780). Average speed: 0.08 s/mol.\n",
      "Processing CHEMBL371510 in molecule.smi (629/780). Average speed: 0.08 s/mol.\n",
      "Processing CHEMBL372111 in molecule.smi (630/780). Average speed: 0.08 s/mol.\n",
      "Processing CHEMBL373798 in molecule.smi (631/780). Average speed: 0.08 s/mol.\n",
      "Processing CHEMBL373845 in molecule.smi (632/780). Average speed: 0.08 s/mol.\n",
      "Processing CHEMBL374044 in molecule.smi (633/780). Average speed: 0.08 s/mol.\n",
      "Processing CHEMBL374330 in molecule.smi (634/780). Average speed: 0.08 s/mol.\n",
      "Processing CHEMBL374752 in molecule.smi (635/780). Average speed: 0.08 s/mol.\n"
     ]
    },
    {
     "name": "stdout",
     "output_type": "stream",
     "text": [
      "Processing CHEMBL375670 in molecule.smi (636/780). Average speed: 0.08 s/mol.\n",
      "Processing CHEMBL376077 in molecule.smi (637/780). Average speed: 0.08 s/mol.\n",
      "Processing CHEMBL376245 in molecule.smi (638/780). Average speed: 0.08 s/mol.\n",
      "Processing CHEMBL376307 in molecule.smi (639/780). Average speed: 0.08 s/mol.\n",
      "Processing CHEMBL376787 in molecule.smi (640/780). Average speed: 0.08 s/mol.\n",
      "Processing CHEMBL377193 in molecule.smi (641/780). Average speed: 0.08 s/mol.\n",
      "Processing CHEMBL377335 in molecule.smi (642/780). Average speed: 0.08 s/mol.\n",
      "Processing CHEMBL377652 in molecule.smi (644/780). Average speed: 0.08 s/mol.\n",
      "Processing CHEMBL377567 in molecule.smi (643/780). Average speed: 0.08 s/mol.\n",
      "Processing CHEMBL378133 in molecule.smi (645/780). Average speed: 0.08 s/mol.\n",
      "Processing CHEMBL378477 in molecule.smi (646/780). Average speed: 0.08 s/mol.\n",
      "Processing CHEMBL378924 in molecule.smi (647/780). Average speed: 0.08 s/mol.\n",
      "Processing CHEMBL379087 in molecule.smi (648/780). Average speed: 0.08 s/mol.\n",
      "Processing CHEMBL379331 in molecule.smi (649/780). Average speed: 0.08 s/mol.\n",
      "Processing CHEMBL380038 in molecule.smi (650/780). Average speed: 0.08 s/mol.\n",
      "Processing CHEMBL380184 in molecule.smi (651/780). Average speed: 0.08 s/mol.\n",
      "Processing CHEMBL381207 in molecule.smi (652/780). Average speed: 0.08 s/mol.\n",
      "Processing CHEMBL381997 in molecule.smi (654/780). Average speed: 0.08 s/mol.\n",
      "Processing CHEMBL381738 in molecule.smi (653/780). Average speed: 0.08 s/mol.\n",
      "Processing CHEMBL382490 in molecule.smi (655/780). Average speed: 0.08 s/mol.\n",
      "Processing CHEMBL383276 in molecule.smi (656/780). Average speed: 0.08 s/mol.\n",
      "Processing CHEMBL387312 in molecule.smi (657/780). Average speed: 0.08 s/mol.\n",
      "Processing CHEMBL388978 in molecule.smi (658/780). Average speed: 0.08 s/mol.\n",
      "Processing CHEMBL389233 in molecule.smi (659/780). Average speed: 0.08 s/mol.\n",
      "Processing CHEMBL389234 in molecule.smi (660/780). Average speed: 0.08 s/mol.\n",
      "Processing CHEMBL389745 in molecule.smi (661/780). Average speed: 0.08 s/mol.\n",
      "Processing CHEMBL390156 in molecule.smi (662/780). Average speed: 0.08 s/mol.\n",
      "Processing CHEMBL391368 in molecule.smi (663/780). Average speed: 0.08 s/mol.\n",
      "Processing CHEMBL391684 in molecule.smi (664/780). Average speed: 0.08 s/mol.\n",
      "Processing CHEMBL392111 in molecule.smi (665/780). Average speed: 0.08 s/mol.\n",
      "Processing CHEMBL393822 in molecule.smi (666/780). Average speed: 0.08 s/mol.\n",
      "Processing CHEMBL395080 in molecule.smi (667/780). Average speed: 0.08 s/mol.\n",
      "Processing CHEMBL398610 in molecule.smi (668/780). Average speed: 0.08 s/mol.\n",
      "Processing CHEMBL401046 in molecule.smi (669/780). Average speed: 0.08 s/mol.\n",
      "Processing CHEMBL402548 in molecule.smi (670/780). Average speed: 0.08 s/mol.\n",
      "Processing CHEMBL403661 in molecule.smi (671/780). Average speed: 0.08 s/mol.\n",
      "Processing CHEMBL403706 in molecule.smi (672/780). Average speed: 0.08 s/mol.\n",
      "Processing CHEMBL403776 in molecule.smi (673/780). Average speed: 0.08 s/mol.\n",
      "Processing CHEMBL404367 in molecule.smi (674/780). Average speed: 0.08 s/mol.\n",
      "Processing CHEMBL405370 in molecule.smi (675/780). Average speed: 0.08 s/mol.\n",
      "Processing CHEMBL406375 in molecule.smi (676/780). Average speed: 0.08 s/mol.\n",
      "Processing CHEMBL406404 in molecule.smi (677/780). Average speed: 0.08 s/mol.\n",
      "Processing CHEMBL407485 in molecule.smi (679/780). Average speed: 0.08 s/mol.\n",
      "Processing CHEMBL406660 in molecule.smi (678/780). Average speed: 0.08 s/mol.\n",
      "Processing CHEMBL408995 in molecule.smi (680/780). Average speed: 0.08 s/mol.\n",
      "Processing CHEMBL409349 in molecule.smi (681/780). Average speed: 0.08 s/mol.\n",
      "Processing CHEMBL409872 in molecule.smi (682/780). Average speed: 0.08 s/mol.\n",
      "Processing CHEMBL409912 in molecule.smi (683/780). Average speed: 0.08 s/mol.\n",
      "Processing CHEMBL410130 in molecule.smi (684/780). Average speed: 0.08 s/mol.\n",
      "Processing CHEMBL410504 in molecule.smi (685/780). Average speed: 0.08 s/mol.\n",
      "Processing CHEMBL410659 in molecule.smi (686/780). Average speed: 0.08 s/mol.\n",
      "Processing CHEMBL410663 in molecule.smi (687/780). Average speed: 0.08 s/mol.\n",
      "Processing CHEMBL410731 in molecule.smi (688/780). Average speed: 0.08 s/mol.\n",
      "Processing CHEMBL411725 in molecule.smi (689/780). Average speed: 0.08 s/mol.\n",
      "Processing CHEMBL411903 in molecule.smi (690/780). Average speed: 0.08 s/mol.\n",
      "Processing CHEMBL412102 in molecule.smi (691/780). Average speed: 0.08 s/mol.\n",
      "Processing CHEMBL424943 in molecule.smi (693/780). Average speed: 0.08 s/mol.\n",
      "Processing CHEMBL414001 in molecule.smi (692/780). Average speed: 0.08 s/mol.\n",
      "Processing CHEMBL425749 in molecule.smi (694/780). Average speed: 0.08 s/mol.\n",
      "Processing CHEMBL426004 in molecule.smi (695/780). Average speed: 0.08 s/mol.\n",
      "Processing CHEMBL426687 in molecule.smi (696/780). Average speed: 0.08 s/mol.\n",
      "Processing CHEMBL426887 in molecule.smi (697/780). Average speed: 0.08 s/mol.\n",
      "Processing CHEMBL428380 in molecule.smi (698/780). Average speed: 0.08 s/mol.\n",
      "Processing CHEMBL429516 in molecule.smi (699/780). Average speed: 0.08 s/mol.\n",
      "Processing CHEMBL430090 in molecule.smi (700/780). Average speed: 0.08 s/mol.\n",
      "Processing CHEMBL437331 in molecule.smi (701/780). Average speed: 0.08 s/mol.\n",
      "Processing CHEMBL438653 in molecule.smi (702/780). Average speed: 0.08 s/mol.\n",
      "Processing CHEMBL441682 in molecule.smi (703/780). Average speed: 0.08 s/mol.\n",
      "Processing CHEMBL444064 in molecule.smi (704/780). Average speed: 0.08 s/mol.\n",
      "Processing CHEMBL452965 in molecule.smi (705/780). Average speed: 0.08 s/mol.\n",
      "Processing CHEMBL453336 in molecule.smi (707/780). Average speed: 0.08 s/mol.\n",
      "Processing CHEMBL453057 in molecule.smi (706/780). Average speed: 0.08 s/mol.\n",
      "Processing CHEMBL460472 in molecule.smi (708/780). Average speed: 0.08 s/mol.\n",
      "Processing CHEMBL460702 in molecule.smi (709/780). Average speed: 0.08 s/mol.\n",
      "Processing CHEMBL463054 in molecule.smi (710/780). Average speed: 0.08 s/mol.\n",
      "Processing CHEMBL470163 in molecule.smi (711/780). Average speed: 0.08 s/mol.\n",
      "Processing CHEMBL470387 in molecule.smi (712/780). Average speed: 0.08 s/mol.\n",
      "Processing CHEMBL471020 in molecule.smi (713/780). Average speed: 0.08 s/mol.\n",
      "Processing CHEMBL471021 in molecule.smi (714/780). Average speed: 0.08 s/mol.\n",
      "Processing CHEMBL471222 in molecule.smi (715/780). Average speed: 0.08 s/mol.\n",
      "Processing CHEMBL478629 in molecule.smi (716/780). Average speed: 0.08 s/mol.\n",
      "Processing CHEMBL482967 in molecule.smi (717/780). Average speed: 0.08 s/mol.\n",
      "Processing CHEMBL482968 in molecule.smi (718/780). Average speed: 0.08 s/mol.\n",
      "Processing CHEMBL483525 in molecule.smi (719/780). Average speed: 0.08 s/mol.\n",
      "Processing CHEMBL483526 in molecule.smi (720/780). Average speed: 0.08 s/mol.\n",
      "Processing CHEMBL483531 in molecule.smi (721/780). Average speed: 0.08 s/mol.\n",
      "Processing CHEMBL483532 in molecule.smi (722/780). Average speed: 0.08 s/mol.\n",
      "Processing CHEMBL486437 in molecule.smi (723/780). Average speed: 0.08 s/mol.\n",
      "Processing CHEMBL486948 in molecule.smi (724/780). Average speed: 0.08 s/mol.\n",
      "Processing CHEMBL486949 in molecule.smi (725/780). Average speed: 0.08 s/mol.\n",
      "Processing CHEMBL486968 in molecule.smi (726/780). Average speed: 0.08 s/mol.\n",
      "Processing CHEMBL487148 in molecule.smi (727/780). Average speed: 0.08 s/mol.\n",
      "Processing CHEMBL488646 in molecule.smi (728/780). Average speed: 0.08 s/mol.\n",
      "Processing CHEMBL492809 in molecule.smi (729/780). Average speed: 0.08 s/mol.\n",
      "Processing CHEMBL495727 in molecule.smi (730/780). Average speed: 0.08 s/mol.\n",
      "Processing CHEMBL50 in molecule.smi (731/780). Average speed: 0.08 s/mol.\n",
      "Processing CHEMBL502835 in molecule.smi (732/780). Average speed: 0.08 s/mol.\n",
      "Processing CHEMBL504574 in molecule.smi (733/780). Average speed: 0.08 s/mol.\n",
      "Processing CHEMBL505253 in molecule.smi (734/780). Average speed: 0.08 s/mol.\n",
      "Processing CHEMBL505830 in molecule.smi (735/780). Average speed: 0.08 s/mol.\n",
      "Processing CHEMBL507056 in molecule.smi (736/780). Average speed: 0.08 s/mol.\n",
      "Processing CHEMBL507058 in molecule.smi (737/780). Average speed: 0.08 s/mol.\n",
      "Processing CHEMBL509101 in molecule.smi (738/780). Average speed: 0.08 s/mol.\n",
      "Processing CHEMBL511131 in molecule.smi (739/780). Average speed: 0.08 s/mol.\n",
      "Processing CHEMBL511450 in molecule.smi (740/780). Average speed: 0.08 s/mol.\n",
      "Processing CHEMBL512054 in molecule.smi (741/780). Average speed: 0.08 s/mol.\n",
      "Processing CHEMBL519395 in molecule.smi (742/780). Average speed: 0.08 s/mol.\n"
     ]
    },
    {
     "name": "stdout",
     "output_type": "stream",
     "text": [
      "Processing CHEMBL519982 in molecule.smi (744/780). Average speed: 0.08 s/mol.\n",
      "Processing CHEMBL519590 in molecule.smi (743/780). Average speed: 0.08 s/mol.\n",
      "Processing CHEMBL520144 in molecule.smi (745/780). Average speed: 0.08 s/mol.\n",
      "Processing CHEMBL520717 in molecule.smi (746/780). Average speed: 0.08 s/mol.\n",
      "Processing CHEMBL521470 in molecule.smi (747/780). Average speed: 0.08 s/mol.\n",
      "Processing CHEMBL522892 in molecule.smi (748/780). Average speed: 0.08 s/mol.\n",
      "Processing CHEMBL55415 in molecule.smi (750/780). Average speed: 0.08 s/mol.\n",
      "Processing CHEMBL535 in molecule.smi (749/780). Average speed: 0.08 s/mol.\n",
      "Processing CHEMBL554993 in molecule.smi (751/780). Average speed: 0.08 s/mol.\n",
      "Processing CHEMBL556684 in molecule.smi (752/780). Average speed: 0.08 s/mol.\n",
      "Processing CHEMBL569880 in molecule.smi (753/780). Average speed: 0.08 s/mol.\n",
      "Processing CHEMBL571040 in molecule.smi (754/780). Average speed: 0.08 s/mol.\n",
      "Processing CHEMBL572878 in molecule.smi (755/780). Average speed: 0.08 s/mol.\n",
      "Processing CHEMBL574738 in molecule.smi (756/780). Average speed: 0.08 s/mol.\n",
      "Processing CHEMBL576982 in molecule.smi (757/780). Average speed: 0.08 s/mol.\n",
      "Processing CHEMBL594192 in molecule.smi (758/780). Average speed: 0.08 s/mol.\n",
      "Processing CHEMBL597181 in molecule.smi (759/780). Average speed: 0.08 s/mol.\n",
      "Processing CHEMBL597754 in molecule.smi (760/780). Average speed: 0.08 s/mol.\n",
      "Processing CHEMBL597960 in molecule.smi (761/780). Average speed: 0.08 s/mol.\n",
      "Processing CHEMBL599224 in molecule.smi (762/780). Average speed: 0.08 s/mol.\n",
      "Processing CHEMBL599428 in molecule.smi (763/780). Average speed: 0.08 s/mol.\n",
      "Processing CHEMBL600795 in molecule.smi (764/780). Average speed: 0.08 s/mol.\n",
      "Processing CHEMBL602471 in molecule.smi (765/780). Average speed: 0.08 s/mol.\n",
      "Processing CHEMBL602472 in molecule.smi (766/780). Average speed: 0.08 s/mol.\n",
      "Processing CHEMBL603469 in molecule.smi (767/780). Average speed: 0.08 s/mol.\n",
      "Processing CHEMBL604263 in molecule.smi (768/780). Average speed: 0.08 s/mol.\n",
      "Processing CHEMBL604712 in molecule.smi (769/780). Average speed: 0.08 s/mol.\n",
      "Processing CHEMBL608533 in molecule.smi (770/780). Average speed: 0.08 s/mol.\n",
      "Processing CHEMBL6246 in molecule.smi (771/780). Average speed: 0.08 s/mol.\n",
      "Processing CHEMBL66 in molecule.smi (772/780). Average speed: 0.08 s/mol.\n",
      "Processing CHEMBL7602 in molecule.smi (773/780). Average speed: 0.08 s/mol.\n",
      "Processing CHEMBL7735 in molecule.smi (774/780). Average speed: 0.08 s/mol.\n",
      "Processing CHEMBL8260 in molecule.smi (775/780). Average speed: 0.08 s/mol.\n",
      "Processing CHEMBL86755 in molecule.smi (776/780). Average speed: 0.08 s/mol.\n",
      "Processing CHEMBL8996 in molecule.smi (777/780). Average speed: 0.08 s/mol.\n",
      "Processing CHEMBL9323 in molecule.smi (778/780). Average speed: 0.08 s/mol.\n",
      "Processing CHEMBL9352 in molecule.smi (779/780). Average speed: 0.08 s/mol.\n",
      "Processing CHEMBL941 in molecule.smi (780/780). Average speed: 0.08 s/mol.\n",
      "Descriptor calculation completed in 59.808 secs . Average speed: 0.08 s/mol.\n"
     ]
    }
   ],
   "source": [
    "! bash padel.sh"
   ]
  },
  {
   "cell_type": "code",
   "execution_count": null,
   "id": "4f50cfa4",
   "metadata": {},
   "outputs": [],
   "source": []
  }
 ],
 "metadata": {
  "kernelspec": {
   "display_name": "Python 3 (ipykernel)",
   "language": "python",
   "name": "python3"
  },
  "language_info": {
   "codemirror_mode": {
    "name": "ipython",
    "version": 3
   },
   "file_extension": ".py",
   "mimetype": "text/x-python",
   "name": "python",
   "nbconvert_exporter": "python",
   "pygments_lexer": "ipython3",
   "version": "3.9.12"
  }
 },
 "nbformat": 4,
 "nbformat_minor": 5
}
